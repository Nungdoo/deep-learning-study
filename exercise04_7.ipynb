{
  "nbformat": 4,
  "nbformat_minor": 0,
  "metadata": {
    "colab": {
      "name": "exercise04-7.ipynb",
      "provenance": [],
      "authorship_tag": "ABX9TyM+kzxM0B74cubGQNStzCvd",
      "include_colab_link": true
    },
    "kernelspec": {
      "name": "python3",
      "display_name": "Python 3"
    },
    "language_info": {
      "name": "python"
    }
  },
  "cells": [
    {
      "cell_type": "markdown",
      "metadata": {
        "id": "view-in-github",
        "colab_type": "text"
      },
      "source": [
        "<a href=\"https://colab.research.google.com/github/Nungdoo/deep-learning-study/blob/main/exercise04_7.ipynb\" target=\"_parent\"><img src=\"https://colab.research.google.com/assets/colab-badge.svg\" alt=\"Open In Colab\"/></a>"
      ]
    },
    {
      "cell_type": "markdown",
      "source": [
        "SGDClassifier : 사이킷런의 경사 하강법이 구현된 클래스\n",
        "1. 로지스틱 손실 함수 지정하기"
      ],
      "metadata": {
        "id": "eiR6s37YcgKf"
      }
    },
    {
      "cell_type": "code",
      "execution_count": 1,
      "metadata": {
        "id": "DipI4GsdaMr4"
      },
      "outputs": [],
      "source": [
        "from sklearn.linear_model import SGDClassifier\n",
        "sgd = SGDClassifier(loss='log', max_iter=100, tol=1e-3, random_state=42)"
      ]
    },
    {
      "cell_type": "markdown",
      "source": [
        "loss = 'log' : 손실 함수로 로지스틱 회귀 지정\n",
        "\n",
        "max_iter : 최대 반복 횟수 100회 지정\n",
        "\n",
        "tor = 1e-3 : 반복할 때마다 손실 함수의 값이 tol만큼 감소되지 않으면 반복을 중단"
      ],
      "metadata": {
        "id": "4875Vtmnc7g-"
      }
    },
    {
      "cell_type": "markdown",
      "source": [
        "2. 사이킷런으로 훈련하고 평가하기"
      ],
      "metadata": {
        "id": "3cJJwRNXdaiT"
      }
    },
    {
      "cell_type": "code",
      "source": [
        "import numpy as np\n",
        "from sklearn.datasets import load_breast_cancer\n",
        "from sklearn.model_selection import train_test_split\n",
        "\n",
        "cancer = load_breast_cancer()\n",
        "\n",
        "x = cancer.data\n",
        "y = cancer.target\n",
        "x_train, x_test, y_train, y_test = train_test_split(x, y, stratify=y, test_size=0.2, random_state=42)"
      ],
      "metadata": {
        "id": "kK1X82qZdleW"
      },
      "execution_count": 2,
      "outputs": []
    },
    {
      "cell_type": "code",
      "source": [
        "sgd.fit(x_train, y_train)\n",
        "sgd.score(x_test, y_test)"
      ],
      "metadata": {
        "colab": {
          "base_uri": "https://localhost:8080/"
        },
        "id": "5f72KB3-ddfA",
        "outputId": "fe939fdc-5e52-4ecb-bab6-438c189de90a"
      },
      "execution_count": 3,
      "outputs": [
        {
          "output_type": "execute_result",
          "data": {
            "text/plain": [
              "0.8333333333333334"
            ]
          },
          "metadata": {},
          "execution_count": 3
        }
      ]
    },
    {
      "cell_type": "markdown",
      "source": [
        "3. 사이킷런으로 예측하기"
      ],
      "metadata": {
        "id": "BJc4OfXodpV_"
      }
    },
    {
      "cell_type": "code",
      "source": [
        "sgd.predict(x_test[0:10])"
      ],
      "metadata": {
        "colab": {
          "base_uri": "https://localhost:8080/"
        },
        "id": "_hZk7ERCdvBl",
        "outputId": "33212be6-4d71-4aa1-9dc9-2e73e40a0dbf"
      },
      "execution_count": 6,
      "outputs": [
        {
          "output_type": "execute_result",
          "data": {
            "text/plain": [
              "array([0, 1, 0, 0, 0, 0, 1, 0, 0, 0])"
            ]
          },
          "metadata": {},
          "execution_count": 6
        }
      ]
    }
  ]
}