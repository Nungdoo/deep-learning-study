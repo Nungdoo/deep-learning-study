{
  "nbformat": 4,
  "nbformat_minor": 0,
  "metadata": {
    "colab": {
      "provenance": [],
      "toc_visible": true,
      "authorship_tag": "ABX9TyPEjdKLxUVRsvRNuJOGoGHM",
      "include_colab_link": true
    },
    "kernelspec": {
      "name": "python3",
      "display_name": "Python 3"
    },
    "language_info": {
      "name": "python"
    }
  },
  "cells": [
    {
      "cell_type": "markdown",
      "metadata": {
        "id": "view-in-github",
        "colab_type": "text"
      },
      "source": [
        "<a href=\"https://colab.research.google.com/github/Nungdoo/deep-learning-study/blob/main/exercise08_1%2C2%2C3.ipynb\" target=\"_parent\"><img src=\"https://colab.research.google.com/assets/colab-badge.svg\" alt=\"Open In Colab\"/></a>"
      ]
    },
    {
      "cell_type": "markdown",
      "source": [
        "# 08-1"
      ],
      "metadata": {
        "id": "PhsTH3TM3mZe"
      }
    },
    {
      "cell_type": "markdown",
      "source": [
        "합성곱 구현하기"
      ],
      "metadata": {
        "id": "zYXWssHG_Lsv"
      }
    },
    {
      "cell_type": "code",
      "execution_count": 2,
      "metadata": {
        "colab": {
          "base_uri": "https://localhost:8080/"
        },
        "id": "SjkoE33E_Ixo",
        "outputId": "64a145da-057e-4810-ade6-e29d2d47ef20"
      },
      "outputs": [
        {
          "output_type": "stream",
          "name": "stdout",
          "text": [
            "w_r : [3 5 1 2]\n",
            "63\n",
            "48\n",
            "49\n",
            "28\n",
            "21\n",
            "20\n"
          ]
        },
        {
          "output_type": "execute_result",
          "data": {
            "text/plain": [
              "array([63, 48, 49, 28, 21, 20])"
            ]
          },
          "metadata": {},
          "execution_count": 2
        }
      ],
      "source": [
        "import numpy as np\n",
        "\n",
        "w = np.array([2, 1, 5, 3])\n",
        "x = np.array([2, 8, 3, 7, 1, 2, 0, 4, 5])\n",
        "\n",
        "w_r = np.flip(w)\n",
        "print('w_r :', w_r)\n",
        "\n",
        "for i in range(6):\n",
        "  print(np.dot(x[i:i+4], w_r))\n",
        "\n",
        "from scipy.signal import convolve\n",
        "convolve(x, w, mode='valid')\n",
        "\n"
      ]
    },
    {
      "cell_type": "markdown",
      "source": [
        "교차 상관 연산 구현하기"
      ],
      "metadata": {
        "id": "H6smWh4tA-f1"
      }
    },
    {
      "cell_type": "code",
      "source": [
        "from scipy.signal import correlate\n",
        "\n",
        "# 밸리드 패딩\n",
        "print(correlate(x, w, mode='valid'))\n",
        "\n",
        "# 풀 패딩\n",
        "print(correlate(x, w, mode='full'))\n",
        "\n",
        "# 세임 패딩\n",
        "print(correlate(x, w, mode='same'))"
      ],
      "metadata": {
        "colab": {
          "base_uri": "https://localhost:8080/"
        },
        "id": "SCoBu5ovBAo5",
        "outputId": "8de67bc3-fb28-4ed0-e5a3-29bad9e5335a"
      },
      "execution_count": 4,
      "outputs": [
        {
          "output_type": "stream",
          "name": "stdout",
          "text": [
            "[48 57 24 25 16 39]\n",
            "[ 6 34 51 48 57 24 25 16 39 29 13 10]\n",
            "[34 51 48 57 24 25 16 39 29]\n"
          ]
        }
      ]
    },
    {
      "cell_type": "markdown",
      "source": [
        "2차원 배열의 합성곱"
      ],
      "metadata": {
        "id": "oP85ICAxvesd"
      }
    },
    {
      "cell_type": "code",
      "source": [
        "x = np.array([[1, 2, 3],\n",
        "              [4, 5, 6],\n",
        "              [7, 8, 9]])\n",
        "w = np.array([[2, 0], [0, 0]])\n",
        "\n",
        "from scipy.signal import correlate2d\n",
        "\n",
        "# 밸리드 패딩\n",
        "print(correlate2d(x, w, mode='valid'))\n",
        "\n",
        "# 세임 패딩\n",
        "print(correlate2d(x, w, mode='same'))"
      ],
      "metadata": {
        "colab": {
          "base_uri": "https://localhost:8080/"
        },
        "id": "lNWZyi9Tvguk",
        "outputId": "469da8b3-98d9-4ccf-fe0a-7bd0f8f6f9c5"
      },
      "execution_count": 6,
      "outputs": [
        {
          "output_type": "stream",
          "name": "stdout",
          "text": [
            "[[ 2  4]\n",
            " [ 8 10]]\n",
            "[[ 2  4  6]\n",
            " [ 8 10 12]\n",
            " [14 16 18]]\n"
          ]
        }
      ]
    },
    {
      "cell_type": "markdown",
      "source": [
        "텐서플로로 합성곱 수행\n",
        "- reshape() 2차원 > 4차원 변경\n",
        "- astype() 실수형 데이터로 변경\n",
        "- conv2d()는 다차원 배열인 Tensor 객체를 반환함\n",
        "- Tensor 객체의 numpy() 함수를 이용해 넘파이 배열로 변환"
      ],
      "metadata": {
        "id": "dCAhwTt4woR9"
      }
    },
    {
      "cell_type": "code",
      "source": [
        "import tensorflow as tf\n",
        "import numpy as np\n",
        "\n",
        "x_4d = x.astype(np.float).reshape(1, 3, 3, 1)\n",
        "w_4d = w.reshape(2, 2, 1, 1)\n",
        "\n",
        "c_out = tf.nn.conv2d(x_4d, w_4d, strides=1, padding='SAME')\n",
        "c_out.numpy().reshape(3, 3)"
      ],
      "metadata": {
        "colab": {
          "base_uri": "https://localhost:8080/"
        },
        "id": "LEi1E2DY0MXc",
        "outputId": "1b656314-302e-42b0-a5e3-a7644bddbb46"
      },
      "execution_count": 12,
      "outputs": [
        {
          "output_type": "stream",
          "name": "stderr",
          "text": [
            "/usr/local/lib/python3.7/dist-packages/ipykernel_launcher.py:4: DeprecationWarning: `np.float` is a deprecated alias for the builtin `float`. To silence this warning, use `float` by itself. Doing this will not modify any behavior and is safe. If you specifically wanted the numpy scalar type, use `np.float64` here.\n",
            "Deprecated in NumPy 1.20; for more details and guidance: https://numpy.org/devdocs/release/1.20.0-notes.html#deprecations\n",
            "  after removing the cwd from sys.path.\n"
          ]
        },
        {
          "output_type": "execute_result",
          "data": {
            "text/plain": [
              "array([[ 2.,  4.,  6.],\n",
              "       [ 8., 10., 12.],\n",
              "       [14., 16., 18.]])"
            ]
          },
          "metadata": {},
          "execution_count": 12
        }
      ]
    },
    {
      "cell_type": "markdown",
      "source": [
        "# 08-2"
      ],
      "metadata": {
        "id": "ucxazfd-3r-c"
      }
    },
    {
      "cell_type": "markdown",
      "source": [
        "최대 풀링"
      ],
      "metadata": {
        "id": "mp7Er-6s5snF"
      }
    },
    {
      "cell_type": "code",
      "source": [
        "x = np.array([[1, 2, 3, 4],\n",
        "              [5, 6, 7, 8],\n",
        "              [9, 10, 11, 12],\n",
        "              [13, 14, 15, 16]])\n",
        "x = x.reshape(1, 4, 4, 1)\n",
        "\n",
        "p_out = tf.nn.max_pool2d(x, ksize=2, strides=2, padding='VALID')\n",
        "p_out.numpy().reshape(2, 2)"
      ],
      "metadata": {
        "colab": {
          "base_uri": "https://localhost:8080/"
        },
        "id": "GMwELGfI5uuP",
        "outputId": "584c23a4-da76-48d9-ad89-2d11b3c019dc"
      },
      "execution_count": 13,
      "outputs": [
        {
          "output_type": "execute_result",
          "data": {
            "text/plain": [
              "array([[ 6.,  8.],\n",
              "       [14., 16.]], dtype=float32)"
            ]
          },
          "metadata": {},
          "execution_count": 13
        }
      ]
    },
    {
      "cell_type": "markdown",
      "source": [
        "# 08-3"
      ],
      "metadata": {
        "id": "JY7ca-7A7GOQ"
      }
    },
    {
      "cell_type": "markdown",
      "source": [
        "렐루 함수 구현하기"
      ],
      "metadata": {
        "id": "N-m9W9qb7IRL"
      }
    },
    {
      "cell_type": "code",
      "source": [
        "def relu_test(x):\n",
        "  return np.maximum(x, 0)\n",
        "\n",
        "x = np.array([-1, 2, -3, 4, -5])\n",
        "print(relu_test(x))\n",
        "\n",
        "r_out = tf.nn.relu(x)\n",
        "print(r_out.numpy())"
      ],
      "metadata": {
        "colab": {
          "base_uri": "https://localhost:8080/"
        },
        "id": "5GJXctGi7JlF",
        "outputId": "640adbac-2ed9-4057-a7ba-baa9742230c9"
      },
      "execution_count": 17,
      "outputs": [
        {
          "output_type": "stream",
          "name": "stdout",
          "text": [
            "[0 2 0 4 0]\n",
            "[0 2 0 4 0]\n"
          ]
        }
      ]
    }
  ]
}