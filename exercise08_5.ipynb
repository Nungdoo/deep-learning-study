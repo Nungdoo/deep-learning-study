{
  "nbformat": 4,
  "nbformat_minor": 0,
  "metadata": {
    "colab": {
      "provenance": [],
      "toc_visible": true,
      "authorship_tag": "ABX9TyM613k4JPSrhassu64IUpgB",
      "include_colab_link": true
    },
    "kernelspec": {
      "name": "python3",
      "display_name": "Python 3"
    },
    "language_info": {
      "name": "python"
    }
  },
  "cells": [
    {
      "cell_type": "markdown",
      "metadata": {
        "id": "view-in-github",
        "colab_type": "text"
      },
      "source": [
        "<a href=\"https://colab.research.google.com/github/Nungdoo/deep-learning-study/blob/main/exercise08_5.ipynb\" target=\"_parent\"><img src=\"https://colab.research.google.com/assets/colab-badge.svg\" alt=\"Open In Colab\"/></a>"
      ]
    },
    {
      "cell_type": "markdown",
      "source": [
        "# 케라스로 합성곱 신경망 구현하기"
      ],
      "metadata": {
        "id": "Ibr7xag__23r"
      }
    },
    {
      "cell_type": "code",
      "execution_count": 12,
      "metadata": {
        "colab": {
          "base_uri": "https://localhost:8080/"
        },
        "id": "Mb0KRqqi_v08",
        "outputId": "4d9a19ad-8fba-4c4b-d131-e825a4102300"
      },
      "outputs": [
        {
          "output_type": "stream",
          "name": "stdout",
          "text": [
            "Model: \"sequential_4\"\n",
            "_________________________________________________________________\n",
            " Layer (type)                Output Shape              Param #   \n",
            "=================================================================\n",
            " conv2d_3 (Conv2D)           (None, 28, 28, 10)        100       \n",
            "                                                                 \n",
            " max_pooling2d (MaxPooling2D  (None, 14, 14, 10)       0         \n",
            " )                                                               \n",
            "                                                                 \n",
            " flatten (Flatten)           (None, 1960)              0         \n",
            "                                                                 \n",
            " dense (Dense)               (None, 100)               196100    \n",
            "                                                                 \n",
            " dense_1 (Dense)             (None, 10)                1010      \n",
            "                                                                 \n",
            "=================================================================\n",
            "Total params: 197,210\n",
            "Trainable params: 197,210\n",
            "Non-trainable params: 0\n",
            "_________________________________________________________________\n"
          ]
        }
      ],
      "source": [
        "import tensorflow as tf\n",
        "from tensorflow.keras.layers import Conv2D, MaxPooling2D, Flatten, Dense\n",
        "\n",
        "'''\n",
        "  합성곱층 쌓기\n",
        "  합성곱 커널의 개수 : 10\n",
        "  합성곱 커널의 크기\n",
        "  활성화 함수 relu\n",
        "  세임 패딩 지정\n",
        "  배치 차원을 제외한 입력의 크기 지정\n",
        "'''\n",
        "conv1 = tf.keras.models.Sequential()\n",
        "conv1.add(Conv2D(10, (3, 3), activation='relu', padding='same', input_shape=(28, 28, 1)))\n",
        "\n",
        "\n",
        "'''\n",
        "  풀링층 쌓기\n",
        "  풀링의 높이 2, 너비 2\n",
        "  스트라이드는 기본값으로 풀링의 크기로 지정\n",
        "  패딩은 기본값으로 valid 지정\n",
        "'''\n",
        "conv1.add(MaxPooling2D((2, 2)))\n",
        "\n",
        "'''\n",
        "  특성맵 펼치기\n",
        "  완전 연결층에 연결하기 위해 배치 차원을 제외하고 펼침\n",
        "'''\n",
        "conv1.add(Flatten())\n",
        "\n",
        "# 완전 연결층 쌓기\n",
        "conv1.add(Dense(100, activation='relu'))\n",
        "conv1.add(Dense(10, activation='softmax'))\n",
        "\n",
        "conv1.summary()"
      ]
    },
    {
      "cell_type": "markdown",
      "source": [
        "- 훈련할 때 전달되는 샘플 개수에 따라 배치 입력 개수가 달라지므로 배치 차원 None\n",
        "- 모델 파라미터의 개수 = 전체 가중치의 크기와 커널마다 하나씩 절편 추가 (3X3X1X10 + 10 = 100)\n",
        "- 풀링층과 펼치는 flatten에는 가중치 없음\n",
        "- 첫 번째 완전연결층에는 14X14X10 = 1,960의 입력이 100개의 뉴런에 전달됨\n",
        "- 뉴런마다 가중치가 있으므로 첫 번째 완전연결층의 가중치 개수는 196,000 + 100 = 196,100\n"
      ],
      "metadata": {
        "id": "UI4YcN5hEhaf"
      }
    },
    {
      "cell_type": "markdown",
      "source": [
        "# 케라스로 합성곱 신경망 모델 훈련하기"
      ],
      "metadata": {
        "id": "gGmDYNvYFolH"
      }
    },
    {
      "cell_type": "code",
      "source": [
        "# 데이터 세트 불러오기\n",
        "(x_train_all, y_train_all), (x_test, y_test) = tf.keras.datasets.fashion_mnist.load_data()\n",
        "\n",
        "# 훈련 세트와 검증 세트로 나누기\n",
        "from sklearn.model_selection import train_test_split\n",
        "x_train, x_val, y_train, y_val = train_test_split(x_train_all, y_train_all, stratify=y_train_all, test_size=0.2, random_state=42)\n",
        "\n",
        "# 타깃을 원-핫 인코딩으로 변환\n",
        "y_train_encoded = tf.keras.utils.to_categorical(y_train)\n",
        "y_val_encoded = tf.keras.utils.to_categorical(y_val)\n",
        "\n",
        "# 입력 데이터 준비하기 (일렬로 펼칠 필요 없음, 컬러 채널만 추가)\n",
        "x_train = x_train.reshape(-1, 28, 28, 1)\n",
        "x_val = x_val.reshape(-1, 28, 28, 1)\n",
        "print(x_train.shape)\n",
        "\n",
        "# 입력 데이터 표준화 전처리\n",
        "x_train = x_train / 255\n",
        "x_val = x_val / 255"
      ],
      "metadata": {
        "colab": {
          "base_uri": "https://localhost:8080/"
        },
        "id": "l8PUlfb1GtZ5",
        "outputId": "99a9c756-dc34-45d7-c447-5fcba121edb9"
      },
      "execution_count": 15,
      "outputs": [
        {
          "output_type": "stream",
          "name": "stdout",
          "text": [
            "(48000, 28, 28, 1)\n"
          ]
        }
      ]
    },
    {
      "cell_type": "code",
      "source": [
        "'''\n",
        "  최적화 알고리즘으로 아담 옵티마이저 사용\n",
        "  - Adaptive Moment Estimation 적응적 학습률 알고리즘\n",
        "  - 손실 함수의 값이 최적값에 가까워질수록 학습률을 낮춰 손실 함수의 값이 안정적으로 수렴될 수 있게 함\n",
        "  다중 분류를 위한 크로스 엔트로피 손실 함수 사용\n",
        "  정확도를 관찰하기 위해 accuracy 전달\n",
        "'''\n",
        "# 모델 컴파일\n",
        "conv1.compile(optimizer='adam', loss='categorical_crossentropy', metrics=['accuracy'])\n",
        "\n",
        "# 모델 훈련하기\n",
        "history = conv1.fit(x_train, y_train_encoded, epochs=20, validation_data=(x_val, y_val_encoded))"
      ],
      "metadata": {
        "id": "dOXmYes6BN31",
        "colab": {
          "base_uri": "https://localhost:8080/"
        },
        "outputId": "5ebb8a28-8ef4-4a72-d4f8-f9b1c5d5bd19"
      },
      "execution_count": 16,
      "outputs": [
        {
          "output_type": "stream",
          "name": "stdout",
          "text": [
            "Epoch 1/20\n",
            "1500/1500 [==============================] - 16s 10ms/step - loss: 0.4638 - accuracy: 0.8351 - val_loss: 0.3401 - val_accuracy: 0.8851\n",
            "Epoch 2/20\n",
            "1500/1500 [==============================] - 15s 10ms/step - loss: 0.3206 - accuracy: 0.8857 - val_loss: 0.3167 - val_accuracy: 0.8856\n",
            "Epoch 3/20\n",
            "1500/1500 [==============================] - 15s 10ms/step - loss: 0.2738 - accuracy: 0.9020 - val_loss: 0.2739 - val_accuracy: 0.9041\n",
            "Epoch 4/20\n",
            "1500/1500 [==============================] - 22s 15ms/step - loss: 0.2421 - accuracy: 0.9113 - val_loss: 0.2597 - val_accuracy: 0.9064\n",
            "Epoch 5/20\n",
            "1500/1500 [==============================] - 16s 11ms/step - loss: 0.2153 - accuracy: 0.9215 - val_loss: 0.2553 - val_accuracy: 0.9107\n",
            "Epoch 6/20\n",
            "1500/1500 [==============================] - 15s 10ms/step - loss: 0.1891 - accuracy: 0.9295 - val_loss: 0.2554 - val_accuracy: 0.9107\n",
            "Epoch 7/20\n",
            "1500/1500 [==============================] - 15s 10ms/step - loss: 0.1690 - accuracy: 0.9372 - val_loss: 0.2363 - val_accuracy: 0.9178\n",
            "Epoch 8/20\n",
            "1500/1500 [==============================] - 15s 10ms/step - loss: 0.1510 - accuracy: 0.9438 - val_loss: 0.2411 - val_accuracy: 0.9178\n",
            "Epoch 9/20\n",
            "1500/1500 [==============================] - 15s 10ms/step - loss: 0.1343 - accuracy: 0.9510 - val_loss: 0.2488 - val_accuracy: 0.9168\n",
            "Epoch 10/20\n",
            "1500/1500 [==============================] - 15s 10ms/step - loss: 0.1208 - accuracy: 0.9548 - val_loss: 0.2566 - val_accuracy: 0.9193\n",
            "Epoch 11/20\n",
            "1500/1500 [==============================] - 16s 10ms/step - loss: 0.1067 - accuracy: 0.9610 - val_loss: 0.2649 - val_accuracy: 0.9164\n",
            "Epoch 12/20\n",
            "1500/1500 [==============================] - 15s 10ms/step - loss: 0.0954 - accuracy: 0.9650 - val_loss: 0.2826 - val_accuracy: 0.9164\n",
            "Epoch 13/20\n",
            "1500/1500 [==============================] - 15s 10ms/step - loss: 0.0833 - accuracy: 0.9701 - val_loss: 0.2908 - val_accuracy: 0.9188\n",
            "Epoch 14/20\n",
            "1500/1500 [==============================] - 15s 10ms/step - loss: 0.0747 - accuracy: 0.9728 - val_loss: 0.2998 - val_accuracy: 0.9178\n",
            "Epoch 15/20\n",
            "1500/1500 [==============================] - 15s 10ms/step - loss: 0.0679 - accuracy: 0.9754 - val_loss: 0.3143 - val_accuracy: 0.9200\n",
            "Epoch 16/20\n",
            "1500/1500 [==============================] - 15s 10ms/step - loss: 0.0582 - accuracy: 0.9794 - val_loss: 0.3391 - val_accuracy: 0.9148\n",
            "Epoch 17/20\n",
            "1500/1500 [==============================] - 15s 10ms/step - loss: 0.0533 - accuracy: 0.9810 - val_loss: 0.3547 - val_accuracy: 0.9140\n",
            "Epoch 18/20\n",
            "1500/1500 [==============================] - 15s 10ms/step - loss: 0.0477 - accuracy: 0.9832 - val_loss: 0.3618 - val_accuracy: 0.9158\n",
            "Epoch 19/20\n",
            "1500/1500 [==============================] - 15s 10ms/step - loss: 0.0415 - accuracy: 0.9854 - val_loss: 0.3827 - val_accuracy: 0.9153\n",
            "Epoch 20/20\n",
            "1500/1500 [==============================] - 15s 10ms/step - loss: 0.0370 - accuracy: 0.9872 - val_loss: 0.4073 - val_accuracy: 0.9103\n"
          ]
        }
      ]
    },
    {
      "cell_type": "code",
      "source": [
        "import matplotlib.pyplot as plt\n",
        "\n",
        "plt.plot(history.history['loss'])\n",
        "plt.plot(history.history['val_loss'])\n",
        "plt.ylabel('loss')\n",
        "plt.xlabel('epoch')\n",
        "plt.legend(['train_loss', 'val_loss'])\n",
        "plt.show()"
      ],
      "metadata": {
        "colab": {
          "base_uri": "https://localhost:8080/",
          "height": 279
        },
        "id": "hbNlPkDtHRKM",
        "outputId": "5c76aea4-1c26-49d7-9f40-d726c7f06eb0"
      },
      "execution_count": 17,
      "outputs": [
        {
          "output_type": "display_data",
          "data": {
            "text/plain": [
              "<Figure size 432x288 with 1 Axes>"
            ],
            "image/png": "[encoded data removed]"
          },
          "metadata": {
            "needs_background": "light"
          }
        }
      ]
    },
    {
      "cell_type": "code",
      "source": [
        "plt.plot(history.history['accuracy'])\n",
        "plt.plot(history.history['val_accuracy'])\n",
        "plt.ylabel('accuracy')\n",
        "plt.xlabel('epoch')\n",
        "plt.legend(['train_accuracy', 'val_accuracy'])\n",
        "plt.show()"
      ],
      "metadata": {
        "colab": {
          "base_uri": "https://localhost:8080/",
          "height": 279
        },
        "id": "DVwEFOI3HcIu",
        "outputId": "396ecd75-190d-4439-ee51-6e46b41321e8"
      },
      "execution_count": 18,
      "outputs": [
        {
          "output_type": "display_data",
          "data": {
            "text/plain": [
              "<Figure size 432x288 with 1 Axes>"
            ],
            "image/png": "[encoded data removed]"
          },
          "metadata": {
            "needs_background": "light"
          }
        }
      ]
    },
    {
      "cell_type": "markdown",
      "source": [
        "# 드롭아웃 적용"
      ],
      "metadata": {
        "id": "5yhQSTuxQMZ0"
      }
    },
    {
      "cell_type": "markdown",
      "source": [
        "검증 손실이 크게 증가해버림 > 과대 적합이 발생했음을 의미\n",
        "\n",
        "**드롭아웃**\n",
        "\n",
        "- 무작위로 일부 뉴런을 비활성화\n",
        "- 특정 뉴런에 과도하게 의존하여 훈련하는 것을 방지\n",
        "- 모델을 훈련시킬 때만 적용하는 기법, 테스트나 실전에는 적용하지 않음\n",
        "- 상대적으로 훈련 시 출력값이 적어지므로, 텐서플로에서는 훈련 시 드롭아웃 비율만큼 뉴런의 출력을 높여 훈련시킴"
      ],
      "metadata": {
        "id": "6iSbt88GJHHk"
      }
    },
    {
      "cell_type": "code",
      "source": [
        "# 데이터 세트 불러오기\n",
        "(x_train_all, y_train_all), (x_test, y_test) = tf.keras.datasets.fashion_mnist.load_data()\n",
        "\n",
        "# 훈련 세트와 검증 세트로 나누기\n",
        "from sklearn.model_selection import train_test_split\n",
        "x_train, x_val, y_train, y_val = train_test_split(x_train_all, y_train_all, stratify=y_train_all, test_size=0.2, random_state=42)\n",
        "\n",
        "# 타깃을 원-핫 인코딩으로 변환\n",
        "y_train_encoded = tf.keras.utils.to_categorical(y_train)\n",
        "y_val_encoded = tf.keras.utils.to_categorical(y_val)\n",
        "\n",
        "# 입력 데이터 준비하기 (일렬로 펼칠 필요 없음, 컬러 채널만 추가)\n",
        "x_train = x_train.reshape(-1, 28, 28, 1)\n",
        "x_val = x_val.reshape(-1, 28, 28, 1)\n",
        "print(x_train.shape)\n",
        "\n",
        "# 입력 데이터 표준화 전처리\n",
        "x_train = x_train / 255\n",
        "x_val = x_val / 255"
      ],
      "metadata": {
        "colab": {
          "base_uri": "https://localhost:8080/"
        },
        "id": "iK952aWaPhCC",
        "outputId": "90f67be7-f779-49c6-ae30-bad0f17c02ba"
      },
      "execution_count": 23,
      "outputs": [
        {
          "output_type": "stream",
          "name": "stdout",
          "text": [
            "(48000, 28, 28, 1)\n"
          ]
        }
      ]
    },
    {
      "cell_type": "code",
      "source": [
        "from tensorflow.keras.layers import Dropout\n",
        "\n",
        "conv2 = tf.keras.models.Sequential()\n",
        "conv2.add(Conv2D(10, (3, 3), activation='relu', padding='same', input_shape=(28, 28, 1)))\n",
        "\n",
        "\n",
        "# 풀링층 쌓기\n",
        "conv2.add(MaxPooling2D((2, 2)))\n",
        "\n",
        "# 특성맵 펼치기\n",
        "conv2.add(Flatten())\n",
        "\n",
        "# 드롭아웃 적용\n",
        "conv2.add(Dropout(0.5))\n",
        "\n",
        "# 완전 연결층 쌓기\n",
        "conv2.add(Dense(100, activation='relu'))\n",
        "conv2.add(Dense(10, activation='softmax'))\n",
        "\n",
        "conv2.summary()"
      ],
      "metadata": {
        "colab": {
          "base_uri": "https://localhost:8080/"
        },
        "id": "G1wSTRJkOihN",
        "outputId": "d0809470-c0b4-4ce0-b7de-be10e3883c5f"
      },
      "execution_count": 24,
      "outputs": [
        {
          "output_type": "stream",
          "name": "stdout",
          "text": [
            "Model: \"sequential_6\"\n",
            "_________________________________________________________________\n",
            " Layer (type)                Output Shape              Param #   \n",
            "=================================================================\n",
            " conv2d_5 (Conv2D)           (None, 28, 28, 10)        100       \n",
            "                                                                 \n",
            " max_pooling2d_2 (MaxPooling  (None, 14, 14, 10)       0         \n",
            " 2D)                                                             \n",
            "                                                                 \n",
            " flatten_2 (Flatten)         (None, 1960)              0         \n",
            "                                                                 \n",
            " dropout_1 (Dropout)         (None, 1960)              0         \n",
            "                                                                 \n",
            " dense_4 (Dense)             (None, 100)               196100    \n",
            "                                                                 \n",
            " dense_5 (Dense)             (None, 10)                1010      \n",
            "                                                                 \n",
            "=================================================================\n",
            "Total params: 197,210\n",
            "Trainable params: 197,210\n",
            "Non-trainable params: 0\n",
            "_________________________________________________________________\n"
          ]
        }
      ]
    },
    {
      "cell_type": "markdown",
      "source": [
        "- 드롭아웃 층에도 가중치가 없음\n",
        "- 단순히 일부 뉴런의 출력을 무작위로 0으로 만들고, 나머지 뉴런의 출력을 드롭되지 않은 비율로 나누어 증가시킴"
      ],
      "metadata": {
        "id": "5tvUMbMCPHMc"
      }
    },
    {
      "cell_type": "code",
      "source": [
        "# 모델 컴파일\n",
        "conv2.compile(optimizer='adam', loss='categorical_crossentropy', metrics=['accuracy'])\n",
        "\n",
        "# 모델 훈련하기\n",
        "history = conv2.fit(x_train, y_train_encoded, epochs=20, validation_data=(x_val, y_val_encoded))"
      ],
      "metadata": {
        "colab": {
          "base_uri": "https://localhost:8080/"
        },
        "id": "Kbfez7ynPRUc",
        "outputId": "127d17a3-c014-4470-f69f-d90563b85bf4"
      },
      "execution_count": 25,
      "outputs": [
        {
          "output_type": "stream",
          "name": "stdout",
          "text": [
            "Epoch 1/20\n",
            "1500/1500 [==============================] - 16s 10ms/step - loss: 0.5212 - accuracy: 0.8138 - val_loss: 0.3501 - val_accuracy: 0.8778\n",
            "Epoch 2/20\n",
            "1500/1500 [==============================] - 15s 10ms/step - loss: 0.3828 - accuracy: 0.8619 - val_loss: 0.3105 - val_accuracy: 0.8885\n",
            "Epoch 3/20\n",
            "1500/1500 [==============================] - 15s 10ms/step - loss: 0.3402 - accuracy: 0.8748 - val_loss: 0.2964 - val_accuracy: 0.8923\n",
            "Epoch 4/20\n",
            "1500/1500 [==============================] - 15s 10ms/step - loss: 0.3156 - accuracy: 0.8837 - val_loss: 0.2746 - val_accuracy: 0.8998\n",
            "Epoch 5/20\n",
            "1500/1500 [==============================] - 15s 10ms/step - loss: 0.2935 - accuracy: 0.8910 - val_loss: 0.2638 - val_accuracy: 0.9055\n",
            "Epoch 6/20\n",
            "1500/1500 [==============================] - 15s 10ms/step - loss: 0.2753 - accuracy: 0.8992 - val_loss: 0.2526 - val_accuracy: 0.9084\n",
            "Epoch 7/20\n",
            "1500/1500 [==============================] - 18s 12ms/step - loss: 0.2614 - accuracy: 0.9026 - val_loss: 0.2521 - val_accuracy: 0.9099\n",
            "Epoch 8/20\n",
            "1500/1500 [==============================] - 15s 10ms/step - loss: 0.2523 - accuracy: 0.9054 - val_loss: 0.2429 - val_accuracy: 0.9137\n",
            "Epoch 9/20\n",
            "1500/1500 [==============================] - 15s 10ms/step - loss: 0.2434 - accuracy: 0.9094 - val_loss: 0.2445 - val_accuracy: 0.9136\n",
            "Epoch 10/20\n",
            "1500/1500 [==============================] - 15s 10ms/step - loss: 0.2326 - accuracy: 0.9120 - val_loss: 0.2360 - val_accuracy: 0.9162\n",
            "Epoch 11/20\n",
            "1500/1500 [==============================] - 15s 10ms/step - loss: 0.2249 - accuracy: 0.9170 - val_loss: 0.2394 - val_accuracy: 0.9158\n",
            "Epoch 12/20\n",
            "1500/1500 [==============================] - 15s 10ms/step - loss: 0.2181 - accuracy: 0.9169 - val_loss: 0.2360 - val_accuracy: 0.9168\n",
            "Epoch 13/20\n",
            "1500/1500 [==============================] - 15s 10ms/step - loss: 0.2100 - accuracy: 0.9219 - val_loss: 0.2359 - val_accuracy: 0.9174\n",
            "Epoch 14/20\n",
            "1500/1500 [==============================] - 15s 10ms/step - loss: 0.2065 - accuracy: 0.9211 - val_loss: 0.2392 - val_accuracy: 0.9134\n",
            "Epoch 15/20\n",
            "1500/1500 [==============================] - 15s 10ms/step - loss: 0.1998 - accuracy: 0.9253 - val_loss: 0.2317 - val_accuracy: 0.9192\n",
            "Epoch 16/20\n",
            "1500/1500 [==============================] - 15s 10ms/step - loss: 0.1954 - accuracy: 0.9262 - val_loss: 0.2342 - val_accuracy: 0.9183\n",
            "Epoch 17/20\n",
            "1500/1500 [==============================] - 15s 10ms/step - loss: 0.1959 - accuracy: 0.9260 - val_loss: 0.2296 - val_accuracy: 0.9202\n",
            "Epoch 18/20\n",
            "1500/1500 [==============================] - 15s 10ms/step - loss: 0.1871 - accuracy: 0.9292 - val_loss: 0.2436 - val_accuracy: 0.9145\n",
            "Epoch 19/20\n",
            "1500/1500 [==============================] - 15s 10ms/step - loss: 0.1839 - accuracy: 0.9312 - val_loss: 0.2364 - val_accuracy: 0.9192\n",
            "Epoch 20/20\n",
            "1500/1500 [==============================] - 15s 10ms/step - loss: 0.1839 - accuracy: 0.9305 - val_loss: 0.2484 - val_accuracy: 0.9164\n"
          ]
        }
      ]
    },
    {
      "cell_type": "code",
      "source": [
        "import matplotlib.pyplot as plt\n",
        "\n",
        "plt.plot(history.history['loss'])\n",
        "plt.plot(history.history['val_loss'])\n",
        "plt.ylabel('loss')\n",
        "plt.xlabel('epoch')\n",
        "plt.legend(['train_loss', 'val_loss'])\n",
        "plt.show()\n",
        "\n",
        "plt.plot(history.history['accuracy'])\n",
        "plt.plot(history.history['val_accuracy'])\n",
        "plt.ylabel('accuracy')\n",
        "plt.xlabel('epoch')\n",
        "plt.legend(['train_accuracy', 'val_accuracy'])\n",
        "plt.show()"
      ],
      "metadata": {
        "colab": {
          "base_uri": "https://localhost:8080/",
          "height": 541
        },
        "id": "rFUYnrcEQQd5",
        "outputId": "fab5c914-0803-485e-a563-17585f1faf6e"
      },
      "execution_count": 26,
      "outputs": [
        {
          "output_type": "display_data",
          "data": {
            "text/plain": [
              "<Figure size 432x288 with 1 Axes>"
            ],
            "image/png": "[encoded data removed]"
          },
          "metadata": {
            "needs_background": "light"
          }
        },
        {
          "output_type": "display_data",
          "data": {
            "text/plain": [
              "<Figure size 432x288 with 1 Axes>"
            ],
            "image/png": "[encoded data removed]"
          },
          "metadata": {
            "needs_background": "light"
          }
        }
      ]
    },
    {
      "cell_type": "markdown",
      "source": [
        "검증 손실이 증가하는 에포크가 늦어지고 훈련 손실과의 차이도 줄어듬\n",
        "\n",
        "정확도도 미세하게 증가함"
      ],
      "metadata": {
        "id": "N_9rQ90JRKhh"
      }
    }
  ]
}