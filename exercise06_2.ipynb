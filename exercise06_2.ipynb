{
  "nbformat": 4,
  "nbformat_minor": 0,
  "metadata": {
    "colab": {
      "provenance": [],
      "collapsed_sections": [],
      "authorship_tag": "ABX9TyPguCE1uJx03glrmlcVOrMy",
      "include_colab_link": true
    },
    "kernelspec": {
      "name": "python3",
      "display_name": "Python 3"
    },
    "language_info": {
      "name": "python"
    }
  },
  "cells": [
    {
      "cell_type": "markdown",
      "metadata": {
        "id": "view-in-github",
        "colab_type": "text"
      },
      "source": [
        "<a href=\"https://colab.research.google.com/github/Nungdoo/deep-learning-study/blob/main/exercise06_2.ipynb\" target=\"_parent\"><img src=\"https://colab.research.google.com/assets/colab-badge.svg\" alt=\"Open In Colab\"/></a>"
      ]
    },
    {
      "cell_type": "markdown",
      "source": [
        "SingleLayer 클래스를 상속하여 DualLayer 클래스 만들기"
      ],
      "metadata": {
        "id": "lLEPs_6M3R5K"
      }
    },
    {
      "cell_type": "code",
      "source": [
        "class SingleLayer:\n",
        "\n",
        "  def __init__(self, learning_rate=0.1, l1=0, l2=0):\n",
        "    self.w = None           # 가중치\n",
        "    self.b = None           # 절편\n",
        "    self.losses = []        # 훈련 손실\n",
        "    self.val_losses = []    # 검증 손실\n",
        "    self.w_history = []     # 가중치 기록\n",
        "    self.lr = learning_rate # 학습률\n",
        "    self.l1 = l1            # L1 손실\n",
        "    self.l2 = l2            # L2 손실\n",
        "\n",
        "  def forpass(self, x):\n",
        "    z = np.dot(x, self.w) + self.b   ### 선형 출력을 계산합니다.\n",
        "    return z\n",
        "\n",
        "  def backprop(self, x, err):\n",
        "    m = len(x)                        ### 샘플 개수를 저장합니다.\n",
        "    w_grad = np.dot(x.T, err) / m     ### 가중치에 대한 평균 그레이디언트를 계산합니다.\n",
        "    b_grad = np.sum(err) / m          ### 절편에 대한 평균 그레이디언트를 계산합니다.\n",
        "    return w_grad, b_grad\n",
        "\n",
        "  def activation(self, z):\n",
        "    z = np.clip(z, -100, None)\n",
        "    a = 1 / (1 + np.exp(-z))\n",
        "    return a\n",
        "\n",
        "  def fit(self, x, y, epochs=100, x_val=None, y_val=None):\n",
        "    y = y.reshape(-1, 1)                                  ### 타깃을 열 벡터로 바꿉니다.\n",
        "    y_val = y_val.reshape(-1, 1)                          ### 검증용 타깃을 열 벡터로 바꿉니다.\n",
        "    m = len(x)                                            ### 샘플 개수를 저장합니다.\n",
        "    \n",
        "    # 초기화\n",
        "    self.w = np.ones((x.shape[1], 1))\n",
        "    self.b = 0\n",
        "\n",
        "    self.w_history.append(self.w.copy())\n",
        "    for i in range(epochs):\n",
        "      z = self.forpass(x)                                 # 정방향 계산을 수행합니다.\n",
        "      a = self.activation(z)                              # 활성화 함수를 적용합니다.\n",
        "      err = -(y - a)                                      # 오차를 계산합니다.\n",
        "      \n",
        "      # 오차를 역전파하여 그레이디언트를 계산합니다.\n",
        "      w_grad, b_grad = self.backprop(x, err)\n",
        "      ### 그레이디언트에서 페널티 항의 미분값을 더합니다.\n",
        "      w_grad += (self.l1 * np.sign(self.w) + self.l2 * self.w) / m\n",
        "      # 가중치와 절편을 업데이트합니다.\n",
        "      self.w -= self.lr * w_grad\n",
        "      self.b -= self.lr * b_grad\n",
        "      # 가중치를 기록합니다.\n",
        "      self.w_history.append(self.w.copy())\n",
        "      # 안전한 로그 계산을 위해 클리핑합니다.\n",
        "      a = np.clip(a, 1e-10, 1-1e-10)\n",
        "      # 로그 손실과 규제 손실을 더하여 리스트에 추가합니다.\n",
        "      loss = np.sum(-(y*np.log(a) + (1-y)*np.log(1-a)))\n",
        "      ### 에포크마다 평균 손실을 저장\n",
        "      self.losses.append((loss + self.reg_loss()) / m)\n",
        "      # 검증 세트에 대한 손실을 계산합니다.\n",
        "      self.update_val_loss(x_val, y_val)\n",
        "\n",
        "  def predict(self, x):\n",
        "    z = self.forpass(x)\n",
        "    return z > 0\n",
        "\n",
        "  def score(self, x, y):\n",
        "    ### 예측과 타깃 열 벡터를 비교하여 True의 비율을 반환합니다.\n",
        "    return np.mean(self.predict(x) == y.reshape(-1, 1))\n",
        "\n",
        "  def update_val_loss(self, x_val, y_val):\n",
        "    z = self.forpass(x_val)    # 정방향 계산\n",
        "    a = self.activation(z)        # 활성화 함수 적용\n",
        "    a = np.clip(a, 1e-10, 1-1e-10)\n",
        "    val_loss = np.sum(-(y_val*np.log(a) + (1-y_val)*np.log(1-a)))\n",
        "    self.val_losses.append((val_loss + self.reg_loss()) / len(y_val))\n",
        "\n",
        "  def reg_loss(self):\n",
        "    return self.l1 * np.sum(np.abs(self.w)) + self.l2 / 2 * np.sum(self.w**2)"
      ],
      "metadata": {
        "id": "oBj1pNaj3gmw"
      },
      "execution_count": 1,
      "outputs": []
    },
    {
      "cell_type": "code",
      "execution_count": 4,
      "metadata": {
        "id": "d4-dbx_43H6b"
      },
      "outputs": [],
      "source": [
        "import numpy as np\n",
        "import matplotlib.pyplot as plt\n",
        "\n",
        "class DualLayer(SingleLayer):\n",
        "  def __init__(self, units=10, learning_rate=0.1, l1=0, l2=0):  # 은닉층의 뉴런 개수를 지정하는 units 매개변수 추가\n",
        "    self.units = units      # 은닉층의 뉴런 개수\n",
        "    self.w1 = None          # 은닉층의 가중치\n",
        "    self.b1 = None          # 은닉층의 절편\n",
        "    self.w2 = None          # 출력층의 가중치\n",
        "    self.b2 = None          # 출력층의 절편\n",
        "    self.a1 = None          # 은닉층의 활성화 출력, 역방향 계산 시 필요하여 저장\n",
        "    self.losses = []        # 훈련 손실\n",
        "    self.val_losses = []    # 검증 손실\n",
        "    self.lr = learning_rate # 학습률\n",
        "    self.l1 = l1            # L1 손실\n",
        "    self.l2 = l2            # L2 손실\n",
        "\n",
        "  def forpass(self, x):                       # 은닉층의 활성화 함수를 통과한 a1과 출력층의 가중치 w2를 곱하고 b2를 더하여 최종 출력 z2 반환\n",
        "    z1 = np.dot(x, self.w1) + self.b1         # 첫 번째 층의 선형식 계산\n",
        "    self.a1 = self.activation(z1)             # 활성화 함수 적용\n",
        "    z2 = np.dot(self.a1, self.w2) + self.b2   # 두 번째 층의 선형식 계산\n",
        "    return z2\n",
        "\n",
        "  def backprop(self, x, err):\n",
        "    m = len(x) # 샘플 개수\n",
        "\n",
        "    # 출력층의 가중치와 절편에 대한 평균 그레이디언트 계산\n",
        "    w2_grad = np.dot(self.a1.T, err) / m\n",
        "    b2_grad = np.sum(err) / m\n",
        "\n",
        "    # 시그모이드 함수까지 그레이디언트 계산 (편의를 위해 미리 계산해 둠)\n",
        "    err_to_hidden = np.dot(err, self.w2.T) * self.a1 * (1 - self.a1)\n",
        "\n",
        "    # 은닉층의 가중치와 절편에 대한 평균 그레이디언트 계산\n",
        "    w1_grad = np.dot(x.T, err_to_hidden) / m\n",
        "    b1_grad = np.sum(err_to_hidden, axis=0) / m\n",
        "\n",
        "    return w1_grad, b1_grad, w2_grad, b2_grad\n",
        "\n",
        "  def init_weights(self, n_features):\n",
        "    self.w1 = np.ones((n_features, self.units))   # (특성 개수, 은닉층의 크기=뉴런의 개수)\n",
        "    self.b1 = np.zeros(self.units)                # 은닉층의 크기\n",
        "    self.w2 = np.ones((self.units, 1))            # (은닉층의 크기, 1)\n",
        "    self.b2 = 0\n",
        "\n",
        "  def training(self, x, y, m):\n",
        "    z = self.forpass(x)                                 # 정방향 계산을 수행합니다.\n",
        "    a = self.activation(z)                              # 활성화 함수를 적용합니다.\n",
        "    err = -(y - a)                                      # 오차를 계산합니다.\n",
        "    \n",
        "    # 오차를 역전파하여 그레이디언트를 계산합니다.\n",
        "    w1_grad, b1_grad, w2_grad, b2_grad = self.backprop(x, err)\n",
        "\n",
        "    # 그레이디언트에서 페널티 항의 미분값을 더합니다.\n",
        "    w1_grad += (self.l1 * np.sign(self.w1) + self.l2 * self.w1) / m\n",
        "    w2_grad += (self.l1 * np.sign(self.w2) + self.l2 * self.w2) / m\n",
        "\n",
        "    # 은닉층의 가중치와 절편을 업데이트합니다.\n",
        "    self.w1 -= self.lr * w1_grad\n",
        "    self.b1 -= self.lr * b1_grad\n",
        "\n",
        "    # 출력층의 가중치와 절편을 업데이트합니다.\n",
        "    self.w2 -= self.lr * w2_grad\n",
        "    self.b2 -= self.lr * b2_grad\n",
        "\n",
        "    # 출력층의 활성화 출력 a를 반환합니다.\n",
        "    return a\n",
        "\n",
        "  def fit(self, x, y, epochs=100, x_val=None, y_val=None):\n",
        "    y = y.reshape(-1, 1)                                  # 타깃을 열 벡터로 바꿉니다.\n",
        "    y_val = y_val.reshape(-1, 1)                          # 검증용 타깃을 열 벡터로 바꿉니다.\n",
        "    m = len(x)                                            # 샘플 개수를 저장합니다.\n",
        "    \n",
        "    # 은닉층과 출력층의 가중치 초기화\n",
        "    self.init_weights(x.shape[1])\n",
        "\n",
        "    for i in range(epochs):\n",
        "      a = self.training(x, y, m)\n",
        "\n",
        "      a = np.clip(a, 1e-10, 1-1e-10)                      # 안전한 로그 계산을 위해 클리핑합니다.\n",
        "      loss = np.sum(-(y*np.log(a) + (1-y)*np.log(1-a)))   # 로그 손실과 규제 손실을 더하여 리스트에 추가합니다.\n",
        "      self.losses.append((loss + self.reg_loss()) / m)    # 에포크마다 평균 손실을 저장\n",
        "      self.update_val_loss(x_val, y_val)                  # 검증 세트에 대한 손실을 계산합니다.\n",
        "\n",
        "  def reg_loss(self):\n",
        "    # 은닉층과 출력층의 가중치에 대한 L1, L2 손실 계산\n",
        "    return self.l1 * (np.sum(np.abs(self.w1)) + np.sum(np.abs(self.w2))) + self.l2 / 2 * (np.sum(self.w1**2) + np.sum(self.w2**2))"
      ]
    },
    {
      "cell_type": "markdown",
      "source": [
        "모델 훈련하기"
      ],
      "metadata": {
        "id": "joK2__8r-DfD"
      }
    },
    {
      "cell_type": "code",
      "source": [
        "from sklearn.datasets import load_breast_cancer\n",
        "from sklearn.model_selection import train_test_split\n",
        "from sklearn.preprocessing import StandardScaler\n",
        "\n",
        "cancer = load_breast_cancer()\n",
        "x = cancer.data\n",
        "y = cancer.target\n",
        "x_train_all, x_test, y_train_all, y_test = train_test_split(x, y, stratify=y, test_size=0.2, random_state=42)\n",
        "x_train, x_val, y_train, y_val = train_test_split(x_train_all, y_train_all, stratify=y_train_all, test_size=0.2, random_state=42)\n",
        "\n",
        "scaler = StandardScaler()\n",
        "scaler.fit(x_train)\n",
        "x_train_scaled = scaler.transform(x_train)\n",
        "x_val_scaled = scaler.transform(x_val)\n",
        "\n",
        "dual_layer = DualLayer(l2=0.01)\n",
        "dual_layer.fit(x_train_scaled, y_train, x_val=x_val_scaled, y_val=y_val, epochs=20000)\n",
        "dual_layer.score(x_val_scaled, y_val)"
      ],
      "metadata": {
        "colab": {
          "base_uri": "https://localhost:8080/"
        },
        "id": "hogIHi7y-H4n",
        "outputId": "a54519f2-5b0f-4d0c-a87c-1df1f2b968dd"
      },
      "execution_count": 5,
      "outputs": [
        {
          "output_type": "execute_result",
          "data": {
            "text/plain": [
              "0.978021978021978"
            ]
          },
          "metadata": {},
          "execution_count": 5
        }
      ]
    },
    {
      "cell_type": "markdown",
      "source": [
        "문제가 간단하여 SingleLayer와 평가 점수 동일"
      ],
      "metadata": {
        "id": "Go8aOKsY_guO"
      }
    },
    {
      "cell_type": "code",
      "source": [
        "plt.ylim(0, 0.3)\n",
        "plt.plot(dual_layer.losses)\n",
        "plt.plot(dual_layer.val_losses)\n",
        "plt.ylabel('loss')\n",
        "plt.xlabel('epoch')\n",
        "plt.legend(['train_loss', 'val_loss'])\n",
        "plt.show()"
      ],
      "metadata": {
        "colab": {
          "base_uri": "https://localhost:8080/",
          "height": 283
        },
        "id": "SlkdTt45_n04",
        "outputId": "58abd7dc-ddf4-4ddb-8cd0-2f14eb4eb32d"
      },
      "execution_count": 6,
      "outputs": [
        {
          "output_type": "display_data",
          "data": {
            "text/plain": [
              "<Figure size 432x288 with 1 Axes>"
            ],
            "image/png": "[encoded data removed]"
          },
          "metadata": {
            "needs_background": "light"
          }
        }
      ]
    },
    {
      "cell_type": "markdown",
      "source": [
        "SIngleLayer보다 가중치의 개수가 많아져 학습하는데 오래걸려 더 느리게 손실이 감소함"
      ],
      "metadata": {
        "id": "QZIegDmR_1OY"
      }
    },
    {
      "cell_type": "code",
      "source": [
        "class RandomInitNetwork(DualLayer):\n",
        "  def init_weights(self, n_features):\n",
        "    np.random.seed(42)\n",
        "    self.w1 = np.random.normal(0, 1, (n_features, self.units))   # (특성 개수, 은닉층의 크기=뉴런의 개수)\n",
        "    self.b1 = np.zeros(self.units)                               # 은닉층의 크기\n",
        "    self.w2 = np.random.normal(0, 1, (self.units, 1))            # (은닉층의 크기, 1)\n",
        "    self.b2 = 0"
      ],
      "metadata": {
        "id": "Tt_15jpRAW1X"
      },
      "execution_count": 7,
      "outputs": []
    },
    {
      "cell_type": "markdown",
      "source": [
        "개선해보자!\n",
        "- 초기 손실값이 감소하는 곡선이 매끄럽지 않음, 가중치 초기화와 관련 깊음\n",
        "- 정규분포를 따르는 무작위 수로 가중치 초기화하자\n",
        "- np.random.normal(평균, 표준 편차, 배열 크기)"
      ],
      "metadata": {
        "id": "zFOWkF-eAnAI"
      }
    },
    {
      "cell_type": "code",
      "source": [
        "random_init_net = RandomInitNetwork(l2=0.01)\n",
        "random_init_net.fit(x_train_scaled, y_train, x_val=x_val_scaled, y_val=y_val, epochs=500)\n",
        "\n",
        "plt.ylim(0, 0.3)\n",
        "plt.plot(random_init_net.losses)\n",
        "plt.plot(random_init_net.val_losses)\n",
        "plt.ylabel('loss')\n",
        "plt.xlabel('epoch')\n",
        "plt.legend(['train_loss', 'val_loss'])\n",
        "plt.show()"
      ],
      "metadata": {
        "colab": {
          "base_uri": "https://localhost:8080/",
          "height": 283
        },
        "id": "BHnE0AstBCFp",
        "outputId": "453bbf26-216a-4c4b-b0fc-996ada9dcd7c"
      },
      "execution_count": 8,
      "outputs": [
        {
          "output_type": "display_data",
          "data": {
            "text/plain": [
              "<Figure size 432x288 with 1 Axes>"
            ],
            "image/png": "[encoded data removed]"
          },
          "metadata": {
            "needs_background": "light"
          }
        }
      ]
    },
    {
      "cell_type": "markdown",
      "source": [
        "- 손실 함수가 감소하는 곡선이 매끄러워짐\n",
        "- 훨씬 빠르게 손실 함수 값이 감소함"
      ],
      "metadata": {
        "id": "lkTgYyC4BS0u"
      }
    }
  ]
}