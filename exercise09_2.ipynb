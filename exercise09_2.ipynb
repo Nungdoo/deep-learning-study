{
  "nbformat": 4,
  "nbformat_minor": 0,
  "metadata": {
    "colab": {
      "provenance": [],
      "collapsed_sections": [],
      "toc_visible": true,
      "authorship_tag": "ABX9TyPTHxKDB8u3mgzUhKCnwt49",
      "include_colab_link": true
    },
    "kernelspec": {
      "name": "python3",
      "display_name": "Python 3"
    },
    "language_info": {
      "name": "python"
    }
  },
  "cells": [
    {
      "cell_type": "markdown",
      "metadata": {
        "id": "view-in-github",
        "colab_type": "text"
      },
      "source": [
        "<a href=\"https://colab.research.google.com/github/Nungdoo/deep-learning-study/blob/main/exercise09_2.ipynb\" target=\"_parent\"><img src=\"https://colab.research.google.com/assets/colab-badge.svg\" alt=\"Open In Colab\"/></a>"
      ]
    },
    {
      "cell_type": "markdown",
      "source": [
        "# 데이터 준비"
      ],
      "metadata": {
        "id": "tTBKh5k920zp"
      }
    },
    {
      "cell_type": "markdown",
      "source": [
        "훈련 세트와 검증 세트 준비\n",
        "- IMDB 영화 리뷰 데이터\n",
        "- 리뷰가 긍정적인지 부정적인지 판별해보기 (이진 분류)"
      ],
      "metadata": {
        "id": "nGziSaQA33Xt"
      }
    },
    {
      "cell_type": "code",
      "execution_count": 1,
      "metadata": {
        "colab": {
          "base_uri": "https://localhost:8080/"
        },
        "id": "Mg0DeDi230Jl",
        "outputId": "38d06e67-1659-4d4d-bdb7-7faf2804834a"
      },
      "outputs": [
        {
          "output_type": "stream",
          "name": "stdout",
          "text": [
            "Downloading data from https://storage.googleapis.com/tensorflow/tf-keras-datasets/imdb.npz\n",
            "17465344/17464789 [==============================] - 0s 0us/step\n",
            "17473536/17464789 [==============================] - 0s 0us/step\n",
            "(25000,) (25000,)\n"
          ]
        }
      ],
      "source": [
        "import numpy as np\n",
        "from tensorflow.keras.datasets import imdb\n",
        "\n",
        "# skip_top : 가장 많이 등장한 단어 중 건너뛸 단어의 개수 지정\n",
        "# 가장 흔한 단어 20개는 제외 (크게 의미 없어서)\n",
        "# num_words : 훈련에 사용할 단어의 개수 지정\n",
        "# 메모리 절약을 위해 100 지정\n",
        "(x_train_all, y_train_all), (x_test, y_test) = imdb.load_data(skip_top=20, num_words=100)\n",
        "\n",
        "# 넘파이 배열의 리스트로 전달됨\n",
        "print(x_train_all.shape, y_train_all.shape)"
      ]
    },
    {
      "cell_type": "code",
      "source": [
        "# 훈련 세트의 샘플이 정수로 저장되어 있음\n",
        "# 영단어를 고유한 정수에 일대일 대응한 것\n",
        "# 2는 매핑한 어휘 사전에 없는 단어 (100개의 단어만 선택하여 없는 단어가 많음)\n",
        "print(x_train_all[0])"
      ],
      "metadata": {
        "colab": {
          "base_uri": "https://localhost:8080/"
        },
        "id": "NKwZLkWy3slT",
        "outputId": "cd058115-cadc-4c76-928d-a8aa1dd82c74"
      },
      "execution_count": 2,
      "outputs": [
        {
          "output_type": "stream",
          "name": "stdout",
          "text": [
            "[2, 2, 22, 2, 43, 2, 2, 2, 2, 65, 2, 2, 66, 2, 2, 2, 36, 2, 2, 25, 2, 43, 2, 2, 50, 2, 2, 2, 35, 2, 2, 2, 2, 2, 2, 2, 2, 2, 2, 2, 39, 2, 2, 2, 2, 2, 2, 38, 2, 2, 2, 2, 50, 2, 2, 2, 2, 2, 2, 22, 2, 2, 2, 2, 2, 22, 71, 87, 2, 2, 43, 2, 38, 76, 2, 2, 2, 2, 22, 2, 2, 2, 2, 2, 2, 2, 2, 2, 62, 2, 2, 2, 2, 2, 2, 2, 2, 2, 2, 2, 2, 66, 2, 33, 2, 2, 2, 2, 38, 2, 2, 25, 2, 51, 36, 2, 48, 25, 2, 33, 2, 22, 2, 2, 28, 77, 52, 2, 2, 2, 2, 82, 2, 2, 2, 2, 2, 2, 2, 2, 2, 2, 2, 2, 2, 2, 36, 71, 43, 2, 2, 26, 2, 2, 46, 2, 2, 2, 2, 2, 2, 88, 2, 2, 2, 2, 98, 32, 2, 56, 26, 2, 2, 2, 2, 2, 2, 2, 22, 21, 2, 2, 26, 2, 2, 2, 30, 2, 2, 51, 36, 28, 2, 92, 25, 2, 2, 2, 65, 2, 38, 2, 88, 2, 2, 2, 2, 2, 2, 2, 2, 32, 2, 2, 2, 2, 2, 32]\n"
          ]
        }
      ]
    },
    {
      "cell_type": "code",
      "source": [
        "# 의미 없는 데이터 제외\n",
        "# 0 : 패딩\n",
        "# 1 : 글의 시작\n",
        "# 2 : 없는 단어\n",
        "for i in range(len(x_train_all)):\n",
        "  x_train_all[i] = [w for w in x_train_all[i] if w > 2]\n",
        "\n",
        "print(x_train_all[0])"
      ],
      "metadata": {
        "colab": {
          "base_uri": "https://localhost:8080/"
        },
        "id": "iWeIGF3d4Ig9",
        "outputId": "4f6b61f4-0303-441f-b39c-ef3c41ae156a"
      },
      "execution_count": 3,
      "outputs": [
        {
          "output_type": "stream",
          "name": "stdout",
          "text": [
            "[22, 43, 65, 66, 36, 25, 43, 50, 35, 39, 38, 50, 22, 22, 71, 87, 43, 38, 76, 22, 62, 66, 33, 38, 25, 51, 36, 48, 25, 33, 22, 28, 77, 52, 82, 36, 71, 43, 26, 46, 88, 98, 32, 56, 26, 22, 21, 26, 30, 51, 36, 28, 92, 25, 65, 38, 88, 32, 32]\n"
          ]
        }
      ]
    },
    {
      "cell_type": "code",
      "source": [
        "# 숫자를 영단어와 매핑해보기 위해 어휘 사전 내려받기\n",
        "# movie는 17과 매핑됨\n",
        "word_to_index = imdb.get_word_index()\n",
        "word_to_index['movie']"
      ],
      "metadata": {
        "colab": {
          "base_uri": "https://localhost:8080/"
        },
        "id": "b2RA2DDq4jnc",
        "outputId": "5854bdf6-c9a4-41ff-84a5-4b94b059165e"
      },
      "execution_count": 4,
      "outputs": [
        {
          "output_type": "stream",
          "name": "stdout",
          "text": [
            "Downloading data from https://storage.googleapis.com/tensorflow/tf-keras-datasets/imdb_word_index.json\n",
            "1646592/1641221 [==============================] - 0s 0us/step\n",
            "1654784/1641221 [==============================] - 0s 0us/step\n"
          ]
        },
        {
          "output_type": "execute_result",
          "data": {
            "text/plain": [
              "17"
            ]
          },
          "metadata": {},
          "execution_count": 4
        }
      ]
    },
    {
      "cell_type": "code",
      "source": [
        "# 훈련 세트의 정수를 영단어로 변환\n",
        "# 3 이상의 정수가 영단어를 의미하므로, 3을 빼고 인덱스로 사용\n",
        "index_to_word = {word_to_index[k]: k for k in word_to_index}\n",
        "\n",
        "for w in x_train_all[0]:\n",
        "  print(index_to_word[w-3], end=' ')"
      ],
      "metadata": {
        "colab": {
          "base_uri": "https://localhost:8080/"
        },
        "id": "cdb0cd6n48pf",
        "outputId": "672d1150-b33c-4193-9fb2-d0e5da96b9a8"
      },
      "execution_count": 5,
      "outputs": [
        {
          "output_type": "stream",
          "name": "stdout",
          "text": [
            "film just story really they you just there an from so there film film were great just so much film would really at so you what they if you at film have been good also they were just are out because them all up are film but are be what they have don't you story so because all all "
          ]
        }
      ]
    },
    {
      "cell_type": "code",
      "source": [
        "# 훈련 샘플의 길이 확인\n",
        "# 각 리뷰의 길이가 달라 샘플의 길이가 다름\n",
        "# 샘플의 길이가 다르면 모델을 제대로 훈련시킬 수 없음\n",
        "print(len(x_train_all[0]), len(x_train_all[1]))"
      ],
      "metadata": {
        "colab": {
          "base_uri": "https://localhost:8080/"
        },
        "id": "MUKHzrKL5UDo",
        "outputId": "02f7f2aa-e22d-4ac2-cff5-b5efed5bef99"
      },
      "execution_count": 7,
      "outputs": [
        {
          "output_type": "stream",
          "name": "stdout",
          "text": [
            "59 32\n"
          ]
        }
      ]
    },
    {
      "cell_type": "code",
      "source": [
        "# 타깃 데이터 확인\n",
        "# 이진 분류 문제이므로 1, 0으로 이루어짐\n",
        "print(y_train_all[:10])"
      ],
      "metadata": {
        "colab": {
          "base_uri": "https://localhost:8080/"
        },
        "id": "gkKB53IV5vbj",
        "outputId": "09ed36e5-30f1-44a9-860d-67a52a2dd22e"
      },
      "execution_count": 8,
      "outputs": [
        {
          "output_type": "stream",
          "name": "stdout",
          "text": [
            "[1 0 0 1 0 0 1 0 1 0]\n"
          ]
        }
      ]
    },
    {
      "cell_type": "code",
      "source": [
        "# 검증 세트 준비\n",
        "# 훈련 세트 : 20000개, 검증 세트 5000개\n",
        "np.random.seed(42)\n",
        "random_index = np.random.permutation(25000)\n",
        "\n",
        "x_train = x_train_all[random_index[:20000]]\n",
        "y_train = y_train_all[random_index[:20000]]\n",
        "x_val = x_train_all[random_index[20000:]]\n",
        "y_val = y_train_all[random_index[20000:]]"
      ],
      "metadata": {
        "id": "2xp6sUvn55U_"
      },
      "execution_count": 9,
      "outputs": []
    },
    {
      "cell_type": "markdown",
      "source": [
        "샘플의 길이 맞추기\n",
        "- 맞추려는 길이보다 짧을 땐 앞에 0을 채움\n",
        "- 뒤에 0이 추가되면 모델의 성능이 좋지 않기 때문\n",
        "- 맞추려는 길이보다 길 땐 앞의 단어를 버림\n",
        "- 뒤에 나타나는 단어가 의미있을 가능성이 높기 때문"
      ],
      "metadata": {
        "id": "5TA1FXwf4vUb"
      }
    },
    {
      "cell_type": "code",
      "source": [
        "from tensorflow.keras.preprocessing import sequence\n",
        "\n",
        "# 기준 길이 : 100\n",
        "maxlen = 100\n",
        "\n",
        "# 길이 맞추기\n",
        "x_train_seq = sequence.pad_sequences(x_train, maxlen=maxlen)\n",
        "x_val_seq = sequence.pad_sequences(x_val, maxlen=maxlen)\n",
        "\n",
        "print(x_train_seq.shape, x_val_seq.shape)\n",
        "\n",
        "print(x_train_seq[0])"
      ],
      "metadata": {
        "id": "EsJax1WU5Qe6",
        "colab": {
          "base_uri": "https://localhost:8080/"
        },
        "outputId": "449cdc6d-f0f9-4adf-c18f-b2c63473377b"
      },
      "execution_count": 13,
      "outputs": [
        {
          "output_type": "stream",
          "name": "stdout",
          "text": [
            "(20000, 100) (5000, 100)\n",
            "[ 0  0  0  0  0  0  0  0  0  0  0  0  0  0  0  0  0  0  0  0  0  0  0  0\n",
            "  0  0  0  0  0  0  0  0  0  0  0  0  0  0  0  0  0  0  0  0  0  0  0  0\n",
            "  0  0  0  0  0  0  0  0  0  0  0  0  0  0 35 40 27 28 40 22 83 31 85 45\n",
            " 24 23 31 70 31 76 30 98 32 22 28 51 75 56 30 33 97 53 38 46 53 74 31 35\n",
            " 23 34 22 58]\n"
          ]
        }
      ]
    },
    {
      "cell_type": "markdown",
      "source": [
        "샘플 원-핫 인코딩하기\n",
        "- 샘플을 100차원으로 원-핫 인코딩"
      ],
      "metadata": {
        "id": "zISjA0N15p8C"
      }
    },
    {
      "cell_type": "code",
      "source": [
        "from tensorflow.keras.utils import to_categorical\n",
        "\n",
        "x_train_onehot = to_categorical(x_train_seq)\n",
        "x_val_onehot = to_categorical(x_val_seq)\n",
        "\n",
        "print(x_train_onehot.shape)\n",
        "\n",
        "print(x_train_onehot.nbytes)"
      ],
      "metadata": {
        "id": "t0XbJUAa5z2T",
        "colab": {
          "base_uri": "https://localhost:8080/"
        },
        "outputId": "00af35dc-3d66-4020-8c74-2e52db1d43dc"
      },
      "execution_count": 15,
      "outputs": [
        {
          "output_type": "stream",
          "name": "stdout",
          "text": [
            "(20000, 100, 100)\n",
            "800000000\n"
          ]
        }
      ]
    },
    {
      "cell_type": "markdown",
      "source": [
        "# 순환 신경망 클래스 구현하기"
      ],
      "metadata": {
        "id": "qVQoH7WY70lk"
      }
    },
    {
      "cell_type": "code",
      "source": [
        "import tensorflow as tf\n",
        "\n",
        "class RecurrentNetwork:\n",
        "\n",
        "  # 은닉층의 개수 대신 셀 개수를 입력 받음\n",
        "  # 셀에 필요한 가중치 w1h, w1x 선언\n",
        "  # 타임 스텝을 거슬러 그레이디언트를 전파하기 위해, 활성화 출력을 모두 갖고 있을 h 선언\n",
        "  def __init__(self, n_cells=10, batch_size=32, learning_rate=0.1):\n",
        "    self.n_cells = n_cells\n",
        "    self.batch_size = batch_size\n",
        "    self.w1h = None\n",
        "    self.w1x = None\n",
        "    self.b1 = None\n",
        "    self.w2 = None\n",
        "    self.b2 = None\n",
        "    self.h = None\n",
        "    self.losses = []\n",
        "    self.val_losses = []\n",
        "    self.lr = learning_rate\n",
        "\n",
        "  # 직교 행렬 초기화 : 순환 셀에서 은닉 상태를 위한 가중치가 반복해서 곱해질 때 너무 커지거나 작아지지 않게 해줌\n",
        "  def init_weights(self, n_features, n_classes):\n",
        "    orth_init = tf.initializers.Orthogonal()\n",
        "    glorot_init = tf.initializers.GlorotUniform()\n",
        "\n",
        "    self.w1h = orth_init((self.n_cells, self.n_cells)).numpy()      # (셀 개수, 셀 개수)\n",
        "    self.w1x = glorot_init((n_features, self.n_cells)).numpy()      # (특성 개수, 셀 개수)\n",
        "    self.b1 = np.zeros(self.n_cells)                                # 은닉층의 크기\n",
        "    self.w2 = glorot_init((self.n_cells, n_classes)).numpy()        # (셀 개수, 클래스 개수)\n",
        "    self.b2 = np.zeros(n_classes)\n",
        "\n",
        "  # 정방향 계산\n",
        "  def forpass(self, x):\n",
        "    # 각 타임 스텝의 은닉 상태를 저장하기 위한 h 초기화\n",
        "    # 첫 번째 타임 스텝의 이전 은닉 상태는 없으므로, 0으로 채워진 배열로 초기화\n",
        "    self.h = [np.zeros((x.shape[0], self.n_cells))]               # (샘플 개수, 셀 개수)\n",
        "\n",
        "    # 입력 x의 첫 번째 배치 차원과 두 번째 타임 스텝 차원을 바꿉니다.\n",
        "    # 미니 배치 안에 있는 모든 샘플의 첫 번째 타임 스텝을 한 번에 처리하고 그 다음 타임 스텝을 한번에 처리해야 하므로\n",
        "    seq = np.swapaxes(x, 0, 1)\n",
        "\n",
        "    # 각 샘플의 모든 타임 스텝에 대한 정방향 계산\n",
        "    # 계산된 은닉 상태를 h에 순서대로 추가함\n",
        "    for x in seq:\n",
        "      z1 = np.dot(x, self.w1x) + np.dot(self.h[-1], self.w1h) + self.b1\n",
        "      h = np.tanh(z1)                     # 활성화 함수를 적용합니다.\n",
        "      self.h.append(h)                    # 역전파를 위해 은닉 상태를 저장합니다.\n",
        "      z2 = np.dot(h, self.w2) + self.b2   # 출력층의 선형식을 계산합니다.\n",
        "    return z2\n",
        "\n",
        "  # 역방향 계산\n",
        "  def backprop(self, x, err):\n",
        "    m = len(x)    # 샘플 개수\n",
        "\n",
        "    # 출력층의 가중치와 절편에 대한 그레이디언트를 계산합니다.\n",
        "    w2_grad = np.dot(self.h[-1].T, err) / m\n",
        "    b2_grad = np.sum(err) / m\n",
        "\n",
        "    # 모든 샘플의 타임 스텝을 한 번에 처리하기 위해 배치 차원과 타임 스텝 차원을 바꿈\n",
        "    seq = np.swapaxes(x, 0, 1)\n",
        "\n",
        "    w1h_grad = w1x_grad = b1_grad = 0\n",
        "    # err_to_cell : Z1에 대하여 손실 함수를 미분한 도함수의 결괏값\n",
        "    err_to_cell = np.dot(err, self.w2.T) * (1 - self.h[-1] ** 2)\n",
        "    # 모든 타임 스텝을 거슬러 가면서 그레이디언트를 전파합니다.\n",
        "    # 타임 스텝을 거슬러 올라가며 그레이디언트를 전파할 때 동일한 가중치를 반복적으로 곱해, 이로 인해 그레이디언트가 너무 커지거나 작아지는 문제가 발생\n",
        "    # 이를 방지하기 위해 그레이디언트를 전파하는 타임 스텝의 수(TBPTT)를 제한 : 10\n",
        "    for x, h in zip(seq[::-1][:10], self.h[:-1][::-1][:10]):\n",
        "      w1h_grad += np.dot(h.T, err_to_cell)\n",
        "      w1x_grad += np.dot(x.T, err_to_cell)\n",
        "      b1_grad += np.sum(err_to_cell, axis=0)\n",
        "      err_to_cell = np.dot(err_to_cell, self.w1h) * (1 - h ** 2)\n",
        "\n",
        "    w1h_grad /= m\n",
        "    w1x_grad /= m\n",
        "    b1_grad /= m\n",
        "\n",
        "    return w1h_grad, w1x_grad, b1_grad, w2_grad, b2_grad\n",
        "\n",
        "  def sigmoid(self, z):\n",
        "    z = np.clip(z, -100, None)    # 안전한 계산을 위해 clip\n",
        "    a = 1 / (1 + np.exp(-z))      # 시그모이드 계산\n",
        "    return z\n",
        "\n",
        "  def fit(self, x, y, epochs=100, x_val=None, y_val=None):\n",
        "    y = y.reshape(-1, 1)                                  # 타깃을 열 벡터로 바꿉니다.\n",
        "    y_val = y_val.reshape(-1, 1)                          # 검증용 타깃을 열 벡터로 바꿉니다.\n",
        "    self.init_weights(x.shape[2], y.shape[1])             # 은닉층과 출력층의 가중치 초기화\n",
        "    np.random.seed(42)\n",
        "\n",
        "    for i in range(epochs):\n",
        "      print('에포크', i, end=' ')\n",
        "      batch_losses = []\n",
        "      # 미니 배치 순환\n",
        "      for x_batch, y_batch in self.gen_batch(x, y):\n",
        "        print('.', end='')\n",
        "        a = self.training(x_batch, y_batch)\n",
        "        a = np.clip(a, 1e-10, 1-1e-10)                                    # 안전한 로그 계산을 위해 클리핑합니다.\n",
        "        loss = np.mean(-(y_batch*np.log(a) + (1-y_batch)*np.log(1-a)))    # 로그 손실과 규제 손실을 더하여 리스트에 추가합니다.\n",
        "        batch_losses.append(loss)\n",
        "      print()\n",
        "      self.losses.append(np.mean(batch_losses))           # 에포크마다 평균 손실을 저장\n",
        "      self.update_val_loss(x_val, y_val)                  # 검증 세트에 대한 손실을 계산합니다.\n",
        "\n",
        "  # 미치 배치 제너레이터\n",
        "  def gen_batch(self, x, y):\n",
        "    length = len(x)\n",
        "    bins = length // self.batch_size      # 미니 배치 횟수\n",
        "    if length % self.batch_size:\n",
        "      bins += 1\n",
        "    indexes = np.random.permutation(np.arange(len(x)))\n",
        "    x = x[indexes]\n",
        "    y = y[indexes]\n",
        "    for i in range(bins):\n",
        "      start = self.batch_size * i\n",
        "      end = self.batch_size * (i + 1)\n",
        "      yield x[start:end], y[start:end]    # batch_size만큼 슬라이싱하여 반환\n",
        "\n",
        "  def training(self, x, y):\n",
        "    m = len(x)                                          # 샘플 개수\n",
        "    z = self.forpass(x)                                 # 정방향 계산을 수행합니다.\n",
        "    a = self.sigmoid(z)                                 # 활성화 함수를 적용합니다.\n",
        "    err = -(y - a)                                      # 오차를 계산합니다.\n",
        "    \n",
        "    # 오차를 역전파하여 그레이디언트를 계산합니다.\n",
        "    w1h_grad, w1x_grad, b1_grad, w2_grad, b2_grad = self.backprop(x, err)\n",
        "\n",
        "    # 셀의 가중치와 절편을 업데이트합니다.\n",
        "    self.w1h -= self.lr * w1h_grad\n",
        "    self.w1x -= self.lr * w1x_grad\n",
        "    self.b1 -= self.lr * b1_grad\n",
        "\n",
        "    # 출력층의 가중치와 절편을 업데이트합니다.\n",
        "    self.w2 -= self.lr * w2_grad\n",
        "    self.b2 -= self.lr * b2_grad\n",
        "\n",
        "    # 출력층의 활성화 출력 a를 반환합니다.\n",
        "    return a\n",
        "\n",
        "  def predict(self, x):\n",
        "    z = self.forpass(x)                   # 정방향 계산\n",
        "    return z > 0                          # 스텝 함수 적용\n",
        "\n",
        "  def score(self, x, y):\n",
        "    # 예측과 타깃 열 벡터를 비교하여 True의 비율을 반환합니다.\n",
        "    return np.mean(self.predict(x) == y.reshape(-1, 1))\n",
        "\n",
        "  def update_val_loss(self, x_val, y_val):\n",
        "    z = self.forpass(x_val)               # 정방향 계산\n",
        "    a = self.sigmoid(z)                   # 활성화 함수 적용\n",
        "    a = np.clip(a, 1e-10, 1-1e-10)        # 출력값 클리핑\n",
        "    val_loss = np.mean(-(y_val*np.log(a) + (1-y_val)*np.log(1-a)))\n",
        "    self.val_losses.append(val_loss)"
      ],
      "metadata": {
        "id": "OJpG0exj8OIQ"
      },
      "execution_count": 18,
      "outputs": []
    },
    {
      "cell_type": "markdown",
      "source": [
        "# 순환 신경망 모델 훈련시키기"
      ],
      "metadata": {
        "id": "OXJZFmv-JxwR"
      }
    },
    {
      "cell_type": "code",
      "source": [
        "rn = RecurrentNetwork(n_cells=32, batch_size=32, learning_rate=0.01)\n",
        "rn.fit(x_train_onehot, y_train, epochs=20, x_val=x_val_onehot, y_val=y_val)"
      ],
      "metadata": {
        "colab": {
          "base_uri": "https://localhost:8080/"
        },
        "id": "deiFQ-zdJxad",
        "outputId": "25051e24-db63-40b4-cf7d-6feced5c1fad"
      },
      "execution_count": null,
      "outputs": [
        {
          "output_type": "stream",
          "name": "stdout",
          "text": [
            "에포크 0 .................................................................................................................................................................................................................................................................................................................................................................................................................................................................................................................................................................................................................................................\n",
            "에포크 1 .................................................................................................................................................................................................................................................................................................................................................................................................................................................................................................................................................................................................................................................\n",
            "에포크 2 .................................................................................................................................................................................................................................................................................................................................................................................................................................................................................................................................................................................................................................................\n",
            "에포크 3 .................................................................................................................................................................................................................................................................................................................................................................................................................................................................................................................................................................................................................................................\n",
            "에포크 4 .................................................................................................................................................................................................................................................................................................................................................................................................................................................................................................................................................................................................................................................\n",
            "에포크 5 .................................................................................................................................................................................................................................................................................................................................................................................................................................................................................................................................................................................................................................................\n",
            "에포크 6 .................................................................................................................................................................................................................................................................................................................................................................................................................................................................................................................................................................................................................................................\n",
            "에포크 7 ............................................................................................................................................................................."
          ]
        }
      ]
    },
    {
      "cell_type": "code",
      "source": [
        "import matplotlib.pyplot as plt\n",
        "\n",
        "# 손실 그래프 그리기\n",
        "plt.plot(rn.losses)\n",
        "plt.plot(rn.val_losses)\n",
        "plt.show()"
      ],
      "metadata": {
        "colab": {
          "base_uri": "https://localhost:8080/",
          "height": 265
        },
        "id": "pdRsn3UfKbha",
        "outputId": "bc892339-8f57-4245-919e-99985a7f47e2"
      },
      "execution_count": 20,
      "outputs": [
        {
          "output_type": "display_data",
          "data": {
            "text/plain": [
              "<Figure size 432x288 with 1 Axes>"
            ],
            "image/png": "[encoded data removed]"
          },
          "metadata": {
            "needs_background": "light"
          }
        }
      ]
    },
    {
      "cell_type": "code",
      "source": [
        "# 검증 세트 정확도 평가하기\n",
        "rn.score(x_val_onehot, y_val)"
      ],
      "metadata": {
        "colab": {
          "base_uri": "https://localhost:8080/"
        },
        "id": "YwnGTqjrKizA",
        "outputId": "4ff02094-e2df-49ce-f093-b1487559d00e"
      },
      "execution_count": 21,
      "outputs": [
        {
          "output_type": "execute_result",
          "data": {
            "text/plain": [
              "0.4952"
            ]
          },
          "metadata": {},
          "execution_count": 21
        }
      ]
    }
  ]
}