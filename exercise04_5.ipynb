{
  "nbformat": 4,
  "nbformat_minor": 0,
  "metadata": {
    "colab": {
      "name": "exercise04-5.ipynb",
      "provenance": [],
      "toc_visible": true,
      "authorship_tag": "ABX9TyMB3Tual1fDjnUX62kFXL+U",
      "include_colab_link": true
    },
    "kernelspec": {
      "name": "python3",
      "display_name": "Python 3"
    },
    "language_info": {
      "name": "python"
    }
  },
  "cells": [
    {
      "cell_type": "markdown",
      "metadata": {
        "id": "view-in-github",
        "colab_type": "text"
      },
      "source": [
        "<a href=\"https://colab.research.google.com/github/Nungdoo/deep-learning-study/blob/main/exercise04_5.ipynb\" target=\"_parent\"><img src=\"https://colab.research.google.com/assets/colab-badge.svg\" alt=\"Open In Colab\"/></a>"
      ]
    },
    {
      "cell_type": "markdown",
      "source": [
        "# 데이터 준비하기"
      ],
      "metadata": {
        "id": "aobDyJyhuFdl"
      }
    },
    {
      "cell_type": "markdown",
      "source": [
        "데이터 세팅"
      ],
      "metadata": {
        "id": "xVYNISxwr3Fe"
      }
    },
    {
      "cell_type": "code",
      "source": [
        "import numpy as np\n",
        "from sklearn.datasets import load_breast_cancer\n",
        "cancer = load_breast_cancer()\n",
        "\n",
        "x = cancer.data\n",
        "y = cancer.target"
      ],
      "metadata": {
        "id": "nBMhwAX8r5ke"
      },
      "execution_count": 2,
      "outputs": []
    },
    {
      "cell_type": "markdown",
      "source": [
        "훈련 세트와 테스트 세트로 나누기\n",
        "\n",
        "train_test_split() 함수\n",
        "- 기본적으로 훈련 세트 75%, 테스트 세트 25%의 비율로 나누어 줌\n",
        "- 매개변수로 x(data), y(target)를 넘겨줌\n",
        "- stratify=y : 훈련 데이터를 나눌 때, 양성/음성 클래스의 비율 유지\n",
        "- test_size=0.2 : 디폴트 비율(75:25)가 아닌 80:20으로 훈련 데이터 나누기\n",
        "- random_state=42 : 실험 결과를 똑같이 재현하기 위해 난수 42로 지정, 실전에서는 입력하지 않고 데이터를 무작위로 섞음"
      ],
      "metadata": {
        "id": "p930Nqrarcsn"
      }
    },
    {
      "cell_type": "code",
      "execution_count": 3,
      "metadata": {
        "colab": {
          "base_uri": "https://localhost:8080/"
        },
        "id": "XRB685jrppqq",
        "outputId": "464a0567-9d7e-418d-d4c3-41cd5a684ae3"
      },
      "outputs": [
        {
          "output_type": "stream",
          "name": "stdout",
          "text": [
            "(455, 30) (114, 30)\n"
          ]
        },
        {
          "output_type": "execute_result",
          "data": {
            "text/plain": [
              "(array([0, 1]), array([170, 285]))"
            ]
          },
          "metadata": {},
          "execution_count": 3
        }
      ],
      "source": [
        "from sklearn.model_selection import train_test_split\n",
        "\n",
        "x_train, x_test, y_train, y_test = train_test_split(x, y, stratify=y, test_size=0.2, random_state=42)\n",
        "\n",
        "# 나눠진 데이터 비율 확인\n",
        "# 455:114 로 4:1로 잘 나뉨\n",
        "print(x_train.shape, x_test.shape)\n",
        "\n",
        "# 타깃에 속한 클래스의 개수 확인\n",
        "np.unique(y_train, return_counts=True)"
      ]
    },
    {
      "cell_type": "markdown",
      "source": [
        "# 로지스틱 회귀 구현하기"
      ],
      "metadata": {
        "id": "BR4Z6gqwuJrv"
      }
    },
    {
      "cell_type": "code",
      "source": [
        "class LogisticNeuron:\n",
        "\n",
        "  def __init__(self):\n",
        "    self.w = None\n",
        "    self.b = None\n",
        "\n",
        "  def forpass(self, x):\n",
        "    z = np.sum(x * self.w) + self.b   # 직선 방정식을 계산합니다.\n",
        "    return z\n",
        "\n",
        "  def backprop(self, x, err):\n",
        "    w_grad = x * err  # 가중치에 대한 그레이디언트를 계산합니다.\n",
        "    b_grad = 1 * err  # 절편에 대한 그레이디언트를 계산합니다.\n",
        "    return w_grad, b_grad\n",
        "\n",
        "  def activation(self, z):\n",
        "    a = 1 / (1 + np.exp(-z))  # 시그모이드 계산\n",
        "    return a\n",
        "\n",
        "  def fit(self, x, y, epochs=100):\n",
        "    self.w = np.ones(x.shape[1])\n",
        "    self.b = 0\n",
        "    for i in range(epochs):\n",
        "      for x_i, y_i in zip(x, y):\n",
        "        z = self.forpass(x_i)   # 정방향 계산\n",
        "        a = self.activation(z)  # 활성화 함수 적용\n",
        "        err = -(y_i - a)        # 오차 계산\n",
        "        w_grad, b_grad = self.backprop(x_i, err)  # 역방향 계산\n",
        "        self.w -= w_grad\n",
        "        self.b -= b_grad\n",
        "\n",
        "  def predict(self, x):\n",
        "    z = [self.forpass(x_i) for x_i in x]\n",
        "    a = self.activation(np.array(z))\n",
        "    return a > 0.5\n"
      ],
      "metadata": {
        "id": "sn5-PUFjtWwc"
      },
      "execution_count": 4,
      "outputs": []
    },
    {
      "cell_type": "markdown",
      "source": [
        "__init__()\n",
        "- 이전에는 init 함수에서 가중치와 절편을 초기화 했었음\n",
        "- 입력 데이터의 특성이 많아, 가중치를 미리 초기화 하지 않고, 나중에 입력 데이터를 보고 특성 개수에 맞게 결정"
      ],
      "metadata": {
        "id": "fIMjCQyjvY9W"
      }
    },
    {
      "cell_type": "markdown",
      "source": [
        "forpass()\n",
        "- 가중치와 입력 특성의 곱을 모두 더하기 위해 np.sum() 함수 사용\n",
        "- x와 w는 1차원 배열\n",
        "- w1x2 + w2x2 + w3x3 ..."
      ],
      "metadata": {
        "id": "57M4S52qvmTh"
      }
    },
    {
      "cell_type": "markdown",
      "source": [
        "activation()\n",
        "- 활성화 함수"
      ],
      "metadata": {
        "id": "4MHro8ML8qQy"
      }
    },
    {
      "cell_type": "markdown",
      "source": [
        "fit()\n",
        "- 훈련하는 함수\n",
        "- np.ones() : 입력된 매개변수와 동일한 크기의 배열을 만들고 값을 모두 1로 채움\n",
        "- 초기화 한 self.w.shape : (30,)"
      ],
      "metadata": {
        "id": "QZE-s1Bf22Se"
      }
    },
    {
      "cell_type": "markdown",
      "source": [
        "predict()\n",
        "- 리스트 내포 : 대괄호 안에 for문 삽입하여 새 리스트 생성\n",
        "- 선형 함수, 활성화 함수, 임계 함수 순으로 진행해 예측값을 구함"
      ],
      "metadata": {
        "id": "eHjgEAjo8YIj"
      }
    },
    {
      "cell_type": "markdown",
      "source": [
        "# 로지스틱 회귀 모델 훈련시키기"
      ],
      "metadata": {
        "id": "U_yIpSs79T1t"
      }
    },
    {
      "cell_type": "markdown",
      "source": [
        "모델 훈련하기"
      ],
      "metadata": {
        "id": "TAoJS4_x-Vqp"
      }
    },
    {
      "cell_type": "code",
      "source": [
        "neuron = LogisticNeuron()\n",
        "neuron.fit(x_train, y_train)"
      ],
      "metadata": {
        "colab": {
          "base_uri": "https://localhost:8080/"
        },
        "id": "Def67aOa3ilp",
        "outputId": "f86e17eb-4f98-4621-bc8f-04a8f9b8c258"
      },
      "execution_count": 8,
      "outputs": [
        {
          "output_type": "stream",
          "name": "stderr",
          "text": [
            "/usr/local/lib/python3.7/dist-packages/ipykernel_launcher.py:17: RuntimeWarning: overflow encountered in exp\n"
          ]
        }
      ]
    },
    {
      "cell_type": "markdown",
      "source": [
        "모델의 정확도 평가하기\n",
        "- True/False로 채워진 배열과 0/1로 채워진 배열(y_test)의 각 요소를 비교하여 평균 계산"
      ],
      "metadata": {
        "id": "vGrQNSL7-R_P"
      }
    },
    {
      "cell_type": "code",
      "source": [
        "np.mean(neuron.predict(x_test) == y_test)"
      ],
      "metadata": {
        "colab": {
          "base_uri": "https://localhost:8080/"
        },
        "id": "2qA1djsE-Xsg",
        "outputId": "0d6c765d-29ce-4ef0-ba76-a2a6526696a6"
      },
      "execution_count": 9,
      "outputs": [
        {
          "output_type": "stream",
          "name": "stderr",
          "text": [
            "/usr/local/lib/python3.7/dist-packages/ipykernel_launcher.py:17: RuntimeWarning: overflow encountered in exp\n"
          ]
        },
        {
          "output_type": "execute_result",
          "data": {
            "text/plain": [
              "0.8245614035087719"
            ]
          },
          "metadata": {},
          "execution_count": 9
        }
      ]
    }
  ]
}