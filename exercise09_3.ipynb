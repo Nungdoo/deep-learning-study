{
  "nbformat": 4,
  "nbformat_minor": 0,
  "metadata": {
    "colab": {
      "provenance": [],
      "toc_visible": true,
      "authorship_tag": "ABX9TyOBUr/bwrhzonfEL/nZLNB/",
      "include_colab_link": true
    },
    "kernelspec": {
      "name": "python3",
      "display_name": "Python 3"
    },
    "language_info": {
      "name": "python"
    }
  },
  "cells": [
    {
      "cell_type": "markdown",
      "metadata": {
        "id": "view-in-github",
        "colab_type": "text"
      },
      "source": [
        "<a href=\"https://colab.research.google.com/github/Nungdoo/deep-learning-study/blob/main/exercise09_3.ipynb\" target=\"_parent\"><img src=\"https://colab.research.google.com/assets/colab-badge.svg\" alt=\"Open In Colab\"/></a>"
      ]
    },
    {
      "cell_type": "markdown",
      "source": [
        "# 텐서플로로 순환 신경망 만들기"
      ],
      "metadata": {
        "id": "yx-PNyrPEqSu"
      }
    },
    {
      "cell_type": "markdown",
      "source": [
        "텐서플로에서 가장 기본적인 순환층 : SimpleRNN"
      ],
      "metadata": {
        "id": "kC9D9aYmDkNB"
      }
    },
    {
      "cell_type": "code",
      "execution_count": 1,
      "metadata": {
        "colab": {
          "base_uri": "https://localhost:8080/"
        },
        "id": "YsluGn-jDbvv",
        "outputId": "144cac92-3cac-4bb0-baba-4d79d124fcfe"
      },
      "outputs": [
        {
          "output_type": "stream",
          "name": "stdout",
          "text": [
            "Model: \"sequential\"\n",
            "_________________________________________________________________\n",
            " Layer (type)                Output Shape              Param #   \n",
            "=================================================================\n",
            " simple_rnn (SimpleRNN)      (None, 32)                4256      \n",
            "                                                                 \n",
            " dense (Dense)               (None, 1)                 33        \n",
            "                                                                 \n",
            "=================================================================\n",
            "Total params: 4,289\n",
            "Trainable params: 4,289\n",
            "Non-trainable params: 0\n",
            "_________________________________________________________________\n"
          ]
        }
      ],
      "source": [
        "from tensorflow.keras.models import Sequential\n",
        "from tensorflow.keras.layers import Dense, SimpleRNN\n",
        "\n",
        "model = Sequential()\n",
        "\n",
        "# 사용할 셀의 개수 지정 : 32\n",
        "# 인풋 차원 지정 (타임 스텝의 길이 100, 원-핫 인코딩 크기 100)\n",
        "model.add(SimpleRNN(32, input_shape=(100, 100)))\n",
        "\n",
        "# 이진 분류이므로 하나의 dense층 추가\n",
        "model.add(Dense(1, activation='sigmoid'))\n",
        "\n",
        "model.summary()"
      ]
    },
    {
      "cell_type": "code",
      "source": [
        "# 데이터 준비\n",
        "\n",
        "import numpy as np\n",
        "from tensorflow.keras.datasets import imdb\n",
        "from tensorflow.keras.preprocessing import sequence\n",
        "from tensorflow.keras.utils import to_categorical\n",
        "\n",
        "(x_train_all, y_train_all), (x_test, y_test) = imdb.load_data(skip_top=20, num_words=100)\n",
        "\n",
        "for i in range(len(x_train_all)):\n",
        "  x_train_all[i] = [w for w in x_train_all[i] if w > 2]\n",
        "\n",
        "word_to_index = imdb.get_word_index()\n",
        "index_to_word = {word_to_index[k]: k for k in word_to_index}\n",
        "\n",
        "for w in x_train_all[0]:\n",
        "  print(index_to_word[w-3], end=' ')\n",
        "\n",
        "np.random.seed(42)\n",
        "random_index = np.random.permutation(25000)\n",
        "\n",
        "x_train = x_train_all[random_index[:20000]]\n",
        "y_train = y_train_all[random_index[:20000]]\n",
        "x_val = x_train_all[random_index[20000:]]\n",
        "y_val = y_train_all[random_index[20000:]]\n",
        "\n",
        "maxlen = 100\n",
        "x_train_seq = sequence.pad_sequences(x_train, maxlen=maxlen)\n",
        "x_val_seq = sequence.pad_sequences(x_val, maxlen=maxlen)\n",
        "\n",
        "x_train_onehot = to_categorical(x_train_seq)\n",
        "x_val_onehot = to_categorical(x_val_seq)"
      ],
      "metadata": {
        "colab": {
          "base_uri": "https://localhost:8080/"
        },
        "id": "apRvmjh_GPJw",
        "outputId": "5467d1ad-c81e-4eff-80e2-2f015d5d8407"
      },
      "execution_count": 2,
      "outputs": [
        {
          "output_type": "stream",
          "name": "stdout",
          "text": [
            "Downloading data from https://storage.googleapis.com/tensorflow/tf-keras-datasets/imdb.npz\n",
            "17465344/17464789 [==============================] - 0s 0us/step\n",
            "17473536/17464789 [==============================] - 0s 0us/step\n",
            "Downloading data from https://storage.googleapis.com/tensorflow/tf-keras-datasets/imdb_word_index.json\n",
            "1646592/1641221 [==============================] - 0s 0us/step\n",
            "1654784/1641221 [==============================] - 0s 0us/step\n",
            "film just story really they you just there an from so there film film were great just so much film would really at so you what they if you at film have been good also they were just are out because them all up are film but are be what they have don't you story so because all all "
          ]
        }
      ]
    },
    {
      "cell_type": "code",
      "source": [
        "# 확률적 경사 하강법 sgd\n",
        "# 이진 분류 손실 함수 binary_crossentropy\n",
        "\n",
        "model.compile(optimizer='sgd', loss='binary_crossentropy', metrics=['accuracy'])\n",
        "history = model.fit(x_train_onehot, y_train, epochs=20, batch_size=32, validation_data=(x_val_onehot, y_val))"
      ],
      "metadata": {
        "colab": {
          "base_uri": "https://localhost:8080/"
        },
        "id": "nqdEe-06F56v",
        "outputId": "18959130-99ac-44a2-d3b9-495065d1cfcb"
      },
      "execution_count": 3,
      "outputs": [
        {
          "output_type": "stream",
          "name": "stdout",
          "text": [
            "Epoch 1/20\n",
            "625/625 [==============================] - 12s 18ms/step - loss: 0.7051 - accuracy: 0.4962 - val_loss: 0.6974 - val_accuracy: 0.5040\n",
            "Epoch 2/20\n",
            "625/625 [==============================] - 11s 17ms/step - loss: 0.6952 - accuracy: 0.5082 - val_loss: 0.6952 - val_accuracy: 0.5038\n",
            "Epoch 3/20\n",
            "625/625 [==============================] - 11s 17ms/step - loss: 0.6930 - accuracy: 0.5148 - val_loss: 0.6938 - val_accuracy: 0.5116\n",
            "Epoch 4/20\n",
            "625/625 [==============================] - 11s 17ms/step - loss: 0.6917 - accuracy: 0.5202 - val_loss: 0.6917 - val_accuracy: 0.5220\n",
            "Epoch 5/20\n",
            "625/625 [==============================] - 11s 17ms/step - loss: 0.6908 - accuracy: 0.5274 - val_loss: 0.6916 - val_accuracy: 0.5180\n",
            "Epoch 6/20\n",
            "625/625 [==============================] - 11s 17ms/step - loss: 0.6897 - accuracy: 0.5350 - val_loss: 0.6914 - val_accuracy: 0.5202\n",
            "Epoch 7/20\n",
            "625/625 [==============================] - 11s 17ms/step - loss: 0.6882 - accuracy: 0.5380 - val_loss: 0.6888 - val_accuracy: 0.5404\n",
            "Epoch 8/20\n",
            "625/625 [==============================] - 18s 30ms/step - loss: 0.6861 - accuracy: 0.5447 - val_loss: 0.6929 - val_accuracy: 0.5240\n",
            "Epoch 9/20\n",
            "625/625 [==============================] - 21s 34ms/step - loss: 0.6785 - accuracy: 0.5673 - val_loss: 0.6725 - val_accuracy: 0.5818\n",
            "Epoch 10/20\n",
            "625/625 [==============================] - 13s 21ms/step - loss: 0.6592 - accuracy: 0.6061 - val_loss: 0.6419 - val_accuracy: 0.6332\n",
            "Epoch 11/20\n",
            "625/625 [==============================] - 13s 21ms/step - loss: 0.6364 - accuracy: 0.6447 - val_loss: 0.6870 - val_accuracy: 0.5854\n",
            "Epoch 12/20\n",
            "625/625 [==============================] - 12s 18ms/step - loss: 0.6210 - accuracy: 0.6590 - val_loss: 0.6025 - val_accuracy: 0.6740\n",
            "Epoch 13/20\n",
            "625/625 [==============================] - 17s 28ms/step - loss: 0.6095 - accuracy: 0.6685 - val_loss: 0.5990 - val_accuracy: 0.6778\n",
            "Epoch 14/20\n",
            "625/625 [==============================] - 12s 20ms/step - loss: 0.5995 - accuracy: 0.6808 - val_loss: 0.5809 - val_accuracy: 0.6948\n",
            "Epoch 15/20\n",
            "625/625 [==============================] - 12s 19ms/step - loss: 0.5941 - accuracy: 0.6880 - val_loss: 0.5887 - val_accuracy: 0.6872\n",
            "Epoch 16/20\n",
            "625/625 [==============================] - 12s 20ms/step - loss: 0.5875 - accuracy: 0.6928 - val_loss: 0.5888 - val_accuracy: 0.6912\n",
            "Epoch 17/20\n",
            "625/625 [==============================] - 11s 17ms/step - loss: 0.5840 - accuracy: 0.6949 - val_loss: 0.5830 - val_accuracy: 0.7006\n",
            "Epoch 18/20\n",
            "625/625 [==============================] - 12s 20ms/step - loss: 0.5769 - accuracy: 0.7031 - val_loss: 0.5697 - val_accuracy: 0.7106\n",
            "Epoch 19/20\n",
            "625/625 [==============================] - 14s 23ms/step - loss: 0.5749 - accuracy: 0.7042 - val_loss: 0.6291 - val_accuracy: 0.6584\n",
            "Epoch 20/20\n",
            "625/625 [==============================] - 12s 19ms/step - loss: 0.5753 - accuracy: 0.7036 - val_loss: 0.6465 - val_accuracy: 0.6526\n"
          ]
        }
      ]
    },
    {
      "cell_type": "code",
      "source": [
        "import matplotlib.pyplot as plt\n",
        "\n",
        "# 손실 그래프 그리기\n",
        "plt.plot(history.history['loss'])\n",
        "plt.plot(history.history['val_loss'])\n",
        "plt.show()\n",
        "\n",
        "# 정확도 그래프 그리기\n",
        "plt.plot(history.history['accuracy'])\n",
        "plt.plot(history.history['val_accuracy'])\n",
        "plt.show()"
      ],
      "metadata": {
        "colab": {
          "base_uri": "https://localhost:8080/",
          "height": 513
        },
        "id": "AsqAjdI-HLYf",
        "outputId": "72cae28e-25d1-40ff-eb83-c02a2d658ce6"
      },
      "execution_count": 4,
      "outputs": [
        {
          "output_type": "display_data",
          "data": {
            "text/plain": [
              "<Figure size 432x288 with 1 Axes>"
            ],
            "image/png": "[encoded data removed]"
          },
          "metadata": {
            "needs_background": "light"
          }
        },
        {
          "output_type": "display_data",
          "data": {
            "text/plain": [
              "<Figure size 432x288 with 1 Axes>"
            ],
            "image/png": "[encoded data removed]"
          },
          "metadata": {
            "needs_background": "light"
          }
        }
      ]
    },
    {
      "cell_type": "code",
      "source": [
        "loss, accuracy = model.evaluate(x_val_onehot, y_val, verbose=0)\n",
        "print(accuracy)"
      ],
      "metadata": {
        "colab": {
          "base_uri": "https://localhost:8080/"
        },
        "id": "Az5FcpS6HdHO",
        "outputId": "d034a86b-456d-4dfa-ced5-1ed2294aea47"
      },
      "execution_count": 6,
      "outputs": [
        {
          "output_type": "stream",
          "name": "stdout",
          "text": [
            "0.6525999903678894\n"
          ]
        }
      ]
    },
    {
      "cell_type": "markdown",
      "source": [
        "# 임베딩 층으로 성능 높이기"
      ],
      "metadata": {
        "id": "MwveGoS4HlYY"
      }
    },
    {
      "cell_type": "markdown",
      "source": [
        "텍스트 데이터를 원-핫 인코딩으로 전처리함으로 오는 문제들\n",
        "- 입력 데이터 크기와 사용할 수 있는 영단어의 수가 제한됨\n",
        "- 단어 사이에는 관련이 전혀 없다는 가정이 전제되어야 함\n",
        "\n",
        "단어 임베딩을 통해 해결\n",
        "- 단어를 고정된 길이의 실수 벡터로 임베딩\n",
        "- 단어 사이의 연관성을 숫자들의 차이를 통해 예상 가능\n",
        "- 훈련하면서 단어 임베딩도 훈련되므로 훈련이 진행될수록 단어의 연관 관계를 더 정확하게 찾을 수 있음"
      ],
      "metadata": {
        "id": "km_rJXDMHtzz"
      }
    },
    {
      "cell_type": "code",
      "source": [
        "from tensorflow.keras.layers import Embedding\n",
        "\n",
        "# num_words 1000개로 수정\n",
        "(x_train_all, y_train_all), (x_test, y_test) = imdb.load_data(skip_top=20, num_words=1000)\n",
        "\n",
        "for i in range(len(x_train_all)):\n",
        "  x_train_all[i] = [w for w in x_train_all[i] if w > 2]\n",
        "\n",
        "\n",
        "np.random.seed(42)\n",
        "random_index = np.random.permutation(25000)\n",
        "\n",
        "x_train = x_train_all[random_index[:20000]]\n",
        "y_train = y_train_all[random_index[:20000]]\n",
        "x_val = x_train_all[random_index[20000:]]\n",
        "y_val = y_train_all[random_index[20000:]]\n",
        "\n",
        "maxlen = 100\n",
        "x_train_seq = sequence.pad_sequences(x_train, maxlen=maxlen)\n",
        "x_val_seq = sequence.pad_sequences(x_val, maxlen=maxlen)"
      ],
      "metadata": {
        "id": "GPBMrrGUI4Ds"
      },
      "execution_count": 7,
      "outputs": []
    },
    {
      "cell_type": "code",
      "source": [
        "model_ebd = Sequential()\n",
        "\n",
        "# 단어 개수 : 1000\n",
        "# 입력 벡터의 길이 : 32 (원-핫 인코딩은 100이였음)\n",
        "model_ebd.add(Embedding(1000, 32))\n",
        "\n",
        "# 셀의 개수도 8개로 줄임\n",
        "model_ebd.add(SimpleRNN(8))\n",
        "model_ebd.add(Dense(1, activation='sigmoid'))\n",
        "\n",
        "model_ebd.summary()"
      ],
      "metadata": {
        "colab": {
          "base_uri": "https://localhost:8080/"
        },
        "id": "hYbAWnqpJey8",
        "outputId": "b22ad7b2-549b-4228-d555-73f67d7f1d36"
      },
      "execution_count": 8,
      "outputs": [
        {
          "output_type": "stream",
          "name": "stdout",
          "text": [
            "Model: \"sequential_1\"\n",
            "_________________________________________________________________\n",
            " Layer (type)                Output Shape              Param #   \n",
            "=================================================================\n",
            " embedding (Embedding)       (None, None, 32)          32000     \n",
            "                                                                 \n",
            " simple_rnn_1 (SimpleRNN)    (None, 8)                 328       \n",
            "                                                                 \n",
            " dense_1 (Dense)             (None, 1)                 9         \n",
            "                                                                 \n",
            "=================================================================\n",
            "Total params: 32,337\n",
            "Trainable params: 32,337\n",
            "Non-trainable params: 0\n",
            "_________________________________________________________________\n"
          ]
        }
      ]
    },
    {
      "cell_type": "code",
      "source": [
        "# adam 최적화 알고리즘\n",
        "model_ebd.compile(optimizer='adam', loss='binary_crossentropy', metrics=['accuracy'])\n",
        "history = model_ebd.fit(x_train_seq, y_train, epochs=10, batch_size=32, validation_data=(x_val_seq, y_val))"
      ],
      "metadata": {
        "colab": {
          "base_uri": "https://localhost:8080/"
        },
        "id": "pqXykv_hKLVl",
        "outputId": "0ccf1262-cd17-4601-f12a-71ef7b097f78"
      },
      "execution_count": 9,
      "outputs": [
        {
          "output_type": "stream",
          "name": "stdout",
          "text": [
            "Epoch 1/10\n",
            "625/625 [==============================] - 12s 18ms/step - loss: 0.5032 - accuracy: 0.7700 - val_loss: 0.4439 - val_accuracy: 0.8032\n",
            "Epoch 2/10\n",
            "625/625 [==============================] - 12s 18ms/step - loss: 0.3858 - accuracy: 0.8383 - val_loss: 0.4205 - val_accuracy: 0.8172\n",
            "Epoch 3/10\n",
            "625/625 [==============================] - 11s 18ms/step - loss: 0.3480 - accuracy: 0.8566 - val_loss: 0.4178 - val_accuracy: 0.8144\n",
            "Epoch 4/10\n",
            "625/625 [==============================] - 11s 18ms/step - loss: 0.3147 - accuracy: 0.8725 - val_loss: 0.4189 - val_accuracy: 0.8234\n",
            "Epoch 5/10\n",
            "625/625 [==============================] - 11s 18ms/step - loss: 0.2868 - accuracy: 0.8852 - val_loss: 0.4228 - val_accuracy: 0.8208\n",
            "Epoch 6/10\n",
            "625/625 [==============================] - 13s 20ms/step - loss: 0.2608 - accuracy: 0.8980 - val_loss: 0.4590 - val_accuracy: 0.8060\n",
            "Epoch 7/10\n",
            "625/625 [==============================] - 14s 23ms/step - loss: 0.2487 - accuracy: 0.9033 - val_loss: 0.4866 - val_accuracy: 0.8124\n",
            "Epoch 8/10\n",
            "625/625 [==============================] - 15s 23ms/step - loss: 0.2354 - accuracy: 0.9098 - val_loss: 0.4788 - val_accuracy: 0.8038\n",
            "Epoch 9/10\n",
            "625/625 [==============================] - 13s 20ms/step - loss: 0.2147 - accuracy: 0.9192 - val_loss: 0.5070 - val_accuracy: 0.8026\n",
            "Epoch 10/10\n",
            "625/625 [==============================] - 11s 18ms/step - loss: 0.2024 - accuracy: 0.9237 - val_loss: 0.5154 - val_accuracy: 0.7998\n"
          ]
        }
      ]
    },
    {
      "cell_type": "code",
      "source": [
        "# 손실 그래프 그리기\n",
        "plt.plot(history.history['loss'])\n",
        "plt.plot(history.history['val_loss'])\n",
        "plt.show()\n",
        "\n",
        "# 정확도 그래프 그리기\n",
        "plt.plot(history.history['accuracy'])\n",
        "plt.plot(history.history['val_accuracy'])\n",
        "plt.show()"
      ],
      "metadata": {
        "id": "bhL4_wSeLkTT"
      },
      "execution_count": null,
      "outputs": []
    },
    {
      "cell_type": "markdown",
      "source": [
        "단어 임베딩은 효율적이고 성능이 뛰어나기 때문에\n",
        "\n",
        "순환 신경망에서 텍스트 처리를 할 때 임베딩층이 기본으로 사용됨"
      ],
      "metadata": {
        "id": "PZcqW25eLwiB"
      }
    },
    {
      "cell_type": "code",
      "source": [
        "loss, accuracy = model_ebd.evaluate(x_val_seq, y_val, verbose=0)\n",
        "print(accuracy)"
      ],
      "metadata": {
        "colab": {
          "base_uri": "https://localhost:8080/"
        },
        "id": "2Kjm6xxrLwGl",
        "outputId": "4180017e-aa72-4fed-936d-d18adc0f0ed9"
      },
      "execution_count": 13,
      "outputs": [
        {
          "output_type": "stream",
          "name": "stdout",
          "text": [
            "0.7997999787330627\n"
          ]
        }
      ]
    },
    {
      "cell_type": "markdown",
      "source": [
        "# LSTM 순환 신경망 만들기"
      ],
      "metadata": {
        "id": "dneHF70MO14O"
      }
    },
    {
      "cell_type": "code",
      "source": [
        "from tensorflow.keras.layers import LSTM\n",
        "\n",
        "model_lstm = Sequential()\n",
        "\n",
        "model_lstm.add(Embedding(1000, 32))\n",
        "model_lstm.add(LSTM(8))\n",
        "model_lstm.add(Dense(1, activation='sigmoid'))\n",
        "\n",
        "model_lstm.summary()"
      ],
      "metadata": {
        "colab": {
          "base_uri": "https://localhost:8080/"
        },
        "id": "VfeMSIRZO6Cl",
        "outputId": "a2459ab0-cf60-456a-e740-da993b744adb"
      },
      "execution_count": 10,
      "outputs": [
        {
          "output_type": "stream",
          "name": "stdout",
          "text": [
            "Model: \"sequential_2\"\n",
            "_________________________________________________________________\n",
            " Layer (type)                Output Shape              Param #   \n",
            "=================================================================\n",
            " embedding_1 (Embedding)     (None, None, 32)          32000     \n",
            "                                                                 \n",
            " lstm (LSTM)                 (None, 8)                 1312      \n",
            "                                                                 \n",
            " dense_2 (Dense)             (None, 1)                 9         \n",
            "                                                                 \n",
            "=================================================================\n",
            "Total params: 33,321\n",
            "Trainable params: 33,321\n",
            "Non-trainable params: 0\n",
            "_________________________________________________________________\n"
          ]
        }
      ]
    },
    {
      "cell_type": "code",
      "source": [
        "# 훈련\n",
        "model_lstm.compile(optimizer='adam', loss='binary_crossentropy', metrics=['accuracy'])\n",
        "history = model_lstm.fit(x_train_seq, y_train, epochs=10, batch_size=32, validation_data=(x_val_seq, y_val))"
      ],
      "metadata": {
        "colab": {
          "base_uri": "https://localhost:8080/"
        },
        "id": "iZI1V4g7PPEf",
        "outputId": "a753fbf6-fdac-4205-d47a-1be0f2b57a42"
      },
      "execution_count": 11,
      "outputs": [
        {
          "output_type": "stream",
          "name": "stdout",
          "text": [
            "Epoch 1/10\n",
            "625/625 [==============================] - 19s 28ms/step - loss: 0.4541 - accuracy: 0.7916 - val_loss: 0.3821 - val_accuracy: 0.8378\n",
            "Epoch 2/10\n",
            "625/625 [==============================] - 16s 26ms/step - loss: 0.3397 - accuracy: 0.8584 - val_loss: 0.3621 - val_accuracy: 0.8426\n",
            "Epoch 3/10\n",
            "625/625 [==============================] - 16s 25ms/step - loss: 0.3146 - accuracy: 0.8692 - val_loss: 0.3634 - val_accuracy: 0.8416\n",
            "Epoch 4/10\n",
            "625/625 [==============================] - 16s 26ms/step - loss: 0.3011 - accuracy: 0.8753 - val_loss: 0.3809 - val_accuracy: 0.8362\n",
            "Epoch 5/10\n",
            "625/625 [==============================] - 18s 29ms/step - loss: 0.2824 - accuracy: 0.8820 - val_loss: 0.3675 - val_accuracy: 0.8374\n",
            "Epoch 6/10\n",
            "625/625 [==============================] - 16s 26ms/step - loss: 0.2738 - accuracy: 0.8874 - val_loss: 0.3795 - val_accuracy: 0.8364\n",
            "Epoch 7/10\n",
            "625/625 [==============================] - 16s 25ms/step - loss: 0.2600 - accuracy: 0.8927 - val_loss: 0.3879 - val_accuracy: 0.8346\n",
            "Epoch 8/10\n",
            "625/625 [==============================] - 16s 25ms/step - loss: 0.2484 - accuracy: 0.8988 - val_loss: 0.3965 - val_accuracy: 0.8324\n",
            "Epoch 9/10\n",
            "625/625 [==============================] - 16s 25ms/step - loss: 0.2413 - accuracy: 0.9004 - val_loss: 0.4033 - val_accuracy: 0.8282\n",
            "Epoch 10/10\n",
            "625/625 [==============================] - 15s 25ms/step - loss: 0.2324 - accuracy: 0.9037 - val_loss: 0.4315 - val_accuracy: 0.8346\n"
          ]
        }
      ]
    },
    {
      "cell_type": "code",
      "source": [
        "# 손실 그래프 그리기\n",
        "plt.plot(history.history['loss'])\n",
        "plt.plot(history.history['val_loss'])\n",
        "plt.show()\n",
        "\n",
        "# 정확도 그래프 그리기\n",
        "plt.plot(history.history['accuracy'])\n",
        "plt.plot(history.history['val_accuracy'])\n",
        "plt.show()"
      ],
      "metadata": {
        "colab": {
          "base_uri": "https://localhost:8080/",
          "height": 513
        },
        "id": "W7X9y_pJPY3b",
        "outputId": "cb1018cf-57bc-465d-e0a6-4a437e5f0dc2"
      },
      "execution_count": 14,
      "outputs": [
        {
          "output_type": "display_data",
          "data": {
            "text/plain": [
              "<Figure size 432x288 with 1 Axes>"
            ],
            "image/png": "[encoded data removed]"
          },
          "metadata": {
            "needs_background": "light"
          }
        },
        {
          "output_type": "display_data",
          "data": {
            "text/plain": [
              "<Figure size 432x288 with 1 Axes>"
            ],
            "image/png": "[encoded data removed]"
          },
          "metadata": {
            "needs_background": "light"
          }
        }
      ]
    },
    {
      "cell_type": "code",
      "source": [
        "loss, accuracy = model_lstm.evaluate(x_val_seq, y_val, verbose=0)\n",
        "print(accuracy)"
      ],
      "metadata": {
        "colab": {
          "base_uri": "https://localhost:8080/"
        },
        "id": "4NZhUKgIPmXc",
        "outputId": "bc222265-c9f5-473b-cf01-a597c7a93f2d"
      },
      "execution_count": 15,
      "outputs": [
        {
          "output_type": "stream",
          "name": "stdout",
          "text": [
            "0.8345999717712402\n"
          ]
        }
      ]
    }
  ]
}