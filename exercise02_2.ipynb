{
  "nbformat": 4,
  "nbformat_minor": 0,
  "metadata": {
    "colab": {
      "name": "exercise02-2.ipynb",
      "provenance": [],
      "authorship_tag": "ABX9TyPVYV9yyWDI9QPp8LECtqlV",
      "include_colab_link": true
    },
    "kernelspec": {
      "name": "python3",
      "display_name": "Python 3"
    },
    "language_info": {
      "name": "python"
    }
  },
  "cells": [
    {
      "cell_type": "markdown",
      "metadata": {
        "id": "view-in-github",
        "colab_type": "text"
      },
      "source": [
        "<a href=\"https://colab.research.google.com/github/Nungdoo/deep-learning-study/blob/main/exercise02_2.ipynb\" target=\"_parent\"><img src=\"https://colab.research.google.com/assets/colab-badge.svg\" alt=\"Open In Colab\"/></a>"
      ]
    },
    {
      "cell_type": "markdown",
      "source": [
        "넘파이 import"
      ],
      "metadata": {
        "id": "S6S7jBNp_q8x"
      }
    },
    {
      "cell_type": "code",
      "execution_count": null,
      "metadata": {
        "colab": {
          "base_uri": "https://localhost:8080/"
        },
        "id": "caVm6ryb_nEB",
        "outputId": "30e76955-166b-45de-b9bd-cc4b0b9f2651"
      },
      "outputs": [
        {
          "output_type": "stream",
          "name": "stdout",
          "text": [
            "1.21.6\n"
          ]
        }
      ],
      "source": [
        "import numpy as np\n",
        "print(np.__version__)"
      ]
    },
    {
      "cell_type": "markdown",
      "source": [
        "2차원 배열 만들기"
      ],
      "metadata": {
        "id": "4OBTURay_wVd"
      }
    },
    {
      "cell_type": "code",
      "source": [
        "my_arr = np.array([[10, 20, 30], [40, 50, 60]])\n",
        "print(my_arr)"
      ],
      "metadata": {
        "colab": {
          "base_uri": "https://localhost:8080/"
        },
        "id": "lRdb0O04_xL9",
        "outputId": "808fc9f4-4cb6-4710-a9f8-2bb6049169d4"
      },
      "execution_count": null,
      "outputs": [
        {
          "output_type": "stream",
          "name": "stdout",
          "text": [
            "[[10 20 30]\n",
            " [40 50 60]]\n"
          ]
        }
      ]
    },
    {
      "cell_type": "markdown",
      "source": [
        "배열 타입 확인하기\n",
        "- ndarray : 넘파이의 배열 클래스"
      ],
      "metadata": {
        "id": "7oNdLjVR_y92"
      }
    },
    {
      "cell_type": "code",
      "source": [
        "type(my_arr)"
      ],
      "metadata": {
        "colab": {
          "base_uri": "https://localhost:8080/"
        },
        "id": "IwEF89-U_0p1",
        "outputId": "c2438e7e-89d2-4cfc-e1e5-7410305b773a"
      },
      "execution_count": null,
      "outputs": [
        {
          "output_type": "execute_result",
          "data": {
            "text/plain": [
              "numpy.ndarray"
            ]
          },
          "metadata": {},
          "execution_count": 3
        }
      ]
    },
    {
      "cell_type": "markdown",
      "source": [
        "배열에 접근"
      ],
      "metadata": {
        "id": "bvBT5QcRACd_"
      }
    },
    {
      "cell_type": "code",
      "source": [
        "my_arr[0][2]"
      ],
      "metadata": {
        "colab": {
          "base_uri": "https://localhost:8080/"
        },
        "id": "4779gw3pAEqh",
        "outputId": "7c3a8af2-350c-4454-b9ef-3391f70b3fd8"
      },
      "execution_count": null,
      "outputs": [
        {
          "output_type": "execute_result",
          "data": {
            "text/plain": [
              "30"
            ]
          },
          "metadata": {},
          "execution_count": 4
        }
      ]
    },
    {
      "cell_type": "markdown",
      "source": [
        "넘파이 내장함수 사용\n",
        "- sum : 배열의 요소를 모두 더함"
      ],
      "metadata": {
        "id": "t6EOcwLnAP0Q"
      }
    },
    {
      "cell_type": "code",
      "source": [
        "np.sum(my_arr)"
      ],
      "metadata": {
        "colab": {
          "base_uri": "https://localhost:8080/"
        },
        "id": "GrNv3sHpAR9D",
        "outputId": "aee0cae8-8462-41f2-b1d0-b9f547be7d5d"
      },
      "execution_count": null,
      "outputs": [
        {
          "output_type": "execute_result",
          "data": {
            "text/plain": [
              "210"
            ]
          },
          "metadata": {},
          "execution_count": 5
        }
      ]
    },
    {
      "cell_type": "markdown",
      "source": [
        "맷플롯립 import"
      ],
      "metadata": {
        "id": "E-usrVD-BLGD"
      }
    },
    {
      "cell_type": "code",
      "source": [
        "import matplotlib.pyplot as plt"
      ],
      "metadata": {
        "id": "grzKIPdmBNGb"
      },
      "execution_count": null,
      "outputs": []
    },
    {
      "cell_type": "markdown",
      "source": [
        "선 그래프 그리기\n",
        "- x축과 y축의 값을 plot 함수에 전달"
      ],
      "metadata": {
        "id": "jDgli0YbBVFD"
      }
    },
    {
      "cell_type": "code",
      "source": [
        "plt.plot([1, 2, 3, 4, 5], [1, 4, 9, 16, 25])\n",
        "plt.show()"
      ],
      "metadata": {
        "colab": {
          "base_uri": "https://localhost:8080/",
          "height": 265
        },
        "id": "p_MSvagjBWcs",
        "outputId": "b14d7dd7-af95-4e6d-e5e2-9edb2dc8b7b3"
      },
      "execution_count": null,
      "outputs": [
        {
          "output_type": "display_data",
          "data": {
            "text/plain": [
              "<Figure size 432x288 with 1 Axes>"
            ],
            "image/png": "[encoded data removed]"
          },
          "metadata": {
            "needs_background": "light"
          }
        }
      ]
    },
    {
      "cell_type": "markdown",
      "source": [
        "산점도(scatter plot) 그리기"
      ],
      "metadata": {
        "id": "fWnJWFS7Bnwd"
      }
    },
    {
      "cell_type": "code",
      "source": [
        "plt.scatter([1, 2, 3, 4, 5], [1, 4, 9, 16, 25])\n",
        "plt.show()"
      ],
      "metadata": {
        "colab": {
          "base_uri": "https://localhost:8080/",
          "height": 265
        },
        "id": "iIfFpTfZBzRb",
        "outputId": "f993af47-60ce-4d6f-c660-46838576fe67"
      },
      "execution_count": null,
      "outputs": [
        {
          "output_type": "display_data",
          "data": {
            "text/plain": [
              "<Figure size 432x288 with 1 Axes>"
            ],
            "image/png": "[encoded data removed]"
          },
          "metadata": {
            "needs_background": "light"
          }
        }
      ]
    },
    {
      "cell_type": "markdown",
      "source": [
        "넘파이 배열로 산점도 그리기"
      ],
      "metadata": {
        "id": "r2nW9eoxCAxg"
      }
    },
    {
      "cell_type": "code",
      "source": [
        "x = np.random.randn(1000)\n",
        "y = np.random.randn(1000)\n",
        "plt.scatter(x, y)\n",
        "plt.show()"
      ],
      "metadata": {
        "colab": {
          "base_uri": "https://localhost:8080/",
          "height": 265
        },
        "id": "272WxPoXCHRF",
        "outputId": "3a22632a-3c55-4b5b-9c54-21b81bc12de1"
      },
      "execution_count": null,
      "outputs": [
        {
          "output_type": "display_data",
          "data": {
            "text/plain": [
              "<Figure size 432x288 with 1 Axes>"
            ],
            "image/png": "[encoded data removed]"
          },
          "metadata": {
            "needs_background": "light"
          }
        }
      ]
    }
  ]
}