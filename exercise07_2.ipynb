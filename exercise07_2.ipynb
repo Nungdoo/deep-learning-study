{
  "nbformat": 4,
  "nbformat_minor": 0,
  "metadata": {
    "colab": {
      "provenance": [],
      "authorship_tag": "ABX9TyOAhBlaXIw3qzurxoI23Rsj",
      "include_colab_link": true
    },
    "kernelspec": {
      "name": "python3",
      "display_name": "Python 3"
    },
    "language_info": {
      "name": "python"
    }
  },
  "cells": [
    {
      "cell_type": "markdown",
      "metadata": {
        "id": "view-in-github",
        "colab_type": "text"
      },
      "source": [
        "<a href=\"https://colab.research.google.com/github/Nungdoo/deep-learning-study/blob/main/exercise07_2.ipynb\" target=\"_parent\"><img src=\"https://colab.research.google.com/assets/colab-badge.svg\" alt=\"Open In Colab\"/></a>"
      ]
    },
    {
      "cell_type": "markdown",
      "source": [
        "케라스로 다중 분류 신경망 만들기"
      ],
      "metadata": {
        "id": "qa8_9IMldH7B"
      }
    },
    {
      "cell_type": "code",
      "source": [
        "import tensorflow as tf\n",
        "import matplotlib.pyplot as plt\n",
        "import numpy as np\n",
        "from sklearn.model_selection import train_test_split\n",
        "\n",
        "class_names = ['티셔츠/윗도리', '바지', '스웨터', '드레스', '코트', '샌들', '셔츠', '스니커즈', '가방', '앵클부츠']\n",
        "\n",
        "(x_train_all, y_train_all), (x_test, y_test) = tf.keras.datasets.fashion_mnist.load_data()\n",
        "\n",
        "x_train, x_val, y_train, y_val = train_test_split(x_train_all, y_train_all, stratify=y_train_all, test_size=0.2, random_state=42)\n",
        "\n",
        "x_train = x_train / 255\n",
        "x_val = x_val / 255\n",
        "\n",
        "x_train = x_train.reshape(-1, 784)\n",
        "x_val = x_val.reshape(-1, 784)\n",
        "\n",
        "y_train_encoded = tf.keras.utils.to_categorical(y_train)\n",
        "y_val_encoded = tf.keras.utils.to_categorical(y_val)"
      ],
      "metadata": {
        "colab": {
          "base_uri": "https://localhost:8080/"
        },
        "id": "m9cSzhSafBnP",
        "outputId": "551b67f0-155a-494a-c46f-6ab1336a6db9"
      },
      "execution_count": 1,
      "outputs": [
        {
          "output_type": "stream",
          "name": "stdout",
          "text": [
            "Downloading data from https://storage.googleapis.com/tensorflow/tf-keras-datasets/train-labels-idx1-ubyte.gz\n",
            "32768/29515 [=================================] - 0s 0us/step\n",
            "40960/29515 [=========================================] - 0s 0us/step\n",
            "Downloading data from https://storage.googleapis.com/tensorflow/tf-keras-datasets/train-images-idx3-ubyte.gz\n",
            "26427392/26421880 [==============================] - 0s 0us/step\n",
            "26435584/26421880 [==============================] - 0s 0us/step\n",
            "Downloading data from https://storage.googleapis.com/tensorflow/tf-keras-datasets/t10k-labels-idx1-ubyte.gz\n",
            "16384/5148 [===============================================================================================] - 0s 0us/step\n",
            "Downloading data from https://storage.googleapis.com/tensorflow/tf-keras-datasets/t10k-images-idx3-ubyte.gz\n",
            "4423680/4422102 [==============================] - 0s 0us/step\n",
            "4431872/4422102 [==============================] - 0s 0us/step\n"
          ]
        }
      ]
    },
    {
      "cell_type": "code",
      "execution_count": 5,
      "metadata": {
        "colab": {
          "base_uri": "https://localhost:8080/"
        },
        "id": "QL4yJGxTc_Jg",
        "outputId": "b260f59c-c6f5-47be-e7fd-96ff8f27c960"
      },
      "outputs": [
        {
          "output_type": "stream",
          "name": "stdout",
          "text": [
            "Epoch 1/40\n",
            "1500/1500 [==============================] - 5s 3ms/step - loss: 1.3810 - accuracy: 0.6320 - val_loss: 0.9669 - val_accuracy: 0.7314\n",
            "Epoch 2/40\n",
            "1500/1500 [==============================] - 8s 5ms/step - loss: 0.8471 - accuracy: 0.7394 - val_loss: 0.7541 - val_accuracy: 0.7588\n",
            "Epoch 3/40\n",
            "1500/1500 [==============================] - 6s 4ms/step - loss: 0.7156 - accuracy: 0.7611 - val_loss: 0.6672 - val_accuracy: 0.7754\n",
            "Epoch 4/40\n",
            "1500/1500 [==============================] - 4s 3ms/step - loss: 0.6508 - accuracy: 0.7770 - val_loss: 0.6174 - val_accuracy: 0.7897\n",
            "Epoch 5/40\n",
            "1500/1500 [==============================] - 4s 3ms/step - loss: 0.6087 - accuracy: 0.7903 - val_loss: 0.5811 - val_accuracy: 0.7997\n",
            "Epoch 6/40\n",
            "1500/1500 [==============================] - 4s 3ms/step - loss: 0.5786 - accuracy: 0.8002 - val_loss: 0.5546 - val_accuracy: 0.8077\n",
            "Epoch 7/40\n",
            "1500/1500 [==============================] - 6s 4ms/step - loss: 0.5550 - accuracy: 0.8078 - val_loss: 0.5343 - val_accuracy: 0.8166\n",
            "Epoch 8/40\n",
            "1500/1500 [==============================] - 6s 4ms/step - loss: 0.5367 - accuracy: 0.8139 - val_loss: 0.5195 - val_accuracy: 0.8182\n",
            "Epoch 9/40\n",
            "1500/1500 [==============================] - 6s 4ms/step - loss: 0.5217 - accuracy: 0.8204 - val_loss: 0.5035 - val_accuracy: 0.8252\n",
            "Epoch 10/40\n",
            "1500/1500 [==============================] - 5s 3ms/step - loss: 0.5092 - accuracy: 0.8229 - val_loss: 0.4922 - val_accuracy: 0.8276\n",
            "Epoch 11/40\n",
            "1500/1500 [==============================] - 6s 4ms/step - loss: 0.4988 - accuracy: 0.8273 - val_loss: 0.4825 - val_accuracy: 0.8313\n",
            "Epoch 12/40\n",
            "1500/1500 [==============================] - 5s 4ms/step - loss: 0.4894 - accuracy: 0.8296 - val_loss: 0.4774 - val_accuracy: 0.8343\n",
            "Epoch 13/40\n",
            "1500/1500 [==============================] - 5s 3ms/step - loss: 0.4815 - accuracy: 0.8322 - val_loss: 0.4666 - val_accuracy: 0.8362\n",
            "Epoch 14/40\n",
            "1500/1500 [==============================] - 5s 3ms/step - loss: 0.4742 - accuracy: 0.8348 - val_loss: 0.4599 - val_accuracy: 0.8391\n",
            "Epoch 15/40\n",
            "1500/1500 [==============================] - 5s 3ms/step - loss: 0.4676 - accuracy: 0.8365 - val_loss: 0.4553 - val_accuracy: 0.8397\n",
            "Epoch 16/40\n",
            "1500/1500 [==============================] - 5s 3ms/step - loss: 0.4618 - accuracy: 0.8401 - val_loss: 0.4495 - val_accuracy: 0.8413\n",
            "Epoch 17/40\n",
            "1500/1500 [==============================] - 5s 3ms/step - loss: 0.4564 - accuracy: 0.8408 - val_loss: 0.4451 - val_accuracy: 0.8443\n",
            "Epoch 18/40\n",
            "1500/1500 [==============================] - 6s 4ms/step - loss: 0.4515 - accuracy: 0.8419 - val_loss: 0.4395 - val_accuracy: 0.8457\n",
            "Epoch 19/40\n",
            "1500/1500 [==============================] - 5s 3ms/step - loss: 0.4465 - accuracy: 0.8438 - val_loss: 0.4385 - val_accuracy: 0.8452\n",
            "Epoch 20/40\n",
            "1500/1500 [==============================] - 4s 3ms/step - loss: 0.4425 - accuracy: 0.8450 - val_loss: 0.4321 - val_accuracy: 0.8471\n",
            "Epoch 21/40\n",
            "1500/1500 [==============================] - 5s 3ms/step - loss: 0.4385 - accuracy: 0.8461 - val_loss: 0.4295 - val_accuracy: 0.8497\n",
            "Epoch 22/40\n",
            "1500/1500 [==============================] - 8s 5ms/step - loss: 0.4347 - accuracy: 0.8471 - val_loss: 0.4249 - val_accuracy: 0.8506\n",
            "Epoch 23/40\n",
            "1500/1500 [==============================] - 10s 7ms/step - loss: 0.4310 - accuracy: 0.8482 - val_loss: 0.4252 - val_accuracy: 0.8493\n",
            "Epoch 24/40\n",
            "1500/1500 [==============================] - 9s 6ms/step - loss: 0.4275 - accuracy: 0.8500 - val_loss: 0.4215 - val_accuracy: 0.8536\n",
            "Epoch 25/40\n",
            "1500/1500 [==============================] - 11s 7ms/step - loss: 0.4246 - accuracy: 0.8507 - val_loss: 0.4185 - val_accuracy: 0.8529\n",
            "Epoch 26/40\n",
            "1500/1500 [==============================] - 7s 5ms/step - loss: 0.4218 - accuracy: 0.8513 - val_loss: 0.4148 - val_accuracy: 0.8546\n",
            "Epoch 27/40\n",
            "1500/1500 [==============================] - 5s 3ms/step - loss: 0.4186 - accuracy: 0.8522 - val_loss: 0.4126 - val_accuracy: 0.8555\n",
            "Epoch 28/40\n",
            "1500/1500 [==============================] - 7s 5ms/step - loss: 0.4159 - accuracy: 0.8533 - val_loss: 0.4106 - val_accuracy: 0.8577\n",
            "Epoch 29/40\n",
            "1500/1500 [==============================] - 7s 4ms/step - loss: 0.4133 - accuracy: 0.8542 - val_loss: 0.4071 - val_accuracy: 0.8573\n",
            "Epoch 30/40\n",
            "1500/1500 [==============================] - 6s 4ms/step - loss: 0.4109 - accuracy: 0.8551 - val_loss: 0.4044 - val_accuracy: 0.8572\n",
            "Epoch 31/40\n",
            "1500/1500 [==============================] - 4s 3ms/step - loss: 0.4084 - accuracy: 0.8554 - val_loss: 0.4031 - val_accuracy: 0.8572\n",
            "Epoch 32/40\n",
            "1500/1500 [==============================] - 4s 3ms/step - loss: 0.4062 - accuracy: 0.8569 - val_loss: 0.4017 - val_accuracy: 0.8582\n",
            "Epoch 33/40\n",
            "1500/1500 [==============================] - 4s 3ms/step - loss: 0.4039 - accuracy: 0.8573 - val_loss: 0.3992 - val_accuracy: 0.8601\n",
            "Epoch 34/40\n",
            "1500/1500 [==============================] - 4s 3ms/step - loss: 0.4015 - accuracy: 0.8585 - val_loss: 0.3983 - val_accuracy: 0.8590\n",
            "Epoch 35/40\n",
            "1500/1500 [==============================] - 4s 3ms/step - loss: 0.3994 - accuracy: 0.8598 - val_loss: 0.3959 - val_accuracy: 0.8612\n",
            "Epoch 36/40\n",
            "1500/1500 [==============================] - 4s 3ms/step - loss: 0.3973 - accuracy: 0.8604 - val_loss: 0.3965 - val_accuracy: 0.8593\n",
            "Epoch 37/40\n",
            "1500/1500 [==============================] - 4s 3ms/step - loss: 0.3956 - accuracy: 0.8610 - val_loss: 0.3942 - val_accuracy: 0.8600\n",
            "Epoch 38/40\n",
            "1500/1500 [==============================] - 6s 4ms/step - loss: 0.3936 - accuracy: 0.8612 - val_loss: 0.3910 - val_accuracy: 0.8624\n",
            "Epoch 39/40\n",
            "1500/1500 [==============================] - 5s 3ms/step - loss: 0.3919 - accuracy: 0.8613 - val_loss: 0.3903 - val_accuracy: 0.8615\n",
            "Epoch 40/40\n",
            "1500/1500 [==============================] - 4s 3ms/step - loss: 0.3900 - accuracy: 0.8621 - val_loss: 0.3902 - val_accuracy: 0.8627\n"
          ]
        }
      ],
      "source": [
        "# 모델 생성\n",
        "model = tf.keras.models.Sequential()\n",
        "\n",
        "# 모델에 은닉층과 출력층 추가\n",
        "model.add(tf.keras.layers.Dense(100, activation='sigmoid', input_shape=(784,))) # 은닉층 유닛 개수 100, 28X28 = 784\n",
        "model.add(tf.keras.layers.Dense(10, activation='softmax'))                      # 출력층 유닛 개수 10\n",
        "\n",
        "# 최적화 알고리즘 경사하강법, 손실 함수 크로스 엔트로피 손실 함수 지정\n",
        "# 모델 훈련하며 기록한 History 에 대한 기록도 보기위해 accuracy 추가\n",
        "model.compile(optimizer='sgd', loss='categorical_crossentropy', metrics=['accuracy'])\n",
        "\n",
        "# 모델 훈련하기\n",
        "# 훈련하기 위해 손실과 정확도를 게산하기 위해 validation_data에 검증세트를 넘겨줌\n",
        "history = model.fit(x_train, y_train_encoded, epochs=40, validation_data=(x_val, y_val_encoded))"
      ]
    },
    {
      "cell_type": "markdown",
      "source": [
        "history에 훈련/검증 세트에서의 손실과 정확도가 저장됨"
      ],
      "metadata": {
        "id": "LkEn8Otvgi63"
      }
    },
    {
      "cell_type": "code",
      "source": [
        "print(history.history.keys())"
      ],
      "metadata": {
        "colab": {
          "base_uri": "https://localhost:8080/"
        },
        "id": "xelU952RgcTk",
        "outputId": "a4291622-83e0-4d6b-c4c4-79c22a28e8b7"
      },
      "execution_count": 6,
      "outputs": [
        {
          "output_type": "stream",
          "name": "stdout",
          "text": [
            "dict_keys(['loss', 'accuracy', 'val_loss', 'val_accuracy'])\n"
          ]
        }
      ]
    },
    {
      "cell_type": "code",
      "source": [
        "plt.plot(history.history['loss'])\n",
        "plt.plot(history.history['val_loss'])\n",
        "plt.ylabel('loss')\n",
        "plt.xlabel('epoch')\n",
        "plt.legend(['train_loss', 'val_loss'])\n",
        "plt.show()"
      ],
      "metadata": {
        "colab": {
          "base_uri": "https://localhost:8080/",
          "height": 279
        },
        "id": "GcqW0qpng1Wf",
        "outputId": "27f26b6f-24f1-4d79-e6a8-806ba2388c1e"
      },
      "execution_count": 7,
      "outputs": [
        {
          "output_type": "display_data",
          "data": {
            "text/plain": [
              "<Figure size 432x288 with 1 Axes>"
            ],
            "image/png": "[encoded data removed]"
          },
          "metadata": {
            "needs_background": "light"
          }
        }
      ]
    },
    {
      "cell_type": "code",
      "source": [
        "plt.plot(history.history['accuracy'])\n",
        "plt.plot(history.history['val_accuracy'])\n",
        "plt.ylabel('accuracy')\n",
        "plt.xlabel('epoch')\n",
        "plt.legend(['train_accuracy', 'val_accuracy'])\n",
        "plt.show()"
      ],
      "metadata": {
        "colab": {
          "base_uri": "https://localhost:8080/",
          "height": 279
        },
        "id": "em-7ZhylhBsl",
        "outputId": "be13371c-3755-47b1-ec5b-4c05942a66c5"
      },
      "execution_count": 8,
      "outputs": [
        {
          "output_type": "display_data",
          "data": {
            "text/plain": [
              "<Figure size 432x288 with 1 Axes>"
            ],
            "image/png": "[encoded data removed]"
          },
          "metadata": {
            "needs_background": "light"
          }
        }
      ]
    },
    {
      "cell_type": "code",
      "source": [
        "# 검증 세트 정확도 계산하기\n",
        "loss, accuracy = model.evaluate(x_val, y_val_encoded, verbose=0)\n",
        "print(accuracy)"
      ],
      "metadata": {
        "colab": {
          "base_uri": "https://localhost:8080/"
        },
        "id": "Fub7pwvrhNcO",
        "outputId": "1347d689-5da7-4508-f7a2-25cfda777d9e"
      },
      "execution_count": 9,
      "outputs": [
        {
          "output_type": "stream",
          "name": "stdout",
          "text": [
            "0.862666666507721\n"
          ]
        }
      ]
    },
    {
      "cell_type": "markdown",
      "source": [
        "이미지 데이터에 잘 맞는 모델이 아님에도 MultiClassNetwork보다 좋은 성능을 보임"
      ],
      "metadata": {
        "id": "pR862LOthlGp"
      }
    }
  ]
}