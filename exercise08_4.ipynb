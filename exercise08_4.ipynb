{
  "nbformat": 4,
  "nbformat_minor": 0,
  "metadata": {
    "colab": {
      "provenance": [],
      "collapsed_sections": [],
      "toc_visible": true,
      "authorship_tag": "ABX9TyMD3WgT0sor777vBZskCMAl",
      "include_colab_link": true
    },
    "kernelspec": {
      "name": "python3",
      "display_name": "Python 3"
    },
    "language_info": {
      "name": "python"
    }
  },
  "cells": [
    {
      "cell_type": "markdown",
      "metadata": {
        "id": "view-in-github",
        "colab_type": "text"
      },
      "source": [
        "<a href=\"https://colab.research.google.com/github/Nungdoo/deep-learning-study/blob/main/exercise08_4.ipynb\" target=\"_parent\"><img src=\"https://colab.research.google.com/assets/colab-badge.svg\" alt=\"Open In Colab\"/></a>"
      ]
    },
    {
      "cell_type": "markdown",
      "source": [
        "# 합성곱 신경망 구현하기"
      ],
      "metadata": {
        "id": "tqJGxLNF5Pcy"
      }
    },
    {
      "cell_type": "markdown",
      "source": [
        "**합성곱 신경망의 정방향 계산 구현하기**\n",
        "\n",
        "forpass()\n",
        "- conv2d 함수를 통해 합성곱 수행\n",
        "- 가중치 self.conv_w : 3 X 3 X 1 X 10\n",
        "- 커널마다 1개의 절편, 총 10개의 절편을 더함 self.conv_b\n",
        "- 1차원 배열 self.conv_b는 conv2d() 함수의 결과 마지막 차원에 브로드캐스팅 됨\n",
        "- 풀링으로 줄어든 특성 맵을 배치 차원을 제외한 나머지 차원만 펼침"
      ],
      "metadata": {
        "id": "AOu5-QDmpv35"
      }
    },
    {
      "cell_type": "code",
      "execution_count": null,
      "metadata": {
        "id": "GY2TdDuaprXB"
      },
      "outputs": [],
      "source": [
        "import tensorflow as tf\n",
        "\n",
        "def forpass(self, x):\n",
        "  # 3 X 3 합성곱 연산을 수행합니다.\n",
        "  c_out = tf.nn.conv2d(x, self.conv_w, strides=1, padding='SAME') + self.conv_b\n",
        "  # 렐루 함수를 적용합니다.\n",
        "  r_out = tf.nn.relu(c_out)\n",
        "  # 2 X 2 최대 풀링을 적용합니다.\n",
        "  p_out = tf.nn.max_pool2d(r_out, ksize=2, strides=2, padding='VALID')\n",
        "  # 첫 번째 배치 차원을 제외하고 출력을 일렬로 펼칩니다.\n",
        "  f_out = tf.reshape(p_out, [x.shape[0], -1])\n",
        "\n",
        "  # 완전연결층\n",
        "  z1 = tf.matmul(f_out, self.w1) + self.b1          # 첫 번째 층의 선형식 계산\n",
        "  a1 = tf.nn.relu(z1)                               # 활성화 함수 적용\n",
        "  z2 = tf.matmul(a1, self.w2) + self.b2             # 두 번째 층의 선형식 계산\n",
        "  return z2"
      ]
    },
    {
      "cell_type": "markdown",
      "source": [
        "**합성곱 신경망의 역방향 계산 구현하기**\n",
        "\n",
        "그레이디언트를 구하기 위해 텐서플로의 자동 미분 기능을 사용\n",
        "- 임의의 파이썬 코드나 함수에 대한 미분값 계산 가능\n",
        "- with 블럭으로 tf.GradientTape() 객체가 감시할 코드를 감쌈\n",
        "- tape 객체는 with 블럭 안에서 일어나는 모든 연산을 기록하고 텐서플로 변수인 tf.Variable 객체를 자동으로 추적함"
      ],
      "metadata": {
        "id": "gARPgWswtgvB"
      }
    },
    {
      "cell_type": "code",
      "source": [
        "import tensorflow as tf\n",
        "import numpy as np\n",
        "\n",
        "x = tf.Variable(np.array([1.0, 2.0, 3.0]))\n",
        "with tf.GradientTape() as tape:\n",
        "  y = x ** 3 + 2 * x + 5\n",
        "\n",
        "# 그레이디언트를 계산합니다.\n",
        "print(tape.gradient(y, x))"
      ],
      "metadata": {
        "colab": {
          "base_uri": "https://localhost:8080/"
        },
        "id": "tsq-fE1ft3lS",
        "outputId": "fa2ca64c-8d40-4061-c7db-3b1002c8ec61"
      },
      "execution_count": 2,
      "outputs": [
        {
          "output_type": "stream",
          "name": "stdout",
          "text": [
            "tf.Tensor([ 5. 14. 29.], shape=(3,), dtype=float64)\n"
          ]
        }
      ]
    },
    {
      "cell_type": "markdown",
      "source": [
        "자동 미분 기능을 이용하면, backprop() 함수 구현할 필요 없음\n",
        "\n",
        "training()\n",
        "- backprop() 호출하던 부분 제거\n",
        "- softmax_cross_entropy_with_logits() 함수를 이용해 정방향 계산의 결과(z)와 타깃(y)을 기반으로 손실값 계산\n",
        "- softmax_cross_entropy_with_logits() 함수는 배치의 각 샘플에 대한 손실을 반환하므로 reduce_mean()을 이용해 평균 계산\n",
        "\n",
        "그레이디언트 계산하기\n",
        "- tape.gradient() 함수를 이용해 자동으로 계산\n",
        "- optimizer.apply_gradients() 함수를 이용해 가중치 업데이트\n"
      ],
      "metadata": {
        "id": "FFQswEaWuvLJ"
      }
    },
    {
      "cell_type": "code",
      "source": [
        "def training(self, x, y):\n",
        "  m = len(x)\n",
        "  with tf.GradientTape() as tape:\n",
        "    # 정방향 계산 수행\n",
        "    z = self.forpass(x)\n",
        "    # 손실 계산\n",
        "    loss = tf.nn.softmax_cross_entropy_with_logits(y, z)\n",
        "    loss = tf.reduce_mean(loss)\n",
        "\n",
        "    weights_list = [self.conv_w, self.conv_b, self.w1, self.b1, self.w2, self.b2]\n",
        "    # 가중치에 대한 그레이디언트를 계산합니다.\n",
        "    grads = tape.gradient(loss, weights_list)\n",
        "    # 가중치를 업데이트합니다.\n",
        "    self.optimizer.apply_gradients(zip(grads, weights_list))"
      ],
      "metadata": {
        "id": "uYHB8hV9vS57"
      },
      "execution_count": null,
      "outputs": []
    },
    {
      "cell_type": "markdown",
      "source": [
        "**옵티마이저 객체를 만들어 가중치 초기화하기**\n",
        "\n",
        "fit()\n",
        "- 확률적 경사 하강법을 사용하는 옵티마이저 생성"
      ],
      "metadata": {
        "id": "D4PIHjdgx1nn"
      }
    },
    {
      "cell_type": "code",
      "source": [
        "def fit(self, x, y, epochs=100, x_val=None, y_val=None):\n",
        "    self.init_weights(x.shape, y.shape[1])                     # 은닉층과 출력층의 가중치 초기화\n",
        "    self.optimizer = tf.optimizers.SGD(learning_rate=self.lr)\n",
        "\n",
        "    for i in range(epochs):\n",
        "      loss = 0\n",
        "      print('에포크', i, end=' ')\n",
        "      batch_losses = []\n",
        "      for x_batch, y_batch in self.gen_batch(x, y):               # 미니 배치 순환\n",
        "        print('.', end='')\n",
        "        self.training(x_batch, y_batch)\n",
        "        # 배치 손실을 기록합니다.\n",
        "        batch_losses.append(self.get_loss(x_batch, y_batch))\n",
        "      print( )\n",
        "      # 배치 손실 평균을 내어 훈련 손실값으로 저장합니다.\n",
        "      self.losses.append(np.mean(batch_losses))\n",
        "      # 검증 세트에 대한 손실을 계산합니다.\n",
        "      self.val_losses.append(self.get_loss(x_val, y_val))"
      ],
      "metadata": {
        "id": "KoYmEIZgyLbD"
      },
      "execution_count": null,
      "outputs": []
    },
    {
      "cell_type": "markdown",
      "source": [
        "init_weights()\n",
        "- glorot_uniform() 함수를 이용해 가중치 초기화\n",
        "- 자동 미분 기능을 사용하기 위해 가중치를 tf.Variable() 함수로 만들어야 함\n",
        "\n",
        "글로럿 초기화 방식\n",
        "- 신경망 모델이 커지만 손실 함수도 복잡해져 출발점에 따라 결과가 달라질 수 있음\n",
        "- 가중치를 잘못 초기화하면 전역 최적점이 아닌, 지역 최적점을 찾음\n",
        "- glorot_uniform() 함수로 만든 객체에 필요한 가중치 크기를 전달"
      ],
      "metadata": {
        "id": "aZiaZxv0zpZi"
      }
    },
    {
      "cell_type": "code",
      "source": [
        "def init_weights(self, input_shape, n_classes):\n",
        "  g = tf.initializers.glorot_uniform()\n",
        "  self.conv_w = tf.Variable(g((3, 3, 1, self.n_kernels)))\n",
        "  self.conv_b = tf.Variable(np.zeros(self.n_kernels), dtype=float)\n",
        "  n_features = 14 * 14 * self.n_kernels\n",
        "  self.w1 = tf.Variable(g((n_features, self.units)))\n",
        "  self.b1 = tf.Variable(np.zeros(self.units), dtype=float)\n",
        "  self.w2 = tf.Variable(g((self.units, n_classes)))         # (은닉층의 크기, 클래스의 크기)\n",
        "  self.b2 = tf.Variable(np.zeros(n_classes), dtype=float)   # 클래스의 크기"
      ],
      "metadata": {
        "id": "jFFofVAuz0QG"
      },
      "execution_count": null,
      "outputs": []
    },
    {
      "cell_type": "code",
      "source": [
        "class ConvolutionNetwork:\n",
        "\n",
        "  def __init__(self, n_kernels=10, units=10, batch_size=32, learning_rate=0.1):\n",
        "    self.n_kernels = n_kernels  # 합성곱의 커널 개수\n",
        "    self.kernel_size = 3        # 커널 크기\n",
        "    self.optimizer = None       # 옵티마이저\n",
        "    self.conv_w = None          # 합성곱층의 가중치\n",
        "    self.conv_b = None          # 합성곱층의 절편\n",
        "\n",
        "    self.units = units      # 은닉층의 뉴런 개수\n",
        "    self.w1 = None          # 은닉층의 가중치\n",
        "    self.b1 = None          # 은닉층의 절편\n",
        "    self.w2 = None          # 출력층의 가중치\n",
        "    self.b2 = None          # 출력층의 절편\n",
        "    self.a1 = None          # 은닉층의 활성화 출력, 역방향 계산 시 필요하여 저장\n",
        "    self.losses = []        # 훈련 손실\n",
        "    self.val_losses = []    # 검증 손실\n",
        "    self.lr = learning_rate # 학습률\n",
        "    self.batch_size = batch_size\n",
        "\n",
        "  def forpass(self, x):\n",
        "    # 3 X 3 합성곱 연산을 수행합니다.\n",
        "    c_out = tf.nn.conv2d(x, self.conv_w, strides=1, padding='SAME') + self.conv_b\n",
        "    # 렐루 함수를 적용합니다.\n",
        "    r_out = tf.nn.relu(c_out)\n",
        "    # 2 X 2 최대 풀링을 적용합니다.\n",
        "    p_out = tf.nn.max_pool2d(r_out, ksize=2, strides=2, padding='VALID')\n",
        "    # 첫 번째 배치 차원을 제외하고 출력을 일렬로 펼칩니다.\n",
        "    f_out = tf.reshape(p_out, [x.shape[0], -1])\n",
        "\n",
        "    # 완전연결층\n",
        "    z1 = tf.matmul(f_out, self.w1) + self.b1          # 첫 번째 층의 선형식 계산\n",
        "    a1 = tf.nn.relu(z1)                               # 활성화 함수 적용\n",
        "    z2 = tf.matmul(a1, self.w2) + self.b2             # 두 번째 층의 선형식 계산\n",
        "    return z2\n",
        "\n",
        "  def init_weights(self, input_shape, n_classes):\n",
        "    g = tf.initializers.glorot_uniform()\n",
        "    self.conv_w = tf.Variable(g((3, 3, 1, self.n_kernels)))\n",
        "    self.conv_b = tf.Variable(np.zeros(self.n_kernels), dtype=float)\n",
        "    n_features = 14 * 14 * self.n_kernels\n",
        "    self.w1 = tf.Variable(g((n_features, self.units)))\n",
        "    self.b1 = tf.Variable(np.zeros(self.units), dtype=float)\n",
        "    self.w2 = tf.Variable(g((self.units, n_classes)))         # (은닉층의 크기, 클래스의 크기)\n",
        "    self.b2 = tf.Variable(np.zeros(n_classes), dtype=float)   # 클래스의 크기\n",
        "\n",
        "  def fit(self, x, y, epochs=100, x_val=None, y_val=None):\n",
        "    self.init_weights(x.shape, y.shape[1])                     # 은닉층과 출력층의 가중치 초기화\n",
        "    self.optimizer = tf.optimizers.SGD(learning_rate=self.lr)\n",
        "\n",
        "    for i in range(epochs):\n",
        "      loss = 0\n",
        "      print('에포크', i, end=' ')\n",
        "      batch_losses = []\n",
        "      for x_batch, y_batch in self.gen_batch(x, y):               # 미니 배치 순환\n",
        "        print('.', end='')\n",
        "        self.training(x_batch, y_batch)\n",
        "        # 배치 손실을 기록합니다.\n",
        "        batch_losses.append(self.get_loss(x_batch, y_batch))\n",
        "      print( )\n",
        "      # 배치 손실 평균을 내어 훈련 손실값으로 저장합니다.\n",
        "      self.losses.append(np.mean(batch_losses))\n",
        "      # 검증 세트에 대한 손실을 계산합니다.\n",
        "      self.val_losses.append(self.get_loss(x_val, y_val))\n",
        "\n",
        "  def gen_batch(self, x, y):\n",
        "    bins = len(x) // self.batch_size\n",
        "    indexes = np.random.permutation(np.arange(len(x)))\n",
        "    x = x[indexes]\n",
        "    y = y[indexes]\n",
        "    for i in range(bins):\n",
        "      start = self.batch_size * i\n",
        "      end = self.batch_size * (i + 1)\n",
        "      yield x[start:end], y[start:end]\n",
        "\n",
        "  def training(self, x, y):\n",
        "    m = len(x)\n",
        "    with tf.GradientTape() as tape:\n",
        "      # 정방향 계산 수행\n",
        "      z = self.forpass(x)\n",
        "      # 손실 계산\n",
        "      loss = tf.nn.softmax_cross_entropy_with_logits(y, z)\n",
        "      loss = tf.reduce_mean(loss)\n",
        "\n",
        "    weights_list = [self.conv_w, self.conv_b, self.w1, self.b1, self.w2, self.b2]\n",
        "    # 가중치에 대한 그레이디언트를 계산합니다.\n",
        "    grads = tape.gradient(loss, weights_list)\n",
        "    # 가중치를 업데이트합니다.\n",
        "    self.optimizer.apply_gradients(zip(grads, weights_list))  \n",
        "\n",
        "  def predict(self, x):\n",
        "    z = self.forpass(x)\n",
        "    # 가장 큰 값의 인덱스를 반환합니다.\n",
        "    return np.argmax(z.numpy(), axis=1) # 정방향 계산으로 얻은 출력값인 Tensor 객체를 넘파이 배열로 바꿈\n",
        "\n",
        "  def score(self, x, y):\n",
        "    # 예측과 타깃 열 벡터를 비교하여 True의 비율을 반환합니다.\n",
        "    return np.mean(self.predict(x) == np.argmax(y, axis=1))\n",
        "\n",
        "  def get_loss(self, x, y):\n",
        "    # 정방향 계산을 수행합니다.\n",
        "    z = self.forpass(x)\n",
        "    # 손실을 계산하여 저장합니다.\n",
        "    loss = tf.reduce_mean(tf.nn.softmax_cross_entropy_with_logits(y, z))\n",
        "    return loss.numpy()"
      ],
      "metadata": {
        "id": "gcpxF2h12tW4"
      },
      "execution_count": 10,
      "outputs": []
    },
    {
      "cell_type": "markdown",
      "source": [
        "# 합성곱 신경망 훈련하기"
      ],
      "metadata": {
        "id": "IaV_aKu25So-"
      }
    },
    {
      "cell_type": "code",
      "source": [
        "# 데이터 세트 불러오기\n",
        "(x_train_all, y_train_all), (x_test, y_test) = tf.keras.datasets.fashion_mnist.load_data()\n",
        "\n",
        "# 훈련 세트와 검증 세트로 나누기\n",
        "from sklearn.model_selection import train_test_split\n",
        "x_train, x_val, y_train, y_val = train_test_split(x_train_all, y_train_all, stratify=y_train_all, test_size=0.2, random_state=42)\n",
        "\n",
        "# 타깃을 원-핫 인코딩으로 변환\n",
        "y_train_encoded = tf.keras.utils.to_categorical(y_train)\n",
        "y_val_encoded = tf.keras.utils.to_categorical(y_val)\n",
        "\n",
        "# 입력 데이터 준비하기 (일렬로 펼칠 필요 없음, 컬러 채널만 추가)\n",
        "x_train = x_train.reshape(-1, 28, 28, 1)\n",
        "x_val = x_val.reshape(-1, 28, 28, 1)\n",
        "print(x_train.shape)\n",
        "\n",
        "# 입력 데이터 표준화 전처리\n",
        "x_train = x_train / 255\n",
        "x_val = x_val / 255"
      ],
      "metadata": {
        "colab": {
          "base_uri": "https://localhost:8080/"
        },
        "id": "VAWHDODr5ZaV",
        "outputId": "3888d08d-333b-41c2-f819-6519490dcc45"
      },
      "execution_count": 6,
      "outputs": [
        {
          "output_type": "stream",
          "name": "stdout",
          "text": [
            "(48000, 28, 28, 1)\n"
          ]
        }
      ]
    },
    {
      "cell_type": "markdown",
      "source": [
        "모델 훈련하기\n",
        "- 합성곱 커널 10개\n",
        "- 완전 연결층의 뉴런 100개\n",
        "- 배치 크기 128개\n",
        "- 학습률 0.01"
      ],
      "metadata": {
        "id": "LDd5078l5ZAb"
      }
    },
    {
      "cell_type": "code",
      "source": [
        "cn = ConvolutionNetwork(n_kernels=10, units=100, batch_size=128, learning_rate=0.01)\n",
        "cn.fit(x_train, y_train_encoded, x_val=x_val, y_val=y_val_encoded, epochs=20)"
      ],
      "metadata": {
        "colab": {
          "base_uri": "https://localhost:8080/"
        },
        "id": "D763RBrg6fA9",
        "outputId": "ffcccbec-d7a2-4538-ff02-caabe49369df"
      },
      "execution_count": 12,
      "outputs": [
        {
          "output_type": "stream",
          "name": "stdout",
          "text": [
            "에포크 0 .......................................................................................................................................................................................................................................................................................................................................................................................\n",
            "에포크 1 .......................................................................................................................................................................................................................................................................................................................................................................................\n",
            "에포크 2 .......................................................................................................................................................................................................................................................................................................................................................................................\n",
            "에포크 3 .......................................................................................................................................................................................................................................................................................................................................................................................\n",
            "에포크 4 .......................................................................................................................................................................................................................................................................................................................................................................................\n",
            "에포크 5 .......................................................................................................................................................................................................................................................................................................................................................................................\n",
            "에포크 6 .......................................................................................................................................................................................................................................................................................................................................................................................\n",
            "에포크 7 .......................................................................................................................................................................................................................................................................................................................................................................................\n",
            "에포크 8 .......................................................................................................................................................................................................................................................................................................................................................................................\n",
            "에포크 9 .......................................................................................................................................................................................................................................................................................................................................................................................\n",
            "에포크 10 .......................................................................................................................................................................................................................................................................................................................................................................................\n",
            "에포크 11 .......................................................................................................................................................................................................................................................................................................................................................................................\n",
            "에포크 12 .......................................................................................................................................................................................................................................................................................................................................................................................\n",
            "에포크 13 .......................................................................................................................................................................................................................................................................................................................................................................................\n",
            "에포크 14 .......................................................................................................................................................................................................................................................................................................................................................................................\n",
            "에포크 15 .......................................................................................................................................................................................................................................................................................................................................................................................\n",
            "에포크 16 .......................................................................................................................................................................................................................................................................................................................................................................................\n",
            "에포크 17 .......................................................................................................................................................................................................................................................................................................................................................................................\n",
            "에포크 18 .......................................................................................................................................................................................................................................................................................................................................................................................\n",
            "에포크 19 .......................................................................................................................................................................................................................................................................................................................................................................................\n"
          ]
        }
      ]
    },
    {
      "cell_type": "markdown",
      "source": [
        "훈련, 검증 손실 그래프 & 검증 세트 정확도 확인"
      ],
      "metadata": {
        "id": "Tcm4gh4e6-E-"
      }
    },
    {
      "cell_type": "code",
      "source": [
        "import matplotlib.pyplot as plt\n",
        "\n",
        "plt.plot(cn.losses)\n",
        "plt.plot(cn.val_losses)\n",
        "plt.ylabel('loss')\n",
        "plt.xlabel('iteration')\n",
        "plt.legend(['train_loss', 'val_loss'])\n",
        "plt.show()"
      ],
      "metadata": {
        "colab": {
          "base_uri": "https://localhost:8080/",
          "height": 279
        },
        "id": "vXccujc57C9K",
        "outputId": "e74ede57-a19d-4e94-fc41-e17a3389b832"
      },
      "execution_count": 13,
      "outputs": [
        {
          "output_type": "display_data",
          "data": {
            "text/plain": [
              "<Figure size 432x288 with 1 Axes>"
            ],
            "image/png": "[encoded data removed]"
          },
          "metadata": {
            "needs_background": "light"
          }
        }
      ]
    },
    {
      "cell_type": "code",
      "source": [
        "cn.score(x_val, y_val_encoded)"
      ],
      "metadata": {
        "colab": {
          "base_uri": "https://localhost:8080/"
        },
        "id": "_b5h6HuI9RP4",
        "outputId": "3901be65-0822-41e7-bba7-c530d4ea1d4a"
      },
      "execution_count": 14,
      "outputs": [
        {
          "output_type": "execute_result",
          "data": {
            "text/plain": [
              "0.867"
            ]
          },
          "metadata": {},
          "execution_count": 14
        }
      ]
    }
  ]
}