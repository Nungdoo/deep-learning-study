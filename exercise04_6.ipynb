{
  "nbformat": 4,
  "nbformat_minor": 0,
  "metadata": {
    "colab": {
      "name": "exercise04-6.ipynb",
      "provenance": [],
      "toc_visible": true,
      "authorship_tag": "ABX9TyPlR0Y2NfXG+NwtkKXLQKhY",
      "include_colab_link": true
    },
    "kernelspec": {
      "name": "python3",
      "display_name": "Python 3"
    },
    "language_info": {
      "name": "python"
    }
  },
  "cells": [
    {
      "cell_type": "markdown",
      "metadata": {
        "id": "view-in-github",
        "colab_type": "text"
      },
      "source": [
        "<a href=\"https://colab.research.google.com/github/Nungdoo/deep-learning-study/blob/main/exercise04_6.ipynb\" target=\"_parent\"><img src=\"https://colab.research.google.com/assets/colab-badge.svg\" alt=\"Open In Colab\"/></a>"
      ]
    },
    {
      "cell_type": "markdown",
      "source": [
        "# 단일층 신경망 구현하기"
      ],
      "metadata": {
        "id": "3kq4SEOd-EgP"
      }
    },
    {
      "cell_type": "markdown",
      "source": [
        "손실 함수의 결괏값 저장 기능 추가\n",
        "- __init__()에서 손실 함수의 결괏값을 저장할 리스트 self.losses 초기화\n",
        "- 샘플마다 손실 함수를 계산하고 그 평균값을 self.losses 에 저장"
      ],
      "metadata": {
        "id": "uXvE7S5--Ur_"
      }
    },
    {
      "cell_type": "markdown",
      "source": [
        "에포크마다 샘플 순서 섞기\n",
        "- np.random.permutation() 함수를 사용하여 indexes 배열을 생성하고 이 순서에 따라 훈련\n",
        "- np.random.permutation() : 입력 배열을 무작위로 섞은 새로운 배열을 반환\n",
        "- np.random.suffle() : 입력 배열을 무작위로 섞음"
      ],
      "metadata": {
        "id": "KpHokvwYIu3W"
      }
    },
    {
      "cell_type": "markdown",
      "source": [
        "predict() 함수 수정\n",
        "- 시그모이드 함수의 출력값(a)은 0~1 사이의 확률값\n",
        "- z가 0보다 크면 a도 0.5보다 크고, z가 0보다 작으면 a도 0.5보다 작아 predict() 함수에서 굳이 a를 활용하지 않아도 됨"
      ],
      "metadata": {
        "id": "YnewOEhkJatK"
      }
    },
    {
      "cell_type": "markdown",
      "source": [
        "정확도 계산 함수 추가 - score()\n",
        "- np.mean() : 입력 배열을 평면화 된 배열로 취급하고 이 배열의 산술 평균을 계산"
      ],
      "metadata": {
        "id": "UWthCndsJC5W"
      }
    },
    {
      "cell_type": "code",
      "execution_count": 1,
      "metadata": {
        "id": "VZFTLAZK9_X7"
      },
      "outputs": [],
      "source": [
        "import numpy as np\n",
        "\n",
        "class SingleLayer:\n",
        "\n",
        "  def __init__(self):\n",
        "    self.w = None\n",
        "    self.b = None\n",
        "    self.losses = []\n",
        "\n",
        "  def forpass(self, x):\n",
        "    z = np.sum(x * self.w) + self.b   # 직선 방정식을 계산합니다.\n",
        "    return z\n",
        "\n",
        "  def backprop(self, x, err):\n",
        "    w_grad = x * err  # 가중치에 대한 그레이디언트를 계산합니다.\n",
        "    b_grad = 1 * err  # 절편에 대한 그레이디언트를 계산합니다.\n",
        "    return w_grad, b_grad\n",
        "\n",
        "  def activation(self, z):\n",
        "    z = np.clip(z, -100, None)  # 안전한 np.exp() 계산을 위해\n",
        "    a = 1 / (1 + np.exp(-z))    # 시그모이드 계산\n",
        "    return a\n",
        "\n",
        "  def fit(self, x, y, epochs=100):\n",
        "    self.w = np.ones(x.shape[1])\n",
        "    self.b = 0\n",
        "    for i in range(epochs):\n",
        "      loss = 0\n",
        "      indexes = np.random.permutation(np.arange(len(x)))  # 인덱스를 섞음\n",
        "      for i in indexes:\n",
        "        z = self.forpass(x[i])   # 정방향 계산\n",
        "        a = self.activation(z)  # 활성화 함수 적용\n",
        "        err = -(y[i] - a)        # 오차 계산\n",
        "        w_grad, b_grad = self.backprop(x[i], err)  # 역방향 계산\n",
        "        self.w -= w_grad\n",
        "        self.b -= b_grad\n",
        "\n",
        "        # 안전한 로그 계산을 위해 클리핑한 후 손실을 누적함\n",
        "        a = np.clip(a, 1e-10, 1-1e-10)\n",
        "        loss += -(y[i]*np.log(a)+(1-y[i])*np.log(1-a))\n",
        "      # 에포크마다 평균 손실을 저장\n",
        "      self.losses.append(loss/len(y))\n",
        "\n",
        "  def predict(self, x):\n",
        "    z = [self.forpass(x_i) for x_i in x]\n",
        "    # a = self.activation(np.array(z))\n",
        "    # return a > 0.5\n",
        "    return np.array(z) > 0\n",
        "\n",
        "  def score(self, x, y):\n",
        "    return np.mean(self.predict(x) == y)\n"
      ]
    },
    {
      "cell_type": "markdown",
      "source": [
        "# 단일층 신경망 훈련하기"
      ],
      "metadata": {
        "id": "wQKyGa5NWc_e"
      }
    },
    {
      "cell_type": "markdown",
      "source": [
        "데이터 준비"
      ],
      "metadata": {
        "id": "AOxHT52fWfa6"
      }
    },
    {
      "cell_type": "code",
      "source": [
        "import numpy as np\n",
        "from sklearn.datasets import load_breast_cancer\n",
        "from sklearn.model_selection import train_test_split\n",
        "\n",
        "cancer = load_breast_cancer()\n",
        "\n",
        "x = cancer.data\n",
        "y = cancer.target\n",
        "x_train, x_test, y_train, y_test = train_test_split(x, y, stratify=y, test_size=0.2, random_state=42)"
      ],
      "metadata": {
        "id": "4h7DJqLnWgRj"
      },
      "execution_count": 2,
      "outputs": []
    },
    {
      "cell_type": "markdown",
      "source": [
        "훈련하기"
      ],
      "metadata": {
        "id": "BL660aCQWpt0"
      }
    },
    {
      "cell_type": "code",
      "source": [
        "layer = SingleLayer()\n",
        "layer.fit(x_train, y_train)\n",
        "layer.score(x_test, y_test)"
      ],
      "metadata": {
        "colab": {
          "base_uri": "https://localhost:8080/"
        },
        "id": "J3vUA4i8Wqlb",
        "outputId": "bff8e077-2e2a-419c-effd-6ac2f9e2b323"
      },
      "execution_count": 5,
      "outputs": [
        {
          "output_type": "execute_result",
          "data": {
            "text/plain": [
              "0.9298245614035088"
            ]
          },
          "metadata": {},
          "execution_count": 5
        }
      ]
    },
    {
      "cell_type": "markdown",
      "source": [
        "손실 함수 누적값 확인하기"
      ],
      "metadata": {
        "id": "-lx7aukgYYPL"
      }
    },
    {
      "cell_type": "code",
      "source": [
        "import matplotlib.pyplot as plt\n",
        "\n",
        "plt.plot(layer.losses)\n",
        "plt.xlabel('epoch')\n",
        "plt.ylabel('loss')\n",
        "plt.show()"
      ],
      "metadata": {
        "colab": {
          "base_uri": "https://localhost:8080/",
          "height": 279
        },
        "id": "2MDBolDUYbN9",
        "outputId": "303c7897-44f1-4720-df34-e68e5d25120d"
      },
      "execution_count": 6,
      "outputs": [
        {
          "output_type": "display_data",
          "data": {
            "text/plain": [
              "<Figure size 432x288 with 1 Axes>"
            ],
            "image/png": "[encoded data removed]"
          },
          "metadata": {
            "needs_background": "light"
          }
        }
      ]
    }
  ]
}