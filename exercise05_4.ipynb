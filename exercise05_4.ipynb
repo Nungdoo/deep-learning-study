{
  "nbformat": 4,
  "nbformat_minor": 0,
  "metadata": {
    "colab": {
      "name": "exercise05-4.ipynb",
      "provenance": [],
      "toc_visible": true,
      "authorship_tag": "ABX9TyN6FZLxJ143gKZlajq98ghd",
      "include_colab_link": true
    },
    "kernelspec": {
      "name": "python3",
      "display_name": "Python 3"
    },
    "language_info": {
      "name": "python"
    }
  },
  "cells": [
    {
      "cell_type": "markdown",
      "metadata": {
        "id": "view-in-github",
        "colab_type": "text"
      },
      "source": [
        "<a href=\"https://colab.research.google.com/github/Nungdoo/deep-learning-study/blob/main/exercise05_4.ipynb\" target=\"_parent\"><img src=\"https://colab.research.google.com/assets/colab-badge.svg\" alt=\"Open In Colab\"/></a>"
      ]
    },
    {
      "cell_type": "markdown",
      "source": [
        "# k-폴드 교차 검증 구현"
      ],
      "metadata": {
        "id": "EsIohvrrzufm"
      }
    },
    {
      "cell_type": "code",
      "source": [
        "# 데이터 세팅\n",
        "import numpy as np\n",
        "from sklearn.datasets import load_breast_cancer\n",
        "from sklearn.model_selection import train_test_split\n",
        "\n",
        "cancer = load_breast_cancer()\n",
        "\n",
        "x = cancer.data\n",
        "y = cancer.target\n",
        "x_train_all, x_test, y_train_all, y_test = train_test_split(x, y, stratify=y, test_size=0.2, random_state=42)\n",
        "\n",
        "x_train, x_val, y_train, y_val = train_test_split(x_train_all, y_train_all, stratify=y_train_all, test_size=0.2, random_state=42)\n",
        "\n",
        "train_mean = np.mean(x_train, axis=0)\n",
        "train_std = np.std(x_train, axis=0)\n",
        "x_train_scaled = (x_train - train_mean) / train_std\n",
        "\n",
        "val_mean = np.mean(x_val, axis=0)\n",
        "val_std = np.std(x_val, axis=0)\n",
        "x_val_scaled = (x_val - val_mean) / val_std"
      ],
      "metadata": {
        "id": "epjrDPjkzR11"
      },
      "execution_count": 2,
      "outputs": []
    },
    {
      "cell_type": "code",
      "source": [
        "class SingleLayer:\n",
        "\n",
        "  def __init__(self, learning_rate=0.1, l1=0, l2=0):\n",
        "    self.w = None\n",
        "    self.b = None\n",
        "    self.losses = []\n",
        "    self.val_losses = []              # 검증 손실을 기록하기 위한 변수 추가\n",
        "    self.w_history = []\n",
        "    self.lr = learning_rate\n",
        "    self.l1 = l1\n",
        "    self.l2 = l2\n",
        "\n",
        "  def forpass(self, x):\n",
        "    z = np.sum(x * self.w) + self.b   # 직선 방정식을 계산합니다.\n",
        "    return z\n",
        "\n",
        "  def backprop(self, x, err):\n",
        "    w_grad = x * err  # 가중치에 대한 그레이디언트를 계산합니다.\n",
        "    b_grad = 1 * err  # 절편에 대한 그레이디언트를 계산합니다.\n",
        "    return w_grad, b_grad\n",
        "\n",
        "  def activation(self, z):\n",
        "    z = np.clip(z, -100, None)  # 안전한 np.exp() 계산을 위해\n",
        "    a = 1 / (1 + np.exp(-z))    # 시그모이드 계산\n",
        "    return a\n",
        "\n",
        "  def fit(self, x, y, epochs=100, x_val=None, y_val=None):\n",
        "    self.w = np.ones(x.shape[1])\n",
        "    self.b = 0\n",
        "    self.w_history.append(self.w.copy())                  # 가중치 기록\n",
        "    np.random.seed(42)\n",
        "    for i in range(epochs):\n",
        "      loss = 0\n",
        "      indexes = np.random.permutation(np.arange(len(x)))  # 인덱스를 섞음\n",
        "      for i in indexes:\n",
        "        z = self.forpass(x[i])                            # 정방향 계산\n",
        "        a = self.activation(z)                            # 활성화 함수 적용\n",
        "        err = -(y[i] - a)                                 # 오차 계산\n",
        "        w_grad, b_grad = self.backprop(x[i], err)         # 역방향 계산\n",
        "        # 그레이디언트에서 페널티 항의 미분값을 더합니다.\n",
        "        w_grad += self.l1 * np.sign(self.w) + self.l2 * self.w\n",
        "        self.w -= self.lr * w_grad                        # 가중치 업데이트(학습률 적용)\n",
        "        self.b -= b_grad\n",
        "        self.w_history.append(self.w.copy())              # 가중치 기록\n",
        "        # 안전한 로그 계산을 위해 클리핑한 후 손실을 누적함\n",
        "        a = np.clip(a, 1e-10, 1-1e-10)\n",
        "        loss += -(y[i]*np.log(a)+(1-y[i])*np.log(1-a))\n",
        "      # 에포크마다 평균 손실을 저장\n",
        "      self.losses.append(loss/len(y) + self.reg_loss())\n",
        "      # 검증 세트에 대한 손실을 계산\n",
        "      self.update_val_loss(x_val, y_val)\n",
        "\n",
        "  def predict(self, x):\n",
        "    z = [self.forpass(x_i) for x_i in x]\n",
        "    # a = self.activation(np.array(z))\n",
        "    # return a > 0.5\n",
        "    return np.array(z) > 0\n",
        "\n",
        "  def score(self, x, y):\n",
        "    return np.mean(self.predict(x) == y)\n",
        "\n",
        "  def update_val_loss(self, x_val, y_val):\n",
        "    if x_val is None:\n",
        "      return\n",
        "    val_loss = 0\n",
        "    for i in range(len(x_val)):\n",
        "      z = self.forpass(x_val[i])    # 정방향 계산\n",
        "      a = self.activation(z)        # 활성화 함수 적용\n",
        "      a = np.clip(a, 1e-10, 1-1e-10)\n",
        "      val_loss += -(y_val[i]*np.log(a)+(1-y_val[i])*np.log(1-a))\n",
        "    self.val_losses.append(val_loss/len(y_val) + self.reg_loss())\n",
        "\n",
        "  def reg_loss(self):\n",
        "    return self.l1 * np.sum(np.abs(self.w)) + self.l2 / 2 * np.sum(self.w**2)"
      ],
      "metadata": {
        "id": "nb6uc9fNzc5r"
      },
      "execution_count": 3,
      "outputs": []
    },
    {
      "cell_type": "markdown",
      "source": [
        "폴드를 나눈 후 훈련 데이터의 표준화 전처리 진행\n",
        "\n",
        "그렇지 않으면, 검증 폴드의 정보가 누설됨"
      ],
      "metadata": {
        "id": "HwsjZ4koyHC-"
      }
    },
    {
      "cell_type": "code",
      "execution_count": 5,
      "metadata": {
        "colab": {
          "base_uri": "https://localhost:8080/"
        },
        "id": "cYwmUG93yEZs",
        "outputId": "79d6cf1c-4fc9-490c-9aa3-7a07a96e5449"
      },
      "outputs": [
        {
          "output_type": "stream",
          "name": "stdout",
          "text": [
            "0.9711111111111113\n"
          ]
        }
      ],
      "source": [
        "validation_scores = []\n",
        "\n",
        "k = 10\n",
        "bins = len(x_train_all) // k\n",
        "\n",
        "for i in range(k):\n",
        "  start = i * bins\n",
        "  end = (i+1) * bins\n",
        "  val_fold = x_train_all[start:end]\n",
        "  val_target = y_train_all[start:end]\n",
        "\n",
        "  train_index = list(range(0, start)) + list(range(end, len(x_train_all)))\n",
        "  train_fold = x_train_all[train_index]\n",
        "  train_target = y_train_all[train_index]\n",
        "\n",
        "  train_mean = np.mean(train_fold, axis=0)\n",
        "  train_std = np.std(train_fold, axis=0)\n",
        "  train_fold_scaled = (train_fold - train_mean) / train_std\n",
        "  val_fold_scaled = (val_fold - train_mean) / train_std\n",
        "\n",
        "  lyr = SingleLayer(l2=0.01)\n",
        "  lyr.fit(train_fold_scaled, train_target, epochs=50)\n",
        "  score = lyr.score(val_fold_scaled, val_target)\n",
        "  validation_scores.append(score)\n",
        "\n",
        "print(np.mean(validation_scores))"
      ]
    },
    {
      "cell_type": "markdown",
      "source": [
        "# 사이킷런으로 교차 검증"
      ],
      "metadata": {
        "id": "dkCe6VhE0BaF"
      }
    },
    {
      "cell_type": "markdown",
      "source": [
        "cross_validate 의 매개변수로 검증하려는 모델, 훈련 데이터, 타깃 데이터, 폴드 수 전달"
      ],
      "metadata": {
        "id": "9XxufkMk0_u9"
      }
    },
    {
      "cell_type": "code",
      "source": [
        "from sklearn.linear_model import SGDClassifier\n",
        "from sklearn.model_selection import cross_validate\n",
        "\n",
        "sgd = SGDClassifier(loss='log', penalty='l2', alpha=0.001, random_state=42)\n",
        "scores = cross_validate(sgd, x_train_all, y_train_all, cv=10)\n",
        "print(np.mean(scores['test_score']))"
      ],
      "metadata": {
        "colab": {
          "base_uri": "https://localhost:8080/"
        },
        "id": "sqcr4fyVz5eY",
        "outputId": "46ce0375-63f9-4fc9-c422-603b04208574"
      },
      "execution_count": 7,
      "outputs": [
        {
          "output_type": "stream",
          "name": "stdout",
          "text": [
            "0.850096618357488\n"
          ]
        }
      ]
    },
    {
      "cell_type": "markdown",
      "source": [
        "전처리 단계를 포함해 교차 검증을 해야함\n",
        "\n",
        "사이킷런에서 검증 폴드가 전처리 단계에서 누설되지 않도록, 전처리 단계와 모델 클래스를 하나로 연결해 주는 Pipeline 클래스를 제공함"
      ],
      "metadata": {
        "id": "pZMsCdwY1PZi"
      }
    },
    {
      "cell_type": "code",
      "source": [
        "from sklearn.pipeline import make_pipeline\n",
        "from sklearn.preprocessing import StandardScaler\n",
        "\n",
        "# 표준화 전처리 단계(StandardScaler)와 모델을 PipeLine 클래스로 감쌈\n",
        "# PipeLine 객체 리턴\n",
        "pipe = make_pipeline(StandardScaler(), sgd)\n",
        "\n",
        "# cross_validate은 pipe을 훈련 폴드와 검증 폴드로 나누고\n",
        "# 표준화 전처리 단계(StandardScaler)와 모델은 PipeLine에서 호출하여 검증 폴드가 누설되지 않음\n",
        "scores = cross_validate(pipe, x_train_all, y_train_all, cv=10, return_train_score=True)\n",
        "print(np.mean(scores['test_score']))\n",
        "print(np.mean(scores['train_score']))"
      ],
      "metadata": {
        "colab": {
          "base_uri": "https://localhost:8080/"
        },
        "id": "d2oFdizz1oDr",
        "outputId": "f8ce6341-d341-4c3c-9498-0b2588e96a5e"
      },
      "execution_count": 9,
      "outputs": [
        {
          "output_type": "stream",
          "name": "stdout",
          "text": [
            "0.9694202898550724\n",
            "0.9875478561631581\n"
          ]
        }
      ]
    }
  ]
}