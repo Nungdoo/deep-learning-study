{
  "nbformat": 4,
  "nbformat_minor": 0,
  "metadata": {
    "colab": {
      "name": "exercise05-1.ipynb",
      "provenance": [],
      "toc_visible": true,
      "authorship_tag": "ABX9TyObxkxuIFfuzWdThAhqtxgO",
      "include_colab_link": true
    },
    "kernelspec": {
      "name": "python3",
      "display_name": "Python 3"
    },
    "language_info": {
      "name": "python"
    }
  },
  "cells": [
    {
      "cell_type": "markdown",
      "metadata": {
        "id": "view-in-github",
        "colab_type": "text"
      },
      "source": [
        "<a href=\"https://colab.research.google.com/github/Nungdoo/deep-learning-study/blob/main/exercise05_1.ipynb\" target=\"_parent\"><img src=\"https://colab.research.google.com/assets/colab-badge.svg\" alt=\"Open In Colab\"/></a>"
      ]
    },
    {
      "cell_type": "markdown",
      "source": [
        "# 검증 세트 나누기"
      ],
      "metadata": {
        "id": "q-7kM4Zoutks"
      }
    },
    {
      "cell_type": "markdown",
      "source": [
        "1. 테스트 세트로 모델을 튜닝하기\n",
        "- 로지스틱 회귀로 모델 훈련하고 평가하기"
      ],
      "metadata": {
        "id": "LeQ7_CzipGpf"
      }
    },
    {
      "cell_type": "code",
      "execution_count": 1,
      "metadata": {
        "id": "jWB1DfAlpEcV"
      },
      "outputs": [],
      "source": [
        "from sklearn.datasets import load_breast_cancer\n",
        "from sklearn.model_selection import train_test_split\n",
        "\n",
        "cancer = load_breast_cancer()\n",
        "\n",
        "x = cancer.data\n",
        "y = cancer.target\n",
        "x_train_all, x_test, y_train_all, y_test = train_test_split(x, y, stratify=y, test_size=0.2, random_state=42)"
      ]
    },
    {
      "cell_type": "code",
      "source": [
        "from sklearn.linear_model import SGDClassifier\n",
        "sgd = SGDClassifier(loss='log', random_state=42)\n",
        "sgd.fit(x_train_all, y_train_all)\n",
        "sgd.score(x_test, y_test)"
      ],
      "metadata": {
        "colab": {
          "base_uri": "https://localhost:8080/"
        },
        "id": "poTk109VqVpt",
        "outputId": "d6a4186e-5a66-45b2-a4d8-29494f6fa811"
      },
      "execution_count": 2,
      "outputs": [
        {
          "output_type": "execute_result",
          "data": {
            "text/plain": [
              "0.8333333333333334"
            ]
          },
          "metadata": {},
          "execution_count": 2
        }
      ]
    },
    {
      "cell_type": "markdown",
      "source": [
        "- 서포트 벡터 머신으로 모델 훈련하고 평가하기"
      ],
      "metadata": {
        "id": "p7iKK-9NqVV1"
      }
    },
    {
      "cell_type": "code",
      "source": [
        "from sklearn.linear_model import SGDClassifier\n",
        "sgd = SGDClassifier(loss='hinge', random_state=42)\n",
        "sgd.fit(x_train_all, y_train_all)\n",
        "sgd.score(x_test, y_test)"
      ],
      "metadata": {
        "colab": {
          "base_uri": "https://localhost:8080/"
        },
        "id": "hnXikQjvqwoQ",
        "outputId": "5fcf1d93-63a4-4f8d-bfa3-5609894bfe31"
      },
      "execution_count": 3,
      "outputs": [
        {
          "output_type": "execute_result",
          "data": {
            "text/plain": [
              "0.9385964912280702"
            ]
          },
          "metadata": {},
          "execution_count": 3
        }
      ]
    },
    {
      "cell_type": "markdown",
      "source": [
        "2. 검증 세트를 분리하여 모델 튜닝하기\n",
        "\n",
        "- 데이터 양이 적고 훈련 세트의 크기가 적어져 점수가 낮아짐"
      ],
      "metadata": {
        "id": "Gk5xkCbhrJNa"
      }
    },
    {
      "cell_type": "code",
      "source": [
        "from sklearn.datasets import load_breast_cancer\n",
        "from sklearn.model_selection import train_test_split\n",
        "\n",
        "cancer = load_breast_cancer()\n",
        "\n",
        "x = cancer.data\n",
        "y = cancer.target\n",
        "x_train_all, x_test, y_train_all, y_test = train_test_split(x, y, stratify=y, test_size=0.2, random_state=42)\n",
        "\n",
        "x_train, x_val, y_train, y_val = train_test_split(x_train_all, y_train_all, stratify=y_train_all, test_size=0.2, random_state=42)\n",
        "print(len(x_train), len(x_val))\n",
        "\n",
        "sgd = SGDClassifier(loss='log', random_state=42)\n",
        "sgd.fit(x_train, y_train)\n",
        "sgd.score(x_val, y_val)"
      ],
      "metadata": {
        "colab": {
          "base_uri": "https://localhost:8080/"
        },
        "id": "IlO1cXyNsoIJ",
        "outputId": "85915e86-e5dc-4ec6-92a1-a627214e7e29"
      },
      "execution_count": 5,
      "outputs": [
        {
          "output_type": "stream",
          "name": "stdout",
          "text": [
            "364 91\n"
          ]
        },
        {
          "output_type": "execute_result",
          "data": {
            "text/plain": [
              "0.6923076923076923"
            ]
          },
          "metadata": {},
          "execution_count": 5
        }
      ]
    },
    {
      "cell_type": "markdown",
      "source": [
        "# 전처리하기"
      ],
      "metadata": {
        "id": "Ib7TSVSdu-_K"
      }
    },
    {
      "cell_type": "markdown",
      "source": [
        "1. 스케일 조정없이 모델 훈련\n",
        "\n",
        "스케일 차이가 큰 특성을 가져옴"
      ],
      "metadata": {
        "id": "BQTOAYWBvEw6"
      }
    },
    {
      "cell_type": "code",
      "source": [
        "import matplotlib.pyplot as plt\n",
        "\n",
        "print(cancer.feature_names[[2,3]])\n",
        "plt.boxplot(x_train[:, 2:4])\n",
        "plt.xlabel('feature')\n",
        "plt.ylabel('value')\n",
        "plt.show()"
      ],
      "metadata": {
        "colab": {
          "base_uri": "https://localhost:8080/",
          "height": 298
        },
        "id": "eap68rb5vOiQ",
        "outputId": "43979056-2d6c-49e5-d910-f5cf3360418a"
      },
      "execution_count": 7,
      "outputs": [
        {
          "output_type": "stream",
          "name": "stdout",
          "text": [
            "['mean perimeter' 'mean area']\n"
          ]
        },
        {
          "output_type": "display_data",
          "data": {
            "text/plain": [
              "<Figure size 432x288 with 1 Axes>"
            ],
            "image/png": "[encoded data removed]"
          },
          "metadata": {
            "needs_background": "light"
          }
        }
      ]
    },
    {
      "cell_type": "markdown",
      "source": [
        "가중치의 변화를 관찰하기 위한 w_history와\n",
        "\n",
        "가중치의 업데이트 양을 조절하기 위한 학습률 변수 learning_rate 추가\n",
        "- 가중치를 너무 큰 폭으로 업데이트하는 경우, 손실 함수가 최소가 되는 지점(전역 최솟값)을 지나칠 수 있음\n",
        "- 전역 최솟값을 놓치지 않도록 가중치의 업데이트 양을 조절해야 함"
      ],
      "metadata": {
        "id": "VExx0zj3wjpI"
      }
    },
    {
      "cell_type": "code",
      "source": [
        "import numpy as np\n",
        "\n",
        "class SingleLayer:\n",
        "\n",
        "  def __init__(self, learning_rate=0.1):\n",
        "    self.w = None\n",
        "    self.b = None\n",
        "    self.losses = []\n",
        "    self.w_history = []\n",
        "    self.lr = learning_rate\n",
        "\n",
        "  def forpass(self, x):\n",
        "    z = np.sum(x * self.w) + self.b   # 직선 방정식을 계산합니다.\n",
        "    return z\n",
        "\n",
        "  def backprop(self, x, err):\n",
        "    w_grad = x * err  # 가중치에 대한 그레이디언트를 계산합니다.\n",
        "    b_grad = 1 * err  # 절편에 대한 그레이디언트를 계산합니다.\n",
        "    return w_grad, b_grad\n",
        "\n",
        "  def activation(self, z):\n",
        "    z = np.clip(z, -100, None)  # 안전한 np.exp() 계산을 위해\n",
        "    a = 1 / (1 + np.exp(-z))    # 시그모이드 계산\n",
        "    return a\n",
        "\n",
        "  def fit(self, x, y, epochs=100):\n",
        "    self.w = np.ones(x.shape[1])\n",
        "    self.b = 0\n",
        "    self.w_history.append(self.w.copy())                  # 가중치 기록\n",
        "    np.random.seed(42)\n",
        "    for i in range(epochs):\n",
        "      loss = 0\n",
        "      indexes = np.random.permutation(np.arange(len(x)))  # 인덱스를 섞음\n",
        "      for i in indexes:\n",
        "        z = self.forpass(x[i])                            # 정방향 계산\n",
        "        a = self.activation(z)                            # 활성화 함수 적용\n",
        "        err = -(y[i] - a)                                 # 오차 계산\n",
        "        w_grad, b_grad = self.backprop(x[i], err)         # 역방향 계산\n",
        "        self.w -= self.lr * w_grad                        # 가중치 업데이트(학습률 적용)\n",
        "        self.b -= b_grad\n",
        "\n",
        "        self.w_history.append(self.w.copy())              # 가중치 기록\n",
        "        \n",
        "        # 안전한 로그 계산을 위해 클리핑한 후 손실을 누적함\n",
        "        a = np.clip(a, 1e-10, 1-1e-10)\n",
        "        loss += -(y[i]*np.log(a)+(1-y[i])*np.log(1-a))\n",
        "      # 에포크마다 평균 손실을 저장\n",
        "      self.losses.append(loss/len(y))\n",
        "\n",
        "  def predict(self, x):\n",
        "    z = [self.forpass(x_i) for x_i in x]\n",
        "    # a = self.activation(np.array(z))\n",
        "    # return a > 0.5\n",
        "    return np.array(z) > 0\n",
        "\n",
        "  def score(self, x, y):\n",
        "    return np.mean(self.predict(x) == y)\n"
      ],
      "metadata": {
        "id": "_b2OqhtAwQg9"
      },
      "execution_count": 8,
      "outputs": []
    },
    {
      "cell_type": "markdown",
      "source": [
        "스케일 조정하지 않은 훈련 세트를 사용하기"
      ],
      "metadata": {
        "id": "Zout7UkZwLhA"
      }
    },
    {
      "cell_type": "code",
      "source": [
        "layer1 = SingleLayer()\n",
        "layer1.fit(x_train, y_train)\n",
        "layer1.score(x_val, y_val)"
      ],
      "metadata": {
        "colab": {
          "base_uri": "https://localhost:8080/"
        },
        "id": "LMnO6KEuyaN8",
        "outputId": "55be4d10-5f24-451b-cbab-f990878874ef"
      },
      "execution_count": 9,
      "outputs": [
        {
          "output_type": "execute_result",
          "data": {
            "text/plain": [
              "0.9120879120879121"
            ]
          },
          "metadata": {},
          "execution_count": 9
        }
      ]
    },
    {
      "cell_type": "markdown",
      "source": [
        "w[3](mean area)의 값이 큰 폭으로 흔들리며 변화함\n",
        "\n",
        "모델이 불안정하게 수렴함"
      ],
      "metadata": {
        "id": "vBT2TEGxzRuF"
      }
    },
    {
      "cell_type": "code",
      "source": [
        "w2 = []\n",
        "w3 = []\n",
        "for w in layer1.w_history:\n",
        "  w2.append(w[2])\n",
        "  w3.append(w[3])\n",
        "plt.plot(w2, w3)\n",
        "plt.plot(w2[-1], w3[-1], 'ro')\n",
        "plt.xlabel('w[2]')\n",
        "plt.ylabel('w[3]')\n",
        "plt.show()"
      ],
      "metadata": {
        "colab": {
          "base_uri": "https://localhost:8080/",
          "height": 279
        },
        "id": "7YAS1EzaytuA",
        "outputId": "29fbcb12-f231-49b6-e197-1ab1e6a22312"
      },
      "execution_count": 11,
      "outputs": [
        {
          "output_type": "display_data",
          "data": {
            "text/plain": [
              "<Figure size 432x288 with 1 Axes>"
            ],
            "image/png": "[encoded data removed]"
          },
          "metadata": {
            "needs_background": "light"
          }
        }
      ]
    },
    {
      "cell_type": "markdown",
      "source": [
        "2. 스케일 조정하여 모델 훈련\n",
        "\n",
        "신경망에서 자주 사용하는 스케일 조정 방법 중 하나인 '표준화'\n",
        "\n",
        "특성값에서 평균을 빼고 표준 편차로 나눔"
      ],
      "metadata": {
        "id": "1wDfOgAzze-E"
      }
    },
    {
      "cell_type": "code",
      "source": [
        "train_mean = np.mean(x_train, axis=0)\n",
        "train_std = np.std(x_train, axis=0)\n",
        "x_train_scaled = (x_train - train_mean) / train_std\n",
        "\n",
        "layer2 = SingleLayer()\n",
        "layer2.fit(x_train_scaled, y_train)\n",
        "\n",
        "w2 = []\n",
        "w3 = []\n",
        "for w in layer2.w_history:\n",
        "  w2.append(w[2])\n",
        "  w3.append(w[3])\n",
        "\n",
        "plt.plot(w2, w3)\n",
        "plt.plot(w2[-1], w3[-1], 'ro')\n",
        "plt.xlabel('w[2]')\n",
        "plt.ylabel('w[3]')\n",
        "plt.show()"
      ],
      "metadata": {
        "colab": {
          "base_uri": "https://localhost:8080/",
          "height": 279
        },
        "id": "VxoB0RnC0YGn",
        "outputId": "c86e7552-e38c-4268-b742-199ad9253318"
      },
      "execution_count": 13,
      "outputs": [
        {
          "output_type": "display_data",
          "data": {
            "text/plain": [
              "<Figure size 432x288 with 1 Axes>"
            ],
            "image/png": "[encoded data removed]"
          },
          "metadata": {
            "needs_background": "light"
          }
        }
      ]
    },
    {
      "cell_type": "markdown",
      "source": [
        "w2와 w3의 변화율이 비슷해 대각선 방향으로 가중치 이동\n",
        "\n",
        "최적값에 빠르게 근접"
      ],
      "metadata": {
        "id": "7PkwSB1f1ZVw"
      }
    },
    {
      "cell_type": "code",
      "source": [
        "layer2.score(x_val, y_val)"
      ],
      "metadata": {
        "colab": {
          "base_uri": "https://localhost:8080/"
        },
        "id": "s0TOqPU01jS3",
        "outputId": "d4802f0c-8528-45ba-ad47-17036851baf2"
      },
      "execution_count": 14,
      "outputs": [
        {
          "output_type": "execute_result",
          "data": {
            "text/plain": [
              "0.37362637362637363"
            ]
          },
          "metadata": {},
          "execution_count": 14
        }
      ]
    },
    {
      "cell_type": "markdown",
      "source": [
        "검증 세트에도 표준화 전처리 적용"
      ],
      "metadata": {
        "id": "wqU7CFJW1pT-"
      }
    },
    {
      "cell_type": "code",
      "source": [
        "val_mean = np.mean(x_val, axis=0)\n",
        "val_std = np.std(x_val, axis=0)\n",
        "x_val_scaled = (x_val - val_mean) / val_std\n",
        "layer2.score(x_val_scaled, y_val)"
      ],
      "metadata": {
        "colab": {
          "base_uri": "https://localhost:8080/"
        },
        "id": "oMNdY1ZC1sD0",
        "outputId": "ed85d22c-45bc-4628-a001-1814813a693c"
      },
      "execution_count": 15,
      "outputs": [
        {
          "output_type": "execute_result",
          "data": {
            "text/plain": [
              "0.967032967032967"
            ]
          },
          "metadata": {},
          "execution_count": 15
        }
      ]
    },
    {
      "cell_type": "markdown",
      "source": [
        "훈련 세트와 검증 세트는 같은 비율로 스케일 조정이 되어야 함\n",
        "\n",
        "올바르게 검증 세트 전처리하기\n",
        "- 훈련 세트의 평균, 표준 편차를 이용해 검증 세트를 변환"
      ],
      "metadata": {
        "id": "5m07EUrW2Y--"
      }
    },
    {
      "cell_type": "code",
      "source": [
        "x_val_scaled = (x_val - train_mean) / train_std\n",
        "plt.plot(x_train_scaled[:50, 0], x_train_scaled[:50, 1], 'bo')\n",
        "plt.plot(x_val_scaled[:50, 0], x_val_scaled[:50, 1], 'ro')\n",
        "plt.xlabel('feature 1')\n",
        "plt.ylabel('feature 2')\n",
        "plt.legend(['train set', 'val. set'])\n",
        "plt.show()"
      ],
      "metadata": {
        "colab": {
          "base_uri": "https://localhost:8080/",
          "height": 279
        },
        "id": "NYvyMXZQ2x3H",
        "outputId": "cf9401ae-8378-4af4-abb4-5362ab5486b7"
      },
      "execution_count": 16,
      "outputs": [
        {
          "output_type": "display_data",
          "data": {
            "text/plain": [
              "<Figure size 432x288 with 1 Axes>"
            ],
            "image/png": "[encoded data removed]"
          },
          "metadata": {
            "needs_background": "light"
          }
        }
      ]
    },
    {
      "cell_type": "code",
      "source": [
        "layer2.score(x_val_scaled, y_val)"
      ],
      "metadata": {
        "colab": {
          "base_uri": "https://localhost:8080/"
        },
        "id": "U1h0d6iF3W5j",
        "outputId": "b9f1bbfd-25f0-449c-fa24-79e79cba20c7"
      },
      "execution_count": 17,
      "outputs": [
        {
          "output_type": "execute_result",
          "data": {
            "text/plain": [
              "0.967032967032967"
            ]
          },
          "metadata": {},
          "execution_count": 17
        }
      ]
    }
  ]
}